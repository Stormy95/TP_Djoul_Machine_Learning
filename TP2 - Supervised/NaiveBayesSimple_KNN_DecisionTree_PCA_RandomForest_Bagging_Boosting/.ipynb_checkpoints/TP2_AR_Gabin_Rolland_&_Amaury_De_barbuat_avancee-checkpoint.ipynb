{
 "cells": [
  {
   "cell_type": "markdown",
   "metadata": {
    "toc": true
   },
   "source": [
    "<h1>Table of Contents<span class=\"tocSkip\"></span></h1>\n",
    "<div class=\"toc\"><ul class=\"toc-item\"><li><span><a href=\"#Apprentissage-supervisé-:-Feature-engineering-et-Classification\" data-toc-modified-id=\"Apprentissage-supervisé-:-Feature-engineering-et-Classification-1\"><span class=\"toc-item-num\">1&nbsp;&nbsp;</span>Apprentissage supervisé : Feature engineering et Classification</a></span><ul class=\"toc-item\"><li><span><a href=\"#Chargement-des-données-et-préparation\" data-toc-modified-id=\"Chargement-des-données-et-préparation-1.1\"><span class=\"toc-item-num\">1.1&nbsp;&nbsp;</span>Chargement des données et préparation</a></span></li><li><span><a href=\"#Apprentissage-et-évaluation-des-données.\" data-toc-modified-id=\"Apprentissage-et-évaluation-des-données.-1.2\"><span class=\"toc-item-num\">1.2&nbsp;&nbsp;</span>Apprentissage et évaluation des données.</a></span><ul class=\"toc-item\"><li><span><a href=\"#CART\" data-toc-modified-id=\"CART-1.2.1\"><span class=\"toc-item-num\">1.2.1&nbsp;&nbsp;</span>CART</a></span></li><li><span><a href=\"#k-plus-proches-voisins-(k=5)\" data-toc-modified-id=\"k-plus-proches-voisins-(k=5)-1.2.2\"><span class=\"toc-item-num\">1.2.2&nbsp;&nbsp;</span>k-plus-proches-voisins (k=5)</a></span></li><li><span><a href=\"#Comparaison-des-performances\" data-toc-modified-id=\"Comparaison-des-performances-1.2.3\"><span class=\"toc-item-num\">1.2.3&nbsp;&nbsp;</span>Comparaison des performances</a></span></li></ul></li><li><span><a href=\"#Normalisation-des-variables-continues.\" data-toc-modified-id=\"Normalisation-des-variables-continues.-1.3\"><span class=\"toc-item-num\">1.3&nbsp;&nbsp;</span>Normalisation des variables continues.</a></span></li><li><span><a href=\"#Création-de-nouvelles-variables-caractéristiques-par-combinaisons-linéaires-des-variables-initiales\" data-toc-modified-id=\"Création-de-nouvelles-variables-caractéristiques-par-combinaisons-linéaires-des-variables-initiales-1.4\"><span class=\"toc-item-num\">1.4&nbsp;&nbsp;</span>Création de nouvelles variables caractéristiques par combinaisons linéaires des variables initiales</a></span></li><li><span><a href=\"#Sélection-de-variables\" data-toc-modified-id=\"Sélection-de-variables-1.5\"><span class=\"toc-item-num\">1.5&nbsp;&nbsp;</span>Sélection de variables</a></span></li><li><span><a href=\"#Paramétrage-des-classifieurs\" data-toc-modified-id=\"Paramétrage-des-classifieurs-1.6\"><span class=\"toc-item-num\">1.6&nbsp;&nbsp;</span>Paramétrage des classifieurs</a></span></li><li><span><a href=\"#Création-d’un-pipeline\" data-toc-modified-id=\"Création-d’un-pipeline-1.7\"><span class=\"toc-item-num\">1.7&nbsp;&nbsp;</span>Création d’un pipeline</a></span></li><li><span><a href=\"#Comparaison-de-plusieurs-algorithmes-d’apprentissage\" data-toc-modified-id=\"Comparaison-de-plusieurs-algorithmes-d’apprentissage-1.8\"><span class=\"toc-item-num\">1.8&nbsp;&nbsp;</span>Comparaison de plusieurs algorithmes d’apprentissage</a></span><ul class=\"toc-item\"><li><span><a href=\"#Naive-Bayes-Simple\" data-toc-modified-id=\"Naive-Bayes-Simple-1.8.1\"><span class=\"toc-item-num\">1.8.1&nbsp;&nbsp;</span>Naive Bayes Simple</a></span></li></ul></li></ul></li><li><span><a href=\"#Apprentissage-supervisé-:-Données-hétérogènes\" data-toc-modified-id=\"Apprentissage-supervisé-:-Données-hétérogènes-2\"><span class=\"toc-item-num\">2&nbsp;&nbsp;</span>Apprentissage supervisé : Données hétérogènes</a></span><ul class=\"toc-item\"><li><span><a href=\"#Chargement-des-données-et-préparation\" data-toc-modified-id=\"Chargement-des-données-et-préparation-2.1\"><span class=\"toc-item-num\">2.1&nbsp;&nbsp;</span>Chargement des données et préparation</a></span></li></ul></li></ul></div>"
   ]
  },
  {
   "cell_type": "markdown",
   "metadata": {
    "id": "Ge9vMLk54WhB"
   },
   "source": [
    "**Élèves :**\n",
    "- Gabin Rolland\n",
    "- Amaury De Barbuat"
   ]
  },
  {
   "cell_type": "markdown",
   "metadata": {
    "id": "treF8Wu34hp5"
   },
   "source": [
    "# Atelier 2 : Apprentissage supervisé avec Python\n",
    "\n",
    "## Apprentissage supervisé : Feature engineering et Classification\n",
    "-------\n",
    "\n",
    "### Chargement des données et préparation"
   ]
  },
  {
   "cell_type": "code",
   "execution_count": 1,
   "metadata": {
    "id": "aY-hrLs34Ojz"
   },
   "outputs": [
    {
     "name": "stderr",
     "output_type": "stream",
     "text": [
      "In /Users/gabin/opt/anaconda3/lib/python3.7/site-packages/matplotlib/mpl-data/stylelib/_classic_test.mplstyle: \n",
      "The text.latex.preview rcparam was deprecated in Matplotlib 3.3 and will be removed two minor releases later.\n",
      "In /Users/gabin/opt/anaconda3/lib/python3.7/site-packages/matplotlib/mpl-data/stylelib/_classic_test.mplstyle: \n",
      "The mathtext.fallback_to_cm rcparam was deprecated in Matplotlib 3.3 and will be removed two minor releases later.\n",
      "In /Users/gabin/opt/anaconda3/lib/python3.7/site-packages/matplotlib/mpl-data/stylelib/_classic_test.mplstyle: Support for setting the 'mathtext.fallback_to_cm' rcParam is deprecated since 3.3 and will be removed two minor releases later; use 'mathtext.fallback : 'cm' instead.\n",
      "In /Users/gabin/opt/anaconda3/lib/python3.7/site-packages/matplotlib/mpl-data/stylelib/_classic_test.mplstyle: \n",
      "The validate_bool_maybe_none function was deprecated in Matplotlib 3.3 and will be removed two minor releases later.\n",
      "In /Users/gabin/opt/anaconda3/lib/python3.7/site-packages/matplotlib/mpl-data/stylelib/_classic_test.mplstyle: \n",
      "The savefig.jpeg_quality rcparam was deprecated in Matplotlib 3.3 and will be removed two minor releases later.\n",
      "In /Users/gabin/opt/anaconda3/lib/python3.7/site-packages/matplotlib/mpl-data/stylelib/_classic_test.mplstyle: \n",
      "The keymap.all_axes rcparam was deprecated in Matplotlib 3.3 and will be removed two minor releases later.\n",
      "In /Users/gabin/opt/anaconda3/lib/python3.7/site-packages/matplotlib/mpl-data/stylelib/_classic_test.mplstyle: \n",
      "The animation.avconv_path rcparam was deprecated in Matplotlib 3.3 and will be removed two minor releases later.\n",
      "In /Users/gabin/opt/anaconda3/lib/python3.7/site-packages/matplotlib/mpl-data/stylelib/_classic_test.mplstyle: \n",
      "The animation.avconv_args rcparam was deprecated in Matplotlib 3.3 and will be removed two minor releases later.\n"
     ]
    }
   ],
   "source": [
    "import numpy as np\n",
    "np.set_printoptions(threshold=10000,suppress=True)\n",
    "import pandas as pd\n",
    "import warnings\n",
    "import matplotlib.pyplot as plt\n",
    "warnings.filterwarnings('ignore')"
   ]
  },
  {
   "cell_type": "code",
   "execution_count": 2,
   "metadata": {
    "id": "jMaXZkua5zQU"
   },
   "outputs": [],
   "source": [
    "data = pd.read_csv('credit_scoring.csv', sep=';')"
   ]
  },
  {
   "cell_type": "code",
   "execution_count": 3,
   "metadata": {
    "colab": {
     "base_uri": "https://localhost:8080/",
     "height": 206
    },
    "id": "PtmVfkN_6dyN",
    "outputId": "3599e643-7da9-41cb-950c-daf5bcdcc433"
   },
   "outputs": [
    {
     "data": {
      "text/html": [
       "<div>\n",
       "<style scoped>\n",
       "    .dataframe tbody tr th:only-of-type {\n",
       "        vertical-align: middle;\n",
       "    }\n",
       "\n",
       "    .dataframe tbody tr th {\n",
       "        vertical-align: top;\n",
       "    }\n",
       "\n",
       "    .dataframe thead th {\n",
       "        text-align: right;\n",
       "    }\n",
       "</style>\n",
       "<table border=\"1\" class=\"dataframe\">\n",
       "  <thead>\n",
       "    <tr style=\"text-align: right;\">\n",
       "      <th></th>\n",
       "      <th>Seniority</th>\n",
       "      <th>Home</th>\n",
       "      <th>Time</th>\n",
       "      <th>Age</th>\n",
       "      <th>Marital</th>\n",
       "      <th>Records</th>\n",
       "      <th>Job</th>\n",
       "      <th>Expenses</th>\n",
       "      <th>Income</th>\n",
       "      <th>Assets</th>\n",
       "      <th>Debt</th>\n",
       "      <th>Amount</th>\n",
       "      <th>Price</th>\n",
       "      <th>Status</th>\n",
       "    </tr>\n",
       "  </thead>\n",
       "  <tbody>\n",
       "    <tr>\n",
       "      <td>0</td>\n",
       "      <td>9.0</td>\n",
       "      <td>1.0</td>\n",
       "      <td>60.0</td>\n",
       "      <td>30.0</td>\n",
       "      <td>0.0</td>\n",
       "      <td>1.0</td>\n",
       "      <td>1.0</td>\n",
       "      <td>73.0</td>\n",
       "      <td>129.0</td>\n",
       "      <td>0.0</td>\n",
       "      <td>0.0</td>\n",
       "      <td>800.0</td>\n",
       "      <td>846.0</td>\n",
       "      <td>1</td>\n",
       "    </tr>\n",
       "    <tr>\n",
       "      <td>1</td>\n",
       "      <td>17.0</td>\n",
       "      <td>1.0</td>\n",
       "      <td>60.0</td>\n",
       "      <td>58.0</td>\n",
       "      <td>1.0</td>\n",
       "      <td>1.0</td>\n",
       "      <td>0.0</td>\n",
       "      <td>48.0</td>\n",
       "      <td>131.0</td>\n",
       "      <td>0.0</td>\n",
       "      <td>0.0</td>\n",
       "      <td>1000.0</td>\n",
       "      <td>1658.0</td>\n",
       "      <td>1</td>\n",
       "    </tr>\n",
       "    <tr>\n",
       "      <td>2</td>\n",
       "      <td>10.0</td>\n",
       "      <td>0.0</td>\n",
       "      <td>36.0</td>\n",
       "      <td>46.0</td>\n",
       "      <td>0.0</td>\n",
       "      <td>2.0</td>\n",
       "      <td>1.0</td>\n",
       "      <td>90.0</td>\n",
       "      <td>200.0</td>\n",
       "      <td>3000.0</td>\n",
       "      <td>0.0</td>\n",
       "      <td>2000.0</td>\n",
       "      <td>2985.0</td>\n",
       "      <td>0</td>\n",
       "    </tr>\n",
       "    <tr>\n",
       "      <td>3</td>\n",
       "      <td>0.0</td>\n",
       "      <td>1.0</td>\n",
       "      <td>60.0</td>\n",
       "      <td>24.0</td>\n",
       "      <td>1.0</td>\n",
       "      <td>1.0</td>\n",
       "      <td>0.0</td>\n",
       "      <td>63.0</td>\n",
       "      <td>182.0</td>\n",
       "      <td>2500.0</td>\n",
       "      <td>0.0</td>\n",
       "      <td>900.0</td>\n",
       "      <td>1325.0</td>\n",
       "      <td>1</td>\n",
       "    </tr>\n",
       "    <tr>\n",
       "      <td>4</td>\n",
       "      <td>0.0</td>\n",
       "      <td>1.0</td>\n",
       "      <td>36.0</td>\n",
       "      <td>26.0</td>\n",
       "      <td>1.0</td>\n",
       "      <td>1.0</td>\n",
       "      <td>0.0</td>\n",
       "      <td>46.0</td>\n",
       "      <td>107.0</td>\n",
       "      <td>0.0</td>\n",
       "      <td>0.0</td>\n",
       "      <td>310.0</td>\n",
       "      <td>910.0</td>\n",
       "      <td>1</td>\n",
       "    </tr>\n",
       "  </tbody>\n",
       "</table>\n",
       "</div>"
      ],
      "text/plain": [
       "   Seniority  Home  Time   Age  Marital  Records  Job  Expenses  Income  \\\n",
       "0        9.0   1.0  60.0  30.0      0.0      1.0  1.0      73.0   129.0   \n",
       "1       17.0   1.0  60.0  58.0      1.0      1.0  0.0      48.0   131.0   \n",
       "2       10.0   0.0  36.0  46.0      0.0      2.0  1.0      90.0   200.0   \n",
       "3        0.0   1.0  60.0  24.0      1.0      1.0  0.0      63.0   182.0   \n",
       "4        0.0   1.0  36.0  26.0      1.0      1.0  0.0      46.0   107.0   \n",
       "\n",
       "   Assets  Debt  Amount   Price  Status  \n",
       "0     0.0   0.0   800.0   846.0       1  \n",
       "1     0.0   0.0  1000.0  1658.0       1  \n",
       "2  3000.0   0.0  2000.0  2985.0       0  \n",
       "3  2500.0   0.0   900.0  1325.0       1  \n",
       "4     0.0   0.0   310.0   910.0       1  "
      ]
     },
     "execution_count": 3,
     "metadata": {},
     "output_type": "execute_result"
    }
   ],
   "source": [
    "data.head()"
   ]
  },
  {
   "cell_type": "code",
   "execution_count": 4,
   "metadata": {
    "id": "CNqQWSKc6DvS"
   },
   "outputs": [],
   "source": [
    "X = data.iloc[:, 0:13].values\n",
    "y = data.iloc[:, 13].values"
   ]
  },
  {
   "cell_type": "code",
   "execution_count": 5,
   "metadata": {
    "colab": {
     "base_uri": "https://localhost:8080/"
    },
    "id": "2jLGj5Om88N2",
    "outputId": "b01e11ca-142c-42c8-e33e-f5423160b081"
   },
   "outputs": [
    {
     "name": "stdout",
     "output_type": "stream",
     "text": [
      "4375\n",
      "3159\n",
      "1216\n"
     ]
    }
   ],
   "source": [
    "length = np.shape(y)[0]\n",
    "n_pos=0\n",
    "n_neg=0\n",
    "for i in y:\n",
    "    if i==1:\n",
    "        n_pos+=1\n",
    "    if i==0:\n",
    "        n_neg+=1\n",
    "print(length)\n",
    "print(n_pos)\n",
    "print(n_neg)"
   ]
  },
  {
   "cell_type": "code",
   "execution_count": 6,
   "metadata": {
    "colab": {
     "base_uri": "https://localhost:8080/",
     "height": 281
    },
    "id": "m0DAw4XkEnl3",
    "outputId": "19160896-a381-4478-ca7d-df8b5d340b47"
   },
   "outputs": [
    {
     "data": {
      "image/png": "[encoded data removed]",
      "text/plain": [
       "<Figure size 432x288 with 1 Axes>"
      ]
     },
     "metadata": {
      "needs_background": "light"
     },
     "output_type": "display_data"
    }
   ],
   "source": [
    "hist = data.hist(column='Status')"
   ]
  },
  {
   "cell_type": "code",
   "execution_count": 7,
   "metadata": {
    "colab": {
     "base_uri": "https://localhost:8080/"
    },
    "id": "gBvM_wk6UQ2s",
    "outputId": "f2a2b4e5-3dab-413b-d05f-6a05a4bd819c"
   },
   "outputs": [
    {
     "name": "stdout",
     "output_type": "stream",
     "text": [
      "bons payeurs : 72.20571428571428 %\n",
      "mauvais payeurs : 27.794285714285714 %\n"
     ]
    }
   ],
   "source": [
    "mp = 100*np.sum(y==0)/len(y)\n",
    "bp = 100*np.sum(y==1)/len(y)\n",
    "\n",
    "print(\"bons payeurs : {} %\".format(bp))\n",
    "print(\"mauvais payeurs : {} %\".format(mp))"
   ]
  },
  {
   "cell_type": "markdown",
   "metadata": {
    "id": "SF3bgQspUMcL"
   },
   "source": [
    "Ici on remarque que les données sont déséquilibrées. Il y aura 72% de bons payeurs, ce qui signifie qu'il faut que nos classifieurs aient une accuracy supérieure à cette valeur car autrement il vaudra mieux prédire toujours bon payeur."
   ]
  },
  {
   "cell_type": "code",
   "execution_count": 8,
   "metadata": {
    "id": "CI3l2KKHBYAy"
   },
   "outputs": [],
   "source": [
    "from sklearn.model_selection import train_test_split\n",
    "\n",
    "X_train, X_test, y_train, y_test = train_test_split(X, y, test_size=0.5, random_state=1)"
   ]
  },
  {
   "cell_type": "markdown",
   "metadata": {
    "id": "BvZp9ivM6Hlt"
   },
   "source": [
    "### Apprentissage et évaluation des données.\n",
    "\n",
    "#### CART"
   ]
  },
  {
   "cell_type": "code",
   "execution_count": 9,
   "metadata": {
    "id": "i8WPuqanJwp8"
   },
   "outputs": [],
   "source": [
    "from sklearn import tree\n",
    "clf_CART = tree.DecisionTreeClassifier(criterion = 'gini',random_state=1)\n",
    "clf_CART = clf_CART.fit(X_train, y_train)"
   ]
  },
  {
   "cell_type": "markdown",
   "metadata": {
    "id": "9BaESoCjKVbG"
   },
   "source": [
    "**Affichage de l'arbre**"
   ]
  },
  {
   "cell_type": "code",
   "execution_count": 10,
   "metadata": {
    "colab": {
     "base_uri": "https://localhost:8080/"
    },
    "id": "grnXTelKKXyK",
    "outputId": "f2bee18e-728a-49ca-9a3f-053c00df0756"
   },
   "outputs": [
    {
     "name": "stdout",
     "output_type": "stream",
     "text": [
      "|--- Seniority <= 3.50\n",
      "|   |--- Records <= 1.50\n",
      "|   |   |--- Job <= 0.50\n",
      "|   |   |   |--- Amount <= 1035.00\n",
      "|   |   |   |   |--- Income <= 103.00\n",
      "|   |   |   |   |   |--- Assets <= 2250.00\n",
      "|   |   |   |   |   |   |--- Age <= 30.50\n",
      "|   |   |   |   |   |   |   |--- Expenses <= 38.50\n",
      "|   |   |   |   |   |   |   |   |--- Age <= 21.50\n",
      "|   |   |   |   |   |   |   |   |   |--- Income <= 39.00\n",
      "|   |   |   |   |   |   |   |   |   |   |--- class: 1\n",
      "|   |   |   |   |   |   |   |   |   |--- Income >  39.00\n",
      "|   |   |   |   |   |   |   |   |   |   |--- Time <= 42.00\n",
      "|   |   |   |   |   |   |   |   |   |   |   |--- class: 0\n",
      "|   |   |   |   |   |   |   |   |   |   |--- Time >  42.00\n",
      "|   |   |   |   |   |   |   |   |   |   |   |--- class: 1\n",
      "|   |   |   |   |   |   |   |   |--- Age >  21.50\n",
      "|   |   |   |   |   |   |   |   |   |--- Age <= 27.50\n",
      "|   |   |   |   |   |   |   |   |   |   |--- class: 1\n",
      "|   |   |   |   |   |   |   |   |   |--- Age >  27.50\n",
      "|   |   |   |   |   |   |   |   |   |   |--- Income <= 51.50\n",
      "|   |   |   |   |   |   |   |   |   |   |   |--- class: 0\n",
      "|   |   |   |   |   |   |   |   |   |   |--- Income >  51.50\n",
      "|   |   |   |   |   |   |   |   |   |   |   |--- truncated branch of depth 3\n",
      "|   |   |   |   |   |   |   |--- Expenses >  38.50\n",
      "|   |   |   |   |   |   |   |   |--- Amount <= 975.00\n",
      "|   |   |   |   |   |   |   |   |   |--- Amount <= 885.00\n",
      "|   |   |   |   |   |   |   |   |   |   |--- Price <= 872.50\n",
      "|   |   |   |   |   |   |   |   |   |   |   |--- class: 0\n",
      "|   |   |   |   |   |   |   |   |   |   |--- Price >  872.50\n",
      "|   |   |   |   |   |   |   |   |   |   |   |--- class: 1\n",
      "|   |   |   |   |   |   |   |   |   |--- Amount >  885.00\n",
      "|   |   |   |   |   |   |   |   |   |   |--- class: 0\n",
      "|   |   |   |   |   |   |   |   |--- Amount >  975.00\n",
      "|   |   |   |   |   |   |   |   |   |--- Expenses <= 43.00\n",
      "|   |   |   |   |   |   |   |   |   |   |--- class: 0\n",
      "|   |   |   |   |   |   |   |   |   |--- Expenses >  43.00\n",
      "|   |   |   |   |   |   |   |   |   |   |--- class: 1\n",
      "|   |   |   |   |   |   |--- Age >  30.50\n",
      "|   |   |   |   |   |   |   |--- Seniority <= 2.50\n",
      "|   |   |   |   |   |   |   |   |--- Debt <= 750.00\n",
      "|   |   |   |   |   |   |   |   |   |--- Income <= 101.50\n",
      "|   |   |   |   |   |   |   |   |   |   |--- class: 0\n",
      "|   |   |   |   |   |   |   |   |   |--- Income >  101.50\n",
      "|   |   |   |   |   |   |   |   |   |   |--- Age <= 32.50\n",
      "|   |   |   |   |   |   |   |   |   |   |   |--- class: 0\n",
      "|   |   |   |   |   |   |   |   |   |   |--- Age >  32.50\n",
      "|   |   |   |   |   |   |   |   |   |   |   |--- class: 1\n",
      "|   |   |   |   |   |   |   |   |--- Debt >  750.00\n",
      "|   |   |   |   |   |   |   |   |   |--- class: 1\n",
      "|   |   |   |   |   |   |   |--- Seniority >  2.50\n",
      "|   |   |   |   |   |   |   |   |--- class: 1\n",
      "|   |   |   |   |   |--- Assets >  2250.00\n",
      "|   |   |   |   |   |   |--- Assets <= 7250.00\n",
      "|   |   |   |   |   |   |   |--- class: 1\n",
      "|   |   |   |   |   |   |--- Assets >  7250.00\n",
      "|   |   |   |   |   |   |   |--- Debt <= 420.00\n",
      "|   |   |   |   |   |   |   |   |--- Time <= 54.00\n",
      "|   |   |   |   |   |   |   |   |   |--- class: 1\n",
      "|   |   |   |   |   |   |   |   |--- Time >  54.00\n",
      "|   |   |   |   |   |   |   |   |   |--- class: 0\n",
      "|   |   |   |   |   |   |   |--- Debt >  420.00\n",
      "|   |   |   |   |   |   |   |   |--- class: 0\n",
      "|   |   |   |   |--- Income >  103.00\n",
      "|   |   |   |   |   |--- Price <= 2334.00\n",
      "|   |   |   |   |   |   |--- Price <= 962.50\n",
      "|   |   |   |   |   |   |   |--- Price <= 945.00\n",
      "|   |   |   |   |   |   |   |   |--- Expenses <= 68.50\n",
      "|   |   |   |   |   |   |   |   |   |--- class: 1\n",
      "|   |   |   |   |   |   |   |   |--- Expenses >  68.50\n",
      "|   |   |   |   |   |   |   |   |   |--- Price <= 675.00\n",
      "|   |   |   |   |   |   |   |   |   |   |--- class: 1\n",
      "|   |   |   |   |   |   |   |   |   |--- Price >  675.00\n",
      "|   |   |   |   |   |   |   |   |   |   |--- class: 0\n",
      "|   |   |   |   |   |   |   |--- Price >  945.00\n",
      "|   |   |   |   |   |   |   |   |--- class: 0\n",
      "|   |   |   |   |   |   |--- Price >  962.50\n",
      "|   |   |   |   |   |   |   |--- Debt <= 2400.00\n",
      "|   |   |   |   |   |   |   |   |--- Time <= 15.00\n",
      "|   |   |   |   |   |   |   |   |   |--- Seniority <= 2.50\n",
      "|   |   |   |   |   |   |   |   |   |   |--- class: 1\n",
      "|   |   |   |   |   |   |   |   |   |--- Seniority >  2.50\n",
      "|   |   |   |   |   |   |   |   |   |   |--- class: 0\n",
      "|   |   |   |   |   |   |   |   |--- Time >  15.00\n",
      "|   |   |   |   |   |   |   |   |   |--- Amount <= 506.00\n",
      "|   |   |   |   |   |   |   |   |   |   |--- Income <= 152.50\n",
      "|   |   |   |   |   |   |   |   |   |   |   |--- class: 1\n",
      "|   |   |   |   |   |   |   |   |   |   |--- Income >  152.50\n",
      "|   |   |   |   |   |   |   |   |   |   |   |--- truncated branch of depth 2\n",
      "|   |   |   |   |   |   |   |   |   |--- Amount >  506.00\n",
      "|   |   |   |   |   |   |   |   |   |   |--- Income <= 122.50\n",
      "|   |   |   |   |   |   |   |   |   |   |   |--- truncated branch of depth 3\n",
      "|   |   |   |   |   |   |   |   |   |   |--- Income >  122.50\n",
      "|   |   |   |   |   |   |   |   |   |   |   |--- class: 1\n",
      "|   |   |   |   |   |   |   |--- Debt >  2400.00\n",
      "|   |   |   |   |   |   |   |   |--- Amount <= 975.00\n",
      "|   |   |   |   |   |   |   |   |   |--- class: 1\n",
      "|   |   |   |   |   |   |   |   |--- Amount >  975.00\n",
      "|   |   |   |   |   |   |   |   |   |--- class: 0\n",
      "|   |   |   |   |   |--- Price >  2334.00\n",
      "|   |   |   |   |   |   |--- Marital <= 0.50\n",
      "|   |   |   |   |   |   |   |--- class: 0\n",
      "|   |   |   |   |   |   |--- Marital >  0.50\n",
      "|   |   |   |   |   |   |   |--- class: 1\n",
      "|   |   |   |--- Amount >  1035.00\n",
      "|   |   |   |   |--- Income <= 98.00\n",
      "|   |   |   |   |   |--- Amount <= 1255.00\n",
      "|   |   |   |   |   |   |--- Debt <= 1050.00\n",
      "|   |   |   |   |   |   |   |--- Expenses <= 63.50\n",
      "|   |   |   |   |   |   |   |   |--- Income <= 50.50\n",
      "|   |   |   |   |   |   |   |   |   |--- class: 0\n",
      "|   |   |   |   |   |   |   |   |--- Income >  50.50\n",
      "|   |   |   |   |   |   |   |   |   |--- Age <= 24.50\n",
      "|   |   |   |   |   |   |   |   |   |   |--- Amount <= 1125.00\n",
      "|   |   |   |   |   |   |   |   |   |   |   |--- class: 0\n",
      "|   |   |   |   |   |   |   |   |   |   |--- Amount >  1125.00\n",
      "|   |   |   |   |   |   |   |   |   |   |   |--- truncated branch of depth 3\n",
      "|   |   |   |   |   |   |   |   |   |--- Age >  24.50\n",
      "|   |   |   |   |   |   |   |   |   |   |--- class: 1\n",
      "|   |   |   |   |   |   |   |--- Expenses >  63.50\n",
      "|   |   |   |   |   |   |   |   |--- class: 0\n",
      "|   |   |   |   |   |   |--- Debt >  1050.00\n",
      "|   |   |   |   |   |   |   |--- class: 0\n",
      "|   |   |   |   |   |--- Amount >  1255.00\n",
      "|   |   |   |   |   |   |--- Income <= 95.50\n",
      "|   |   |   |   |   |   |   |--- Amount <= 1446.00\n",
      "|   |   |   |   |   |   |   |   |--- class: 0\n",
      "|   |   |   |   |   |   |   |--- Amount >  1446.00\n",
      "|   |   |   |   |   |   |   |   |--- Amount <= 1675.00\n",
      "|   |   |   |   |   |   |   |   |   |--- Price <= 1655.50\n",
      "|   |   |   |   |   |   |   |   |   |   |--- Time <= 54.00\n",
      "|   |   |   |   |   |   |   |   |   |   |   |--- class: 1\n",
      "|   |   |   |   |   |   |   |   |   |   |--- Time >  54.00\n",
      "|   |   |   |   |   |   |   |   |   |   |   |--- class: 0\n",
      "|   |   |   |   |   |   |   |   |   |--- Price >  1655.50\n",
      "|   |   |   |   |   |   |   |   |   |   |--- class: 1\n",
      "|   |   |   |   |   |   |   |   |--- Amount >  1675.00\n",
      "|   |   |   |   |   |   |   |   |   |--- class: 0\n",
      "|   |   |   |   |   |   |--- Income >  95.50\n",
      "|   |   |   |   |   |   |   |--- class: 1\n",
      "|   |   |   |   |--- Income >  98.00\n",
      "|   |   |   |   |   |--- Price <= 1176.00\n",
      "|   |   |   |   |   |   |--- class: 0\n",
      "|   |   |   |   |   |--- Price >  1176.00\n",
      "|   |   |   |   |   |   |--- Debt <= 2650.00\n",
      "|   |   |   |   |   |   |   |--- Assets <= 1750.00\n",
      "|   |   |   |   |   |   |   |   |--- Seniority <= 1.50\n",
      "|   |   |   |   |   |   |   |   |   |--- Expenses <= 61.00\n",
      "|   |   |   |   |   |   |   |   |   |   |--- Age <= 34.50\n",
      "|   |   |   |   |   |   |   |   |   |   |   |--- truncated branch of depth 2\n",
      "|   |   |   |   |   |   |   |   |   |   |--- Age >  34.50\n",
      "|   |   |   |   |   |   |   |   |   |   |   |--- truncated branch of depth 3\n",
      "|   |   |   |   |   |   |   |   |   |--- Expenses >  61.00\n",
      "|   |   |   |   |   |   |   |   |   |   |--- Price <= 2193.50\n",
      "|   |   |   |   |   |   |   |   |   |   |   |--- truncated branch of depth 3\n",
      "|   |   |   |   |   |   |   |   |   |   |--- Price >  2193.50\n",
      "|   |   |   |   |   |   |   |   |   |   |   |--- class: 0\n",
      "|   |   |   |   |   |   |   |   |--- Seniority >  1.50\n",
      "|   |   |   |   |   |   |   |   |   |--- Expenses <= 91.00\n",
      "|   |   |   |   |   |   |   |   |   |   |--- Time <= 42.00\n",
      "|   |   |   |   |   |   |   |   |   |   |   |--- truncated branch of depth 2\n",
      "|   |   |   |   |   |   |   |   |   |   |--- Time >  42.00\n",
      "|   |   |   |   |   |   |   |   |   |   |   |--- truncated branch of depth 5\n",
      "|   |   |   |   |   |   |   |   |   |--- Expenses >  91.00\n",
      "|   |   |   |   |   |   |   |   |   |   |--- class: 0\n",
      "|   |   |   |   |   |   |   |--- Assets >  1750.00\n",
      "|   |   |   |   |   |   |   |   |--- Age <= 20.50\n",
      "|   |   |   |   |   |   |   |   |   |--- class: 0\n",
      "|   |   |   |   |   |   |   |   |--- Age >  20.50\n",
      "|   |   |   |   |   |   |   |   |   |--- Expenses <= 82.50\n",
      "|   |   |   |   |   |   |   |   |   |   |--- Income <= 420.50\n",
      "|   |   |   |   |   |   |   |   |   |   |   |--- truncated branch of depth 6\n",
      "|   |   |   |   |   |   |   |   |   |   |--- Income >  420.50\n",
      "|   |   |   |   |   |   |   |   |   |   |   |--- class: 0\n",
      "|   |   |   |   |   |   |   |   |   |--- Expenses >  82.50\n",
      "|   |   |   |   |   |   |   |   |   |   |--- Assets <= 6500.00\n",
      "|   |   |   |   |   |   |   |   |   |   |   |--- class: 0\n",
      "|   |   |   |   |   |   |   |   |   |   |--- Assets >  6500.00\n",
      "|   |   |   |   |   |   |   |   |   |   |   |--- class: 1\n",
      "|   |   |   |   |   |   |--- Debt >  2650.00\n",
      "|   |   |   |   |   |   |   |--- class: 0\n",
      "|   |   |--- Job >  0.50\n",
      "|   |   |   |--- Assets <= 4400.00\n",
      "|   |   |   |   |--- Time <= 27.00\n",
      "|   |   |   |   |   |--- Price <= 696.50\n",
      "|   |   |   |   |   |   |--- Amount <= 257.50\n",
      "|   |   |   |   |   |   |   |--- Income <= 48.50\n",
      "|   |   |   |   |   |   |   |   |--- class: 0\n",
      "|   |   |   |   |   |   |   |--- Income >  48.50\n",
      "|   |   |   |   |   |   |   |   |--- Assets <= 3750.00\n",
      "|   |   |   |   |   |   |   |   |   |--- class: 1\n",
      "|   |   |   |   |   |   |   |   |--- Assets >  3750.00\n",
      "|   |   |   |   |   |   |   |   |   |--- class: 0\n",
      "|   |   |   |   |   |   |--- Amount >  257.50\n",
      "|   |   |   |   |   |   |   |--- Assets <= 2250.00\n",
      "|   |   |   |   |   |   |   |   |--- class: 0\n",
      "|   |   |   |   |   |   |   |--- Assets >  2250.00\n",
      "|   |   |   |   |   |   |   |   |--- class: 1\n",
      "|   |   |   |   |   |--- Price >  696.50\n",
      "|   |   |   |   |   |   |--- Age <= 48.00\n",
      "|   |   |   |   |   |   |   |--- Price <= 962.00\n",
      "|   |   |   |   |   |   |   |   |--- Marital <= 0.50\n",
      "|   |   |   |   |   |   |   |   |   |--- class: 1\n",
      "|   |   |   |   |   |   |   |   |--- Marital >  0.50\n",
      "|   |   |   |   |   |   |   |   |   |--- class: 0\n",
      "|   |   |   |   |   |   |   |--- Price >  962.00\n",
      "|   |   |   |   |   |   |   |   |--- class: 1\n",
      "|   |   |   |   |   |   |--- Age >  48.00\n",
      "|   |   |   |   |   |   |   |--- class: 0\n",
      "|   |   |   |   |--- Time >  27.00\n",
      "|   |   |   |   |   |--- Expenses <= 78.00\n",
      "|   |   |   |   |   |   |--- Income <= 189.50\n",
      "|   |   |   |   |   |   |   |--- Seniority <= 2.50\n",
      "|   |   |   |   |   |   |   |   |--- Assets <= 3250.00\n",
      "|   |   |   |   |   |   |   |   |   |--- Income <= 91.00\n",
      "|   |   |   |   |   |   |   |   |   |   |--- Age <= 33.50\n",
      "|   |   |   |   |   |   |   |   |   |   |   |--- truncated branch of depth 11\n",
      "|   |   |   |   |   |   |   |   |   |   |--- Age >  33.50\n",
      "|   |   |   |   |   |   |   |   |   |   |   |--- truncated branch of depth 4\n",
      "|   |   |   |   |   |   |   |   |   |--- Income >  91.00\n",
      "|   |   |   |   |   |   |   |   |   |   |--- Income <= 167.00\n",
      "|   |   |   |   |   |   |   |   |   |   |   |--- truncated branch of depth 9\n",
      "|   |   |   |   |   |   |   |   |   |   |--- Income >  167.00\n",
      "|   |   |   |   |   |   |   |   |   |   |   |--- class: 0\n",
      "|   |   |   |   |   |   |   |   |--- Assets >  3250.00\n",
      "|   |   |   |   |   |   |   |   |   |--- Age <= 22.50\n",
      "|   |   |   |   |   |   |   |   |   |   |--- class: 1\n",
      "|   |   |   |   |   |   |   |   |   |--- Age >  22.50\n",
      "|   |   |   |   |   |   |   |   |   |   |--- Debt <= 2890.00\n",
      "|   |   |   |   |   |   |   |   |   |   |   |--- truncated branch of depth 3\n",
      "|   |   |   |   |   |   |   |   |   |   |--- Debt >  2890.00\n",
      "|   |   |   |   |   |   |   |   |   |   |   |--- truncated branch of depth 2\n",
      "|   |   |   |   |   |   |   |--- Seniority >  2.50\n",
      "|   |   |   |   |   |   |   |   |--- Price <= 1340.00\n",
      "|   |   |   |   |   |   |   |   |   |--- Income <= 10.50\n",
      "|   |   |   |   |   |   |   |   |   |   |--- class: 0\n",
      "|   |   |   |   |   |   |   |   |   |--- Income >  10.50\n",
      "|   |   |   |   |   |   |   |   |   |   |--- class: 1\n",
      "|   |   |   |   |   |   |   |   |--- Price >  1340.00\n",
      "|   |   |   |   |   |   |   |   |   |--- Assets <= 3500.00\n",
      "|   |   |   |   |   |   |   |   |   |   |--- Amount <= 1650.00\n",
      "|   |   |   |   |   |   |   |   |   |   |   |--- truncated branch of depth 3\n",
      "|   |   |   |   |   |   |   |   |   |   |--- Amount >  1650.00\n",
      "|   |   |   |   |   |   |   |   |   |   |   |--- class: 1\n",
      "|   |   |   |   |   |   |   |   |   |--- Assets >  3500.00\n",
      "|   |   |   |   |   |   |   |   |   |   |--- class: 1\n",
      "|   |   |   |   |   |   |--- Income >  189.50\n",
      "|   |   |   |   |   |   |   |--- Assets <= 750.00\n",
      "|   |   |   |   |   |   |   |   |--- Price <= 1493.50\n",
      "|   |   |   |   |   |   |   |   |   |--- class: 0\n",
      "|   |   |   |   |   |   |   |   |--- Price >  1493.50\n",
      "|   |   |   |   |   |   |   |   |   |--- class: 1\n",
      "|   |   |   |   |   |   |   |--- Assets >  750.00\n",
      "|   |   |   |   |   |   |   |   |--- class: 1\n",
      "|   |   |   |   |   |--- Expenses >  78.00\n",
      "|   |   |   |   |   |   |--- Income <= 19.00\n",
      "|   |   |   |   |   |   |   |--- Seniority <= 0.50\n",
      "|   |   |   |   |   |   |   |   |--- class: 0\n",
      "|   |   |   |   |   |   |   |--- Seniority >  0.50\n",
      "|   |   |   |   |   |   |   |   |--- class: 1\n",
      "|   |   |   |   |   |   |--- Income >  19.00\n",
      "|   |   |   |   |   |   |   |--- Age <= 32.50\n",
      "|   |   |   |   |   |   |   |   |--- Amount <= 1125.00\n",
      "|   |   |   |   |   |   |   |   |   |--- class: 0\n",
      "|   |   |   |   |   |   |   |   |--- Amount >  1125.00\n",
      "|   |   |   |   |   |   |   |   |   |--- class: 1\n",
      "|   |   |   |   |   |   |   |--- Age >  32.50\n",
      "|   |   |   |   |   |   |   |   |--- class: 0\n",
      "|   |   |   |--- Assets >  4400.00\n",
      "|   |   |   |   |--- Amount <= 1225.00\n",
      "|   |   |   |   |   |--- Debt <= 2950.00\n",
      "|   |   |   |   |   |   |--- Income <= 49.50\n",
      "|   |   |   |   |   |   |   |--- Income <= 39.50\n",
      "|   |   |   |   |   |   |   |   |--- Amount <= 950.00\n",
      "|   |   |   |   |   |   |   |   |   |--- Price <= 798.50\n",
      "|   |   |   |   |   |   |   |   |   |   |--- class: 0\n",
      "|   |   |   |   |   |   |   |   |   |--- Price >  798.50\n",
      "|   |   |   |   |   |   |   |   |   |   |--- Time <= 54.00\n",
      "|   |   |   |   |   |   |   |   |   |   |   |--- class: 1\n",
      "|   |   |   |   |   |   |   |   |   |   |--- Time >  54.00\n",
      "|   |   |   |   |   |   |   |   |   |   |   |--- class: 0\n",
      "|   |   |   |   |   |   |   |   |--- Amount >  950.00\n",
      "|   |   |   |   |   |   |   |   |   |--- Price <= 1320.00\n",
      "|   |   |   |   |   |   |   |   |   |   |--- class: 0\n",
      "|   |   |   |   |   |   |   |   |   |--- Price >  1320.00\n",
      "|   |   |   |   |   |   |   |   |   |   |--- Age <= 48.50\n",
      "|   |   |   |   |   |   |   |   |   |   |   |--- class: 1\n",
      "|   |   |   |   |   |   |   |   |   |   |--- Age >  48.50\n",
      "|   |   |   |   |   |   |   |   |   |   |   |--- class: 0\n",
      "|   |   |   |   |   |   |   |--- Income >  39.50\n",
      "|   |   |   |   |   |   |   |   |--- class: 0\n",
      "|   |   |   |   |   |   |--- Income >  49.50\n",
      "|   |   |   |   |   |   |   |--- Debt <= 1150.00\n",
      "|   |   |   |   |   |   |   |   |--- Expenses <= 100.00\n",
      "|   |   |   |   |   |   |   |   |   |--- Income <= 82.50\n",
      "|   |   |   |   |   |   |   |   |   |   |--- Marital <= 0.50\n",
      "|   |   |   |   |   |   |   |   |   |   |   |--- class: 1\n",
      "|   |   |   |   |   |   |   |   |   |   |--- Marital >  0.50\n",
      "|   |   |   |   |   |   |   |   |   |   |   |--- class: 0\n",
      "|   |   |   |   |   |   |   |   |   |--- Income >  82.50\n",
      "|   |   |   |   |   |   |   |   |   |   |--- class: 1\n",
      "|   |   |   |   |   |   |   |   |--- Expenses >  100.00\n",
      "|   |   |   |   |   |   |   |   |   |--- class: 0\n",
      "|   |   |   |   |   |   |   |--- Debt >  1150.00\n",
      "|   |   |   |   |   |   |   |   |--- Assets <= 6550.00\n",
      "|   |   |   |   |   |   |   |   |   |--- Income <= 113.50\n",
      "|   |   |   |   |   |   |   |   |   |   |--- class: 1\n",
      "|   |   |   |   |   |   |   |   |   |--- Income >  113.50\n",
      "|   |   |   |   |   |   |   |   |   |   |--- class: 0\n",
      "|   |   |   |   |   |   |   |   |--- Assets >  6550.00\n",
      "|   |   |   |   |   |   |   |   |   |--- class: 1\n",
      "|   |   |   |   |   |--- Debt >  2950.00\n",
      "|   |   |   |   |   |   |--- Time <= 42.00\n",
      "|   |   |   |   |   |   |   |--- class: 0\n",
      "|   |   |   |   |   |   |--- Time >  42.00\n",
      "|   |   |   |   |   |   |   |--- Income <= 165.00\n",
      "|   |   |   |   |   |   |   |   |--- class: 1\n",
      "|   |   |   |   |   |   |   |--- Income >  165.00\n",
      "|   |   |   |   |   |   |   |   |--- class: 0\n",
      "|   |   |   |   |--- Amount >  1225.00\n",
      "|   |   |   |   |   |--- Age <= 25.50\n",
      "|   |   |   |   |   |   |--- Income <= 390.00\n",
      "|   |   |   |   |   |   |   |--- class: 1\n",
      "|   |   |   |   |   |   |--- Income >  390.00\n",
      "|   |   |   |   |   |   |   |--- class: 0\n",
      "|   |   |   |   |   |--- Age >  25.50\n",
      "|   |   |   |   |   |   |--- Assets <= 18000.00\n",
      "|   |   |   |   |   |   |   |--- Amount <= 3437.50\n",
      "|   |   |   |   |   |   |   |   |--- Expenses <= 97.50\n",
      "|   |   |   |   |   |   |   |   |   |--- Seniority <= 2.50\n",
      "|   |   |   |   |   |   |   |   |   |   |--- Income <= 62.50\n",
      "|   |   |   |   |   |   |   |   |   |   |   |--- truncated branch of depth 2\n",
      "|   |   |   |   |   |   |   |   |   |   |--- Income >  62.50\n",
      "|   |   |   |   |   |   |   |   |   |   |   |--- class: 0\n",
      "|   |   |   |   |   |   |   |   |   |--- Seniority >  2.50\n",
      "|   |   |   |   |   |   |   |   |   |   |--- Age <= 43.00\n",
      "|   |   |   |   |   |   |   |   |   |   |   |--- class: 1\n",
      "|   |   |   |   |   |   |   |   |   |   |--- Age >  43.00\n",
      "|   |   |   |   |   |   |   |   |   |   |   |--- class: 0\n",
      "|   |   |   |   |   |   |   |   |--- Expenses >  97.50\n",
      "|   |   |   |   |   |   |   |   |   |--- class: 1\n",
      "|   |   |   |   |   |   |   |--- Amount >  3437.50\n",
      "|   |   |   |   |   |   |   |   |--- class: 1\n",
      "|   |   |   |   |   |   |--- Assets >  18000.00\n",
      "|   |   |   |   |   |   |   |--- Income <= 86.00\n",
      "|   |   |   |   |   |   |   |   |--- class: 1\n",
      "|   |   |   |   |   |   |   |--- Income >  86.00\n",
      "|   |   |   |   |   |   |   |   |--- Assets <= 22500.00\n",
      "|   |   |   |   |   |   |   |   |   |--- class: 1\n",
      "|   |   |   |   |   |   |   |   |--- Assets >  22500.00\n",
      "|   |   |   |   |   |   |   |   |   |--- class: 0\n",
      "|   |--- Records >  1.50\n",
      "|   |   |--- Job <= 0.50\n",
      "|   |   |   |--- Home <= 0.50\n",
      "|   |   |   |   |--- Income <= 144.50\n",
      "|   |   |   |   |   |--- Debt <= 250.00\n",
      "|   |   |   |   |   |   |--- Age <= 41.50\n",
      "|   |   |   |   |   |   |   |--- class: 1\n",
      "|   |   |   |   |   |   |--- Age >  41.50\n",
      "|   |   |   |   |   |   |   |--- Income <= 74.00\n",
      "|   |   |   |   |   |   |   |   |--- class: 1\n",
      "|   |   |   |   |   |   |   |--- Income >  74.00\n",
      "|   |   |   |   |   |   |   |   |--- class: 0\n",
      "|   |   |   |   |   |--- Debt >  250.00\n",
      "|   |   |   |   |   |   |--- class: 0\n",
      "|   |   |   |   |--- Income >  144.50\n",
      "|   |   |   |   |   |--- Amount <= 1900.00\n",
      "|   |   |   |   |   |   |--- Expenses <= 97.50\n",
      "|   |   |   |   |   |   |   |--- Income <= 331.00\n",
      "|   |   |   |   |   |   |   |   |--- class: 1\n",
      "|   |   |   |   |   |   |   |--- Income >  331.00\n",
      "|   |   |   |   |   |   |   |   |--- Seniority <= 1.00\n",
      "|   |   |   |   |   |   |   |   |   |--- class: 1\n",
      "|   |   |   |   |   |   |   |   |--- Seniority >  1.00\n",
      "|   |   |   |   |   |   |   |   |   |--- class: 0\n",
      "|   |   |   |   |   |   |--- Expenses >  97.50\n",
      "|   |   |   |   |   |   |   |--- class: 0\n",
      "|   |   |   |   |   |--- Amount >  1900.00\n",
      "|   |   |   |   |   |   |--- class: 0\n",
      "|   |   |   |--- Home >  0.50\n",
      "|   |   |   |   |--- Age <= 34.50\n",
      "|   |   |   |   |   |--- Price <= 1284.00\n",
      "|   |   |   |   |   |   |--- Age <= 24.50\n",
      "|   |   |   |   |   |   |   |--- class: 0\n",
      "|   |   |   |   |   |   |--- Age >  24.50\n",
      "|   |   |   |   |   |   |   |--- class: 1\n",
      "|   |   |   |   |   |--- Price >  1284.00\n",
      "|   |   |   |   |   |   |--- Age <= 23.50\n",
      "|   |   |   |   |   |   |   |--- class: 1\n",
      "|   |   |   |   |   |   |--- Age >  23.50\n",
      "|   |   |   |   |   |   |   |--- Time <= 45.00\n",
      "|   |   |   |   |   |   |   |   |--- Marital <= 0.50\n",
      "|   |   |   |   |   |   |   |   |   |--- class: 1\n",
      "|   |   |   |   |   |   |   |   |--- Marital >  0.50\n",
      "|   |   |   |   |   |   |   |   |   |--- class: 0\n",
      "|   |   |   |   |   |   |   |--- Time >  45.00\n",
      "|   |   |   |   |   |   |   |   |--- class: 0\n",
      "|   |   |   |   |--- Age >  34.50\n",
      "|   |   |   |   |   |--- Age <= 54.00\n",
      "|   |   |   |   |   |   |--- Price <= 2571.00\n",
      "|   |   |   |   |   |   |   |--- Time <= 54.00\n",
      "|   |   |   |   |   |   |   |   |--- class: 0\n",
      "|   |   |   |   |   |   |   |--- Time >  54.00\n",
      "|   |   |   |   |   |   |   |   |--- Amount <= 1050.00\n",
      "|   |   |   |   |   |   |   |   |   |--- Income <= 85.00\n",
      "|   |   |   |   |   |   |   |   |   |   |--- class: 1\n",
      "|   |   |   |   |   |   |   |   |   |--- Income >  85.00\n",
      "|   |   |   |   |   |   |   |   |   |   |--- class: 0\n",
      "|   |   |   |   |   |   |   |   |--- Amount >  1050.00\n",
      "|   |   |   |   |   |   |   |   |   |--- Income <= 215.00\n",
      "|   |   |   |   |   |   |   |   |   |   |--- class: 0\n",
      "|   |   |   |   |   |   |   |   |   |--- Income >  215.00\n",
      "|   |   |   |   |   |   |   |   |   |   |--- Seniority <= 2.00\n",
      "|   |   |   |   |   |   |   |   |   |   |   |--- class: 1\n",
      "|   |   |   |   |   |   |   |   |   |   |--- Seniority >  2.00\n",
      "|   |   |   |   |   |   |   |   |   |   |   |--- class: 0\n",
      "|   |   |   |   |   |   |--- Price >  2571.00\n",
      "|   |   |   |   |   |   |   |--- Amount <= 2900.00\n",
      "|   |   |   |   |   |   |   |   |--- class: 1\n",
      "|   |   |   |   |   |   |   |--- Amount >  2900.00\n",
      "|   |   |   |   |   |   |   |   |--- class: 0\n",
      "|   |   |   |   |   |--- Age >  54.00\n",
      "|   |   |   |   |   |   |--- class: 1\n",
      "|   |   |--- Job >  0.50\n",
      "|   |   |   |--- Amount <= 925.00\n",
      "|   |   |   |   |--- Amount <= 775.00\n",
      "|   |   |   |   |   |--- Price <= 562.50\n",
      "|   |   |   |   |   |   |--- Price <= 512.50\n",
      "|   |   |   |   |   |   |   |--- class: 0\n",
      "|   |   |   |   |   |   |--- Price >  512.50\n",
      "|   |   |   |   |   |   |   |--- class: 1\n",
      "|   |   |   |   |   |--- Price >  562.50\n",
      "|   |   |   |   |   |   |--- class: 0\n",
      "|   |   |   |   |--- Amount >  775.00\n",
      "|   |   |   |   |   |--- Expenses <= 67.50\n",
      "|   |   |   |   |   |   |--- class: 1\n",
      "|   |   |   |   |   |--- Expenses >  67.50\n",
      "|   |   |   |   |   |   |--- Home <= 0.50\n",
      "|   |   |   |   |   |   |   |--- class: 1\n",
      "|   |   |   |   |   |   |--- Home >  0.50\n",
      "|   |   |   |   |   |   |   |--- class: 0\n",
      "|   |   |   |--- Amount >  925.00\n",
      "|   |   |   |   |--- Age <= 57.50\n",
      "|   |   |   |   |   |--- Price <= 1651.50\n",
      "|   |   |   |   |   |   |--- class: 0\n",
      "|   |   |   |   |   |--- Price >  1651.50\n",
      "|   |   |   |   |   |   |--- Price <= 1665.50\n",
      "|   |   |   |   |   |   |   |--- class: 1\n",
      "|   |   |   |   |   |   |--- Price >  1665.50\n",
      "|   |   |   |   |   |   |   |--- Age <= 32.00\n",
      "|   |   |   |   |   |   |   |   |--- Time <= 42.00\n",
      "|   |   |   |   |   |   |   |   |   |--- class: 1\n",
      "|   |   |   |   |   |   |   |   |--- Time >  42.00\n",
      "|   |   |   |   |   |   |   |   |   |--- Age <= 28.00\n",
      "|   |   |   |   |   |   |   |   |   |   |--- class: 0\n",
      "|   |   |   |   |   |   |   |   |   |--- Age >  28.00\n",
      "|   |   |   |   |   |   |   |   |   |   |--- Assets <= 4500.00\n",
      "|   |   |   |   |   |   |   |   |   |   |   |--- class: 1\n",
      "|   |   |   |   |   |   |   |   |   |   |--- Assets >  4500.00\n",
      "|   |   |   |   |   |   |   |   |   |   |   |--- class: 0\n",
      "|   |   |   |   |   |   |   |--- Age >  32.00\n",
      "|   |   |   |   |   |   |   |   |--- class: 0\n",
      "|   |   |   |   |--- Age >  57.50\n",
      "|   |   |   |   |   |--- Age <= 61.50\n",
      "|   |   |   |   |   |   |--- class: 1\n",
      "|   |   |   |   |   |--- Age >  61.50\n",
      "|   |   |   |   |   |   |--- class: 0\n",
      "|--- Seniority >  3.50\n",
      "|   |--- Records <= 1.50\n",
      "|   |   |--- Income <= 96.50\n",
      "|   |   |   |--- Assets <= 4250.00\n",
      "|   |   |   |   |--- Amount <= 1162.50\n",
      "|   |   |   |   |   |--- Price <= 928.50\n",
      "|   |   |   |   |   |   |--- Age <= 27.50\n",
      "|   |   |   |   |   |   |   |--- Amount <= 162.50\n",
      "|   |   |   |   |   |   |   |   |--- class: 1\n",
      "|   |   |   |   |   |   |   |--- Amount >  162.50\n",
      "|   |   |   |   |   |   |   |   |--- Income <= 55.50\n",
      "|   |   |   |   |   |   |   |   |   |--- Time <= 48.00\n",
      "|   |   |   |   |   |   |   |   |   |   |--- class: 0\n",
      "|   |   |   |   |   |   |   |   |   |--- Time >  48.00\n",
      "|   |   |   |   |   |   |   |   |   |   |--- class: 1\n",
      "|   |   |   |   |   |   |   |   |--- Income >  55.50\n",
      "|   |   |   |   |   |   |   |   |   |--- class: 0\n",
      "|   |   |   |   |   |   |--- Age >  27.50\n",
      "|   |   |   |   |   |   |   |--- Marital <= 0.50\n",
      "|   |   |   |   |   |   |   |   |--- Seniority <= 5.50\n",
      "|   |   |   |   |   |   |   |   |   |--- Price <= 367.50\n",
      "|   |   |   |   |   |   |   |   |   |   |--- Age <= 41.50\n",
      "|   |   |   |   |   |   |   |   |   |   |   |--- class: 1\n",
      "|   |   |   |   |   |   |   |   |   |   |--- Age >  41.50\n",
      "|   |   |   |   |   |   |   |   |   |   |   |--- class: 0\n",
      "|   |   |   |   |   |   |   |   |   |--- Price >  367.50\n",
      "|   |   |   |   |   |   |   |   |   |   |--- class: 1\n",
      "|   |   |   |   |   |   |   |   |--- Seniority >  5.50\n",
      "|   |   |   |   |   |   |   |   |   |--- Income <= 70.00\n",
      "|   |   |   |   |   |   |   |   |   |   |--- class: 0\n",
      "|   |   |   |   |   |   |   |   |   |--- Income >  70.00\n",
      "|   |   |   |   |   |   |   |   |   |   |--- Debt <= 50.00\n",
      "|   |   |   |   |   |   |   |   |   |   |   |--- truncated branch of depth 2\n",
      "|   |   |   |   |   |   |   |   |   |   |--- Debt >  50.00\n",
      "|   |   |   |   |   |   |   |   |   |   |   |--- class: 0\n",
      "|   |   |   |   |   |   |   |--- Marital >  0.50\n",
      "|   |   |   |   |   |   |   |   |--- class: 1\n",
      "|   |   |   |   |   |--- Price >  928.50\n",
      "|   |   |   |   |   |   |--- Seniority <= 11.50\n",
      "|   |   |   |   |   |   |   |--- Debt <= 675.00\n",
      "|   |   |   |   |   |   |   |   |--- Job <= 0.50\n",
      "|   |   |   |   |   |   |   |   |   |--- Income <= 50.50\n",
      "|   |   |   |   |   |   |   |   |   |   |--- class: 0\n",
      "|   |   |   |   |   |   |   |   |   |--- Income >  50.50\n",
      "|   |   |   |   |   |   |   |   |   |   |--- Age <= 27.50\n",
      "|   |   |   |   |   |   |   |   |   |   |   |--- truncated branch of depth 4\n",
      "|   |   |   |   |   |   |   |   |   |   |--- Age >  27.50\n",
      "|   |   |   |   |   |   |   |   |   |   |   |--- truncated branch of depth 3\n",
      "|   |   |   |   |   |   |   |   |--- Job >  0.50\n",
      "|   |   |   |   |   |   |   |   |   |--- Amount <= 550.00\n",
      "|   |   |   |   |   |   |   |   |   |   |--- Assets <= 3000.00\n",
      "|   |   |   |   |   |   |   |   |   |   |   |--- class: 0\n",
      "|   |   |   |   |   |   |   |   |   |   |--- Assets >  3000.00\n",
      "|   |   |   |   |   |   |   |   |   |   |   |--- class: 1\n",
      "|   |   |   |   |   |   |   |   |   |--- Amount >  550.00\n",
      "|   |   |   |   |   |   |   |   |   |   |--- Amount <= 887.50\n",
      "|   |   |   |   |   |   |   |   |   |   |   |--- class: 1\n",
      "|   |   |   |   |   |   |   |   |   |   |--- Amount >  887.50\n",
      "|   |   |   |   |   |   |   |   |   |   |   |--- truncated branch of depth 4\n",
      "|   |   |   |   |   |   |   |--- Debt >  675.00\n",
      "|   |   |   |   |   |   |   |   |--- class: 0\n",
      "|   |   |   |   |   |   |--- Seniority >  11.50\n",
      "|   |   |   |   |   |   |   |--- Debt <= 1300.00\n",
      "|   |   |   |   |   |   |   |   |--- class: 1\n",
      "|   |   |   |   |   |   |   |--- Debt >  1300.00\n",
      "|   |   |   |   |   |   |   |   |--- class: 0\n",
      "|   |   |   |   |--- Amount >  1162.50\n",
      "|   |   |   |   |   |--- Expenses <= 71.00\n",
      "|   |   |   |   |   |   |--- Income <= 65.50\n",
      "|   |   |   |   |   |   |   |--- Time <= 42.00\n",
      "|   |   |   |   |   |   |   |   |--- Age <= 25.00\n",
      "|   |   |   |   |   |   |   |   |   |--- class: 0\n",
      "|   |   |   |   |   |   |   |   |--- Age >  25.00\n",
      "|   |   |   |   |   |   |   |   |   |--- class: 1\n",
      "|   |   |   |   |   |   |   |--- Time >  42.00\n",
      "|   |   |   |   |   |   |   |   |--- class: 0\n",
      "|   |   |   |   |   |   |--- Income >  65.50\n",
      "|   |   |   |   |   |   |   |--- Age <= 44.50\n",
      "|   |   |   |   |   |   |   |   |--- Age <= 32.00\n",
      "|   |   |   |   |   |   |   |   |   |--- Age <= 26.00\n",
      "|   |   |   |   |   |   |   |   |   |   |--- Price <= 1645.50\n",
      "|   |   |   |   |   |   |   |   |   |   |   |--- class: 1\n",
      "|   |   |   |   |   |   |   |   |   |   |--- Price >  1645.50\n",
      "|   |   |   |   |   |   |   |   |   |   |   |--- class: 0\n",
      "|   |   |   |   |   |   |   |   |   |--- Age >  26.00\n",
      "|   |   |   |   |   |   |   |   |   |   |--- class: 1\n",
      "|   |   |   |   |   |   |   |   |--- Age >  32.00\n",
      "|   |   |   |   |   |   |   |   |   |--- Price <= 1577.50\n",
      "|   |   |   |   |   |   |   |   |   |   |--- Income <= 68.00\n",
      "|   |   |   |   |   |   |   |   |   |   |   |--- class: 1\n",
      "|   |   |   |   |   |   |   |   |   |   |--- Income >  68.00\n",
      "|   |   |   |   |   |   |   |   |   |   |   |--- truncated branch of depth 3\n",
      "|   |   |   |   |   |   |   |   |   |--- Price >  1577.50\n",
      "|   |   |   |   |   |   |   |   |   |   |--- class: 0\n",
      "|   |   |   |   |   |   |   |--- Age >  44.50\n",
      "|   |   |   |   |   |   |   |   |--- class: 1\n",
      "|   |   |   |   |   |--- Expenses >  71.00\n",
      "|   |   |   |   |   |   |--- Income <= 84.00\n",
      "|   |   |   |   |   |   |   |--- class: 0\n",
      "|   |   |   |   |   |   |--- Income >  84.00\n",
      "|   |   |   |   |   |   |   |--- Income <= 86.00\n",
      "|   |   |   |   |   |   |   |   |--- class: 1\n",
      "|   |   |   |   |   |   |   |--- Income >  86.00\n",
      "|   |   |   |   |   |   |   |   |--- class: 0\n",
      "|   |   |   |--- Assets >  4250.00\n",
      "|   |   |   |   |--- Amount <= 1115.00\n",
      "|   |   |   |   |   |--- Expenses <= 71.00\n",
      "|   |   |   |   |   |   |--- class: 1\n",
      "|   |   |   |   |   |--- Expenses >  71.00\n",
      "|   |   |   |   |   |   |--- Seniority <= 7.00\n",
      "|   |   |   |   |   |   |   |--- Price <= 1184.50\n",
      "|   |   |   |   |   |   |   |   |--- class: 0\n",
      "|   |   |   |   |   |   |   |--- Price >  1184.50\n",
      "|   |   |   |   |   |   |   |   |--- class: 1\n",
      "|   |   |   |   |   |   |--- Seniority >  7.00\n",
      "|   |   |   |   |   |   |   |--- class: 1\n",
      "|   |   |   |   |--- Amount >  1115.00\n",
      "|   |   |   |   |   |--- Job <= 0.50\n",
      "|   |   |   |   |   |   |--- Price <= 1405.50\n",
      "|   |   |   |   |   |   |   |--- class: 0\n",
      "|   |   |   |   |   |   |--- Price >  1405.50\n",
      "|   |   |   |   |   |   |   |--- Income <= 90.00\n",
      "|   |   |   |   |   |   |   |   |--- Income <= 64.50\n",
      "|   |   |   |   |   |   |   |   |   |--- Price <= 2395.50\n",
      "|   |   |   |   |   |   |   |   |   |   |--- class: 0\n",
      "|   |   |   |   |   |   |   |   |   |--- Price >  2395.50\n",
      "|   |   |   |   |   |   |   |   |   |   |--- class: 1\n",
      "|   |   |   |   |   |   |   |   |--- Income >  64.50\n",
      "|   |   |   |   |   |   |   |   |   |--- Seniority <= 27.50\n",
      "|   |   |   |   |   |   |   |   |   |   |--- class: 1\n",
      "|   |   |   |   |   |   |   |   |   |--- Seniority >  27.50\n",
      "|   |   |   |   |   |   |   |   |   |   |--- class: 0\n",
      "|   |   |   |   |   |   |   |--- Income >  90.00\n",
      "|   |   |   |   |   |   |   |   |--- class: 0\n",
      "|   |   |   |   |   |--- Job >  0.50\n",
      "|   |   |   |   |   |   |--- Assets <= 62500.00\n",
      "|   |   |   |   |   |   |   |--- Age <= 57.00\n",
      "|   |   |   |   |   |   |   |   |--- class: 1\n",
      "|   |   |   |   |   |   |   |--- Age >  57.00\n",
      "|   |   |   |   |   |   |   |   |--- Assets <= 15500.00\n",
      "|   |   |   |   |   |   |   |   |   |--- class: 0\n",
      "|   |   |   |   |   |   |   |   |--- Assets >  15500.00\n",
      "|   |   |   |   |   |   |   |   |   |--- class: 1\n",
      "|   |   |   |   |   |   |--- Assets >  62500.00\n",
      "|   |   |   |   |   |   |   |--- class: 0\n",
      "|   |   |--- Income >  96.50\n",
      "|   |   |   |--- Amount <= 1530.00\n",
      "|   |   |   |   |--- Seniority <= 5.50\n",
      "|   |   |   |   |   |--- Assets <= 2050.00\n",
      "|   |   |   |   |   |   |--- Income <= 161.50\n",
      "|   |   |   |   |   |   |   |--- Assets <= 500.00\n",
      "|   |   |   |   |   |   |   |   |--- Price <= 1575.00\n",
      "|   |   |   |   |   |   |   |   |   |--- Amount <= 1275.00\n",
      "|   |   |   |   |   |   |   |   |   |   |--- Age <= 28.50\n",
      "|   |   |   |   |   |   |   |   |   |   |   |--- truncated branch of depth 5\n",
      "|   |   |   |   |   |   |   |   |   |   |--- Age >  28.50\n",
      "|   |   |   |   |   |   |   |   |   |   |   |--- truncated branch of depth 3\n",
      "|   |   |   |   |   |   |   |   |   |--- Amount >  1275.00\n",
      "|   |   |   |   |   |   |   |   |   |   |--- class: 0\n",
      "|   |   |   |   |   |   |   |   |--- Price >  1575.00\n",
      "|   |   |   |   |   |   |   |   |   |--- Marital <= 0.50\n",
      "|   |   |   |   |   |   |   |   |   |   |--- class: 1\n",
      "|   |   |   |   |   |   |   |   |   |--- Marital >  0.50\n",
      "|   |   |   |   |   |   |   |   |   |   |--- Price <= 2075.00\n",
      "|   |   |   |   |   |   |   |   |   |   |   |--- class: 0\n",
      "|   |   |   |   |   |   |   |   |   |   |--- Price >  2075.00\n",
      "|   |   |   |   |   |   |   |   |   |   |   |--- class: 1\n",
      "|   |   |   |   |   |   |   |--- Assets >  500.00\n",
      "|   |   |   |   |   |   |   |   |--- class: 0\n",
      "|   |   |   |   |   |   |--- Income >  161.50\n",
      "|   |   |   |   |   |   |   |--- Income <= 332.50\n",
      "|   |   |   |   |   |   |   |   |--- class: 1\n",
      "|   |   |   |   |   |   |   |--- Income >  332.50\n",
      "|   |   |   |   |   |   |   |   |--- class: 0\n",
      "|   |   |   |   |   |--- Assets >  2050.00\n",
      "|   |   |   |   |   |   |--- Price <= 1049.00\n",
      "|   |   |   |   |   |   |   |--- Amount <= 850.00\n",
      "|   |   |   |   |   |   |   |   |--- Debt <= 750.50\n",
      "|   |   |   |   |   |   |   |   |   |--- class: 1\n",
      "|   |   |   |   |   |   |   |   |--- Debt >  750.50\n",
      "|   |   |   |   |   |   |   |   |   |--- Assets <= 5750.00\n",
      "|   |   |   |   |   |   |   |   |   |   |--- class: 0\n",
      "|   |   |   |   |   |   |   |   |   |--- Assets >  5750.00\n",
      "|   |   |   |   |   |   |   |   |   |   |--- class: 1\n",
      "|   |   |   |   |   |   |   |--- Amount >  850.00\n",
      "|   |   |   |   |   |   |   |   |--- Seniority <= 4.50\n",
      "|   |   |   |   |   |   |   |   |   |--- class: 0\n",
      "|   |   |   |   |   |   |   |   |--- Seniority >  4.50\n",
      "|   |   |   |   |   |   |   |   |   |--- class: 1\n",
      "|   |   |   |   |   |   |--- Price >  1049.00\n",
      "|   |   |   |   |   |   |   |--- Expenses <= 77.00\n",
      "|   |   |   |   |   |   |   |   |--- class: 1\n",
      "|   |   |   |   |   |   |   |--- Expenses >  77.00\n",
      "|   |   |   |   |   |   |   |   |--- Job <= 0.50\n",
      "|   |   |   |   |   |   |   |   |   |--- class: 0\n",
      "|   |   |   |   |   |   |   |   |--- Job >  0.50\n",
      "|   |   |   |   |   |   |   |   |   |--- class: 1\n",
      "|   |   |   |   |--- Seniority >  5.50\n",
      "|   |   |   |   |   |--- Price <= 275.00\n",
      "|   |   |   |   |   |   |--- class: 0\n",
      "|   |   |   |   |   |--- Price >  275.00\n",
      "|   |   |   |   |   |   |--- Income <= 107.50\n",
      "|   |   |   |   |   |   |   |--- Time <= 54.00\n",
      "|   |   |   |   |   |   |   |   |--- Amount <= 1375.00\n",
      "|   |   |   |   |   |   |   |   |   |--- class: 1\n",
      "|   |   |   |   |   |   |   |   |--- Amount >  1375.00\n",
      "|   |   |   |   |   |   |   |   |   |--- class: 0\n",
      "|   |   |   |   |   |   |   |--- Time >  54.00\n",
      "|   |   |   |   |   |   |   |   |--- Price <= 1098.00\n",
      "|   |   |   |   |   |   |   |   |   |--- Assets <= 3250.00\n",
      "|   |   |   |   |   |   |   |   |   |   |--- class: 0\n",
      "|   |   |   |   |   |   |   |   |   |--- Assets >  3250.00\n",
      "|   |   |   |   |   |   |   |   |   |   |--- class: 1\n",
      "|   |   |   |   |   |   |   |   |--- Price >  1098.00\n",
      "|   |   |   |   |   |   |   |   |   |--- Debt <= 3100.00\n",
      "|   |   |   |   |   |   |   |   |   |   |--- Seniority <= 31.50\n",
      "|   |   |   |   |   |   |   |   |   |   |   |--- truncated branch of depth 4\n",
      "|   |   |   |   |   |   |   |   |   |   |--- Seniority >  31.50\n",
      "|   |   |   |   |   |   |   |   |   |   |   |--- class: 0\n",
      "|   |   |   |   |   |   |   |   |   |--- Debt >  3100.00\n",
      "|   |   |   |   |   |   |   |   |   |   |--- class: 0\n",
      "|   |   |   |   |   |   |--- Income >  107.50\n",
      "|   |   |   |   |   |   |   |--- Age <= 22.50\n",
      "|   |   |   |   |   |   |   |   |--- Seniority <= 7.50\n",
      "|   |   |   |   |   |   |   |   |   |--- class: 0\n",
      "|   |   |   |   |   |   |   |   |--- Seniority >  7.50\n",
      "|   |   |   |   |   |   |   |   |   |--- class: 1\n",
      "|   |   |   |   |   |   |   |--- Age >  22.50\n",
      "|   |   |   |   |   |   |   |   |--- Debt <= 6650.00\n",
      "|   |   |   |   |   |   |   |   |   |--- Price <= 2859.50\n",
      "|   |   |   |   |   |   |   |   |   |   |--- Income <= 467.00\n",
      "|   |   |   |   |   |   |   |   |   |   |   |--- truncated branch of depth 9\n",
      "|   |   |   |   |   |   |   |   |   |   |--- Income >  467.00\n",
      "|   |   |   |   |   |   |   |   |   |   |   |--- truncated branch of depth 2\n",
      "|   |   |   |   |   |   |   |   |   |--- Price >  2859.50\n",
      "|   |   |   |   |   |   |   |   |   |   |--- Assets <= 6000.00\n",
      "|   |   |   |   |   |   |   |   |   |   |   |--- class: 0\n",
      "|   |   |   |   |   |   |   |   |   |   |--- Assets >  6000.00\n",
      "|   |   |   |   |   |   |   |   |   |   |   |--- class: 1\n",
      "|   |   |   |   |   |   |   |   |--- Debt >  6650.00\n",
      "|   |   |   |   |   |   |   |   |   |--- Age <= 41.00\n",
      "|   |   |   |   |   |   |   |   |   |   |--- class: 1\n",
      "|   |   |   |   |   |   |   |   |   |--- Age >  41.00\n",
      "|   |   |   |   |   |   |   |   |   |   |--- class: 0\n",
      "|   |   |   |--- Amount >  1530.00\n",
      "|   |   |   |   |--- Price <= 1692.00\n",
      "|   |   |   |   |   |--- Income <= 175.50\n",
      "|   |   |   |   |   |   |--- class: 0\n",
      "|   |   |   |   |   |--- Income >  175.50\n",
      "|   |   |   |   |   |   |--- Price <= 1574.50\n",
      "|   |   |   |   |   |   |   |--- class: 0\n",
      "|   |   |   |   |   |   |--- Price >  1574.50\n",
      "|   |   |   |   |   |   |   |--- class: 1\n",
      "|   |   |   |   |--- Price >  1692.00\n",
      "|   |   |   |   |   |--- Expenses <= 49.00\n",
      "|   |   |   |   |   |   |--- Debt <= 200.00\n",
      "|   |   |   |   |   |   |   |--- Amount <= 1950.00\n",
      "|   |   |   |   |   |   |   |   |--- class: 1\n",
      "|   |   |   |   |   |   |   |--- Amount >  1950.00\n",
      "|   |   |   |   |   |   |   |   |--- Assets <= 5500.00\n",
      "|   |   |   |   |   |   |   |   |   |--- class: 0\n",
      "|   |   |   |   |   |   |   |   |--- Assets >  5500.00\n",
      "|   |   |   |   |   |   |   |   |   |--- Marital <= 0.50\n",
      "|   |   |   |   |   |   |   |   |   |   |--- class: 1\n",
      "|   |   |   |   |   |   |   |   |   |--- Marital >  0.50\n",
      "|   |   |   |   |   |   |   |   |   |   |--- class: 0\n",
      "|   |   |   |   |   |   |--- Debt >  200.00\n",
      "|   |   |   |   |   |   |   |--- Price <= 2334.00\n",
      "|   |   |   |   |   |   |   |   |--- class: 0\n",
      "|   |   |   |   |   |   |   |--- Price >  2334.00\n",
      "|   |   |   |   |   |   |   |   |--- Debt <= 1450.00\n",
      "|   |   |   |   |   |   |   |   |   |--- class: 0\n",
      "|   |   |   |   |   |   |   |   |--- Debt >  1450.00\n",
      "|   |   |   |   |   |   |   |   |   |--- class: 1\n",
      "|   |   |   |   |   |--- Expenses >  49.00\n",
      "|   |   |   |   |   |   |--- Income <= 296.00\n",
      "|   |   |   |   |   |   |   |--- class: 1\n",
      "|   |   |   |   |   |   |--- Income >  296.00\n",
      "|   |   |   |   |   |   |   |--- Assets <= 9.00\n",
      "|   |   |   |   |   |   |   |   |--- Income <= 310.00\n",
      "|   |   |   |   |   |   |   |   |   |--- class: 0\n",
      "|   |   |   |   |   |   |   |   |--- Income >  310.00\n",
      "|   |   |   |   |   |   |   |   |   |--- class: 1\n",
      "|   |   |   |   |   |   |   |--- Assets >  9.00\n",
      "|   |   |   |   |   |   |   |   |--- class: 1\n",
      "|   |--- Records >  1.50\n",
      "|   |   |--- Income <= 109.50\n",
      "|   |   |   |--- Amount <= 725.00\n",
      "|   |   |   |   |--- Debt <= 220.00\n",
      "|   |   |   |   |   |--- Amount <= 275.00\n",
      "|   |   |   |   |   |   |--- Income <= 31.00\n",
      "|   |   |   |   |   |   |   |--- class: 0\n",
      "|   |   |   |   |   |   |--- Income >  31.00\n",
      "|   |   |   |   |   |   |   |--- class: 1\n",
      "|   |   |   |   |   |--- Amount >  275.00\n",
      "|   |   |   |   |   |   |--- class: 1\n",
      "|   |   |   |   |--- Debt >  220.00\n",
      "|   |   |   |   |   |--- Age <= 32.50\n",
      "|   |   |   |   |   |   |--- class: 1\n",
      "|   |   |   |   |   |--- Age >  32.50\n",
      "|   |   |   |   |   |   |--- class: 0\n",
      "|   |   |   |--- Amount >  725.00\n",
      "|   |   |   |   |--- Assets <= 17500.00\n",
      "|   |   |   |   |   |--- Price <= 1042.50\n",
      "|   |   |   |   |   |   |--- class: 0\n",
      "|   |   |   |   |   |--- Price >  1042.50\n",
      "|   |   |   |   |   |   |--- Price <= 1133.50\n",
      "|   |   |   |   |   |   |   |--- class: 1\n",
      "|   |   |   |   |   |   |--- Price >  1133.50\n",
      "|   |   |   |   |   |   |   |--- Seniority <= 4.50\n",
      "|   |   |   |   |   |   |   |   |--- class: 1\n",
      "|   |   |   |   |   |   |   |--- Seniority >  4.50\n",
      "|   |   |   |   |   |   |   |   |--- Assets <= 9250.00\n",
      "|   |   |   |   |   |   |   |   |   |--- Price <= 1549.50\n",
      "|   |   |   |   |   |   |   |   |   |   |--- Income <= 18.00\n",
      "|   |   |   |   |   |   |   |   |   |   |   |--- class: 1\n",
      "|   |   |   |   |   |   |   |   |   |   |--- Income >  18.00\n",
      "|   |   |   |   |   |   |   |   |   |   |   |--- truncated branch of depth 3\n",
      "|   |   |   |   |   |   |   |   |   |--- Price >  1549.50\n",
      "|   |   |   |   |   |   |   |   |   |   |--- class: 0\n",
      "|   |   |   |   |   |   |   |   |--- Assets >  9250.00\n",
      "|   |   |   |   |   |   |   |   |   |--- Time <= 42.00\n",
      "|   |   |   |   |   |   |   |   |   |   |--- class: 0\n",
      "|   |   |   |   |   |   |   |   |   |--- Time >  42.00\n",
      "|   |   |   |   |   |   |   |   |   |   |--- class: 1\n",
      "|   |   |   |   |--- Assets >  17500.00\n",
      "|   |   |   |   |   |--- Amount <= 975.00\n",
      "|   |   |   |   |   |   |--- class: 0\n",
      "|   |   |   |   |   |--- Amount >  975.00\n",
      "|   |   |   |   |   |   |--- Expenses <= 67.50\n",
      "|   |   |   |   |   |   |   |--- class: 1\n",
      "|   |   |   |   |   |   |--- Expenses >  67.50\n",
      "|   |   |   |   |   |   |   |--- class: 0\n",
      "|   |   |--- Income >  109.50\n",
      "|   |   |   |--- Assets <= 500.00\n",
      "|   |   |   |   |--- Seniority <= 4.50\n",
      "|   |   |   |   |   |--- class: 0\n",
      "|   |   |   |   |--- Seniority >  4.50\n",
      "|   |   |   |   |   |--- Expenses <= 74.50\n",
      "|   |   |   |   |   |   |--- Age <= 30.50\n",
      "|   |   |   |   |   |   |   |--- class: 1\n",
      "|   |   |   |   |   |   |--- Age >  30.50\n",
      "|   |   |   |   |   |   |   |--- Income <= 125.00\n",
      "|   |   |   |   |   |   |   |   |--- Time <= 54.00\n",
      "|   |   |   |   |   |   |   |   |   |--- class: 1\n",
      "|   |   |   |   |   |   |   |   |--- Time >  54.00\n",
      "|   |   |   |   |   |   |   |   |   |--- Marital <= 0.50\n",
      "|   |   |   |   |   |   |   |   |   |   |--- class: 1\n",
      "|   |   |   |   |   |   |   |   |   |--- Marital >  0.50\n",
      "|   |   |   |   |   |   |   |   |   |   |--- class: 0\n",
      "|   |   |   |   |   |   |   |--- Income >  125.00\n",
      "|   |   |   |   |   |   |   |   |--- class: 0\n",
      "|   |   |   |   |   |--- Expenses >  74.50\n",
      "|   |   |   |   |   |   |--- Expenses <= 104.50\n",
      "|   |   |   |   |   |   |   |--- Amount <= 700.00\n",
      "|   |   |   |   |   |   |   |   |--- Time <= 30.00\n",
      "|   |   |   |   |   |   |   |   |   |--- class: 1\n",
      "|   |   |   |   |   |   |   |   |--- Time >  30.00\n",
      "|   |   |   |   |   |   |   |   |   |--- class: 0\n",
      "|   |   |   |   |   |   |   |--- Amount >  700.00\n",
      "|   |   |   |   |   |   |   |   |--- class: 1\n",
      "|   |   |   |   |   |   |--- Expenses >  104.50\n",
      "|   |   |   |   |   |   |   |--- Seniority <= 23.00\n",
      "|   |   |   |   |   |   |   |   |--- class: 0\n",
      "|   |   |   |   |   |   |   |--- Seniority >  23.00\n",
      "|   |   |   |   |   |   |   |   |--- class: 1\n",
      "|   |   |   |--- Assets >  500.00\n",
      "|   |   |   |   |--- Expenses <= 89.50\n",
      "|   |   |   |   |   |--- Amount <= 862.50\n",
      "|   |   |   |   |   |   |--- class: 1\n",
      "|   |   |   |   |   |--- Amount >  862.50\n",
      "|   |   |   |   |   |   |--- Price <= 1075.00\n",
      "|   |   |   |   |   |   |   |--- class: 0\n",
      "|   |   |   |   |   |   |--- Price >  1075.00\n",
      "|   |   |   |   |   |   |   |--- Age <= 56.00\n",
      "|   |   |   |   |   |   |   |   |--- Income <= 125.00\n",
      "|   |   |   |   |   |   |   |   |   |--- Age <= 36.50\n",
      "|   |   |   |   |   |   |   |   |   |   |--- class: 1\n",
      "|   |   |   |   |   |   |   |   |   |--- Age >  36.50\n",
      "|   |   |   |   |   |   |   |   |   |   |--- class: 0\n",
      "|   |   |   |   |   |   |   |   |--- Income >  125.00\n",
      "|   |   |   |   |   |   |   |   |   |--- Income <= 295.00\n",
      "|   |   |   |   |   |   |   |   |   |   |--- Debt <= 2900.00\n",
      "|   |   |   |   |   |   |   |   |   |   |   |--- class: 1\n",
      "|   |   |   |   |   |   |   |   |   |   |--- Debt >  2900.00\n",
      "|   |   |   |   |   |   |   |   |   |   |   |--- class: 0\n",
      "|   |   |   |   |   |   |   |   |   |--- Income >  295.00\n",
      "|   |   |   |   |   |   |   |   |   |   |--- Age <= 45.50\n",
      "|   |   |   |   |   |   |   |   |   |   |   |--- truncated branch of depth 2\n",
      "|   |   |   |   |   |   |   |   |   |   |--- Age >  45.50\n",
      "|   |   |   |   |   |   |   |   |   |   |   |--- class: 1\n",
      "|   |   |   |   |   |   |   |--- Age >  56.00\n",
      "|   |   |   |   |   |   |   |   |--- class: 0\n",
      "|   |   |   |   |--- Expenses >  89.50\n",
      "|   |   |   |   |   |--- Assets <= 14000.00\n",
      "|   |   |   |   |   |   |--- Seniority <= 13.00\n",
      "|   |   |   |   |   |   |   |--- class: 0\n",
      "|   |   |   |   |   |   |--- Seniority >  13.00\n",
      "|   |   |   |   |   |   |   |--- Amount <= 1187.50\n",
      "|   |   |   |   |   |   |   |   |--- class: 0\n",
      "|   |   |   |   |   |   |   |--- Amount >  1187.50\n",
      "|   |   |   |   |   |   |   |   |--- class: 1\n",
      "|   |   |   |   |   |--- Assets >  14000.00\n",
      "|   |   |   |   |   |   |--- class: 1\n",
      "\n"
     ]
    }
   ],
   "source": [
    "from sklearn.tree import export_text\n",
    "r = export_text(clf_CART, feature_names=data.columns[:-1].tolist())\n",
    "print(r)"
   ]
  },
  {
   "cell_type": "markdown",
   "metadata": {
    "id": "pWdbKoWwKaEg"
   },
   "source": [
    "#### k-plus-proches-voisins (k=5)"
   ]
  },
  {
   "cell_type": "code",
   "execution_count": 11,
   "metadata": {
    "id": "7UqyxJvoKdV6"
   },
   "outputs": [],
   "source": [
    "from sklearn.neighbors import KNeighborsClassifier\n",
    "\n",
    "knn = KNeighborsClassifier(n_neighbors=5)\n",
    "knn = knn.fit(X_train, y_train) "
   ]
  },
  {
   "cell_type": "markdown",
   "metadata": {
    "id": "5r1pmWTrKfo3"
   },
   "source": [
    "#### Comparaison des performances\n",
    "\n",
    "Nous allons comparer les performances grâce aux valeurs de l'accuracy, de la précision et du rappel."
   ]
  },
  {
   "cell_type": "code",
   "execution_count": 12,
   "metadata": {
    "colab": {
     "base_uri": "https://localhost:8080/"
    },
    "id": "JIaAFAMpKktX",
    "outputId": "45b3b149-0ab2-45ea-d9e4-cfa536975075"
   },
   "outputs": [
    {
     "name": "stdout",
     "output_type": "stream",
     "text": [
      "Score pour CART\n",
      "---------------\n",
      "accuracy :  72.71\n",
      "precision :  81.94\n",
      "rappel :  79.92\n",
      "Score pour Knn\n",
      "---------------\n",
      "accuracy :  72.49\n",
      "precision :  77.1\n",
      "rappel :  88.19\n"
     ]
    },
    {
     "data": {
      "text/plain": [
       "(DecisionTreeClassifier(random_state=1), KNeighborsClassifier())"
      ]
     },
     "execution_count": 12,
     "metadata": {},
     "output_type": "execute_result"
    }
   ],
   "source": [
    "from sklearn.metrics import accuracy_score, precision_score, recall_score\n",
    "\n",
    "def classifieurs_score(X_tr, y_tr, X_tes, y_tes):\n",
    "    # Create CART\n",
    "    clf_CART = tree.DecisionTreeClassifier(criterion = 'gini',random_state=1)\n",
    "    clf_CART = clf_CART.fit(X_tr, y_tr)\n",
    "\n",
    "    # Create knn\n",
    "    knn = KNeighborsClassifier(n_neighbors=5)\n",
    "    knn = knn.fit(X_tr, y_tr) \n",
    "    \n",
    "    # CART prediction\n",
    "    y_CART_pred = clf_CART.predict(X_tes)\n",
    "\n",
    "    # knn prediction\n",
    "    y_knn_pred = knn.predict(X_tes)\n",
    "\n",
    "    # CART perf\n",
    "    acc_CART = accuracy_score(y_tes,y_CART_pred)\n",
    "    prec_CART = precision_score(y_tes,y_CART_pred)\n",
    "    recall_CART = recall_score(y_tes,y_CART_pred)\n",
    "\n",
    "    # knn perf\n",
    "    acc_knn = accuracy_score(y_tes,y_knn_pred)\n",
    "    prec_knn = precision_score(y_tes,y_knn_pred)\n",
    "    recall_knn = recall_score(y_tes,y_knn_pred)\n",
    "\n",
    "    # print\n",
    "    print('Score pour CART')\n",
    "    print('---------------')\n",
    "    print(\"accuracy : \",round(100*acc_CART,2))\n",
    "    print(\"precision : \",round(100*prec_CART,2))\n",
    "    print(\"rappel : \",round(100*recall_CART,2))\n",
    "    print('Score pour Knn')\n",
    "    print('---------------')\n",
    "    print(\"accuracy : \",round(100*acc_knn,2))\n",
    "    print(\"precision : \",round(100*prec_knn,2))\n",
    "    print(\"rappel : \",round(100*recall_knn,2))\n",
    "    \n",
    "    return(clf_CART,knn)\n",
    "\n",
    "classifieurs_score(X_train, y_train, X_test, y_test)"
   ]
  },
  {
   "cell_type": "markdown",
   "metadata": {
    "id": "Kry_e-1vKnFN"
   },
   "source": [
    "On remarque ici que l'accuracy est quasi égale pour ces deux classifieurs. On peut noter que ces deux classifieurs, en l'état, ne sont pas très performants car leur accuracy est proche de celle de la méthode naïve qui consisterait à associer la classe majoritaire. En revanche, l'arbre de décision CART a une meilleure précision (82% contre 77%) mais un plus mauvais rappel (80% contre 88%). Or dans ce cas d'application, nous cherchons à attribuer un crédit. La banque, perdra de l'argent si on attribue un crédit à une personne qui n'en était pas capable. Nous souhaitons donc avoir **le moins de faux positifs possibles**, c'est-à-dire avoir une précision maximale puisqu'elle mesure le taux de vrais positifs. **Le meilleur classifieur dans ce cas serait donc l'arbre CART**."
   ]
  },
  {
   "cell_type": "markdown",
   "metadata": {
    "id": "EKdxveKI_opm"
   },
   "source": [
    "### Normalisation des variables continues."
   ]
  },
  {
   "cell_type": "markdown",
   "metadata": {
    "id": "T9pjrDcDMwzW"
   },
   "source": [
    "Pour certains algorithmes, la normalisation des variables continues améliore les performances. On sélectionne donc uniquement les variables continues de la table, auxquelles on applique le procédé de normalisation."
   ]
  },
  {
   "cell_type": "code",
   "execution_count": 13,
   "metadata": {
    "id": "iv2G-NXPS1cP"
   },
   "outputs": [],
   "source": [
    "from sklearn import preprocessing\n",
    "\n",
    "scaler = preprocessing.StandardScaler().fit(X)\n",
    "X_scaled = scaler.transform(X)"
   ]
  },
  {
   "cell_type": "code",
   "execution_count": 14,
   "metadata": {
    "id": "cuwDnjQFL9rA"
   },
   "outputs": [],
   "source": [
    "y_scaled = y"
   ]
  },
  {
   "cell_type": "markdown",
   "metadata": {
    "id": "NzZxux9MNJxA"
   },
   "source": [
    "On sépare à nouveau le dataset en deux parties égales afin de préparer les phases d'entrainement et de test."
   ]
  },
  {
   "cell_type": "code",
   "execution_count": 15,
   "metadata": {
    "id": "Obn_WaXsMCxr"
   },
   "outputs": [],
   "source": [
    "from sklearn.model_selection import train_test_split\n",
    "\n",
    "X_train_scaled, X_test_scaled, y_train_scaled, y_test_scaled = train_test_split(X_scaled, y_scaled, test_size=0.5, random_state=1)"
   ]
  },
  {
   "cell_type": "code",
   "execution_count": 16,
   "metadata": {
    "colab": {
     "base_uri": "https://localhost:8080/"
    },
    "id": "nOEOMmLlWZfK",
    "outputId": "4e393a90-ef37-4bf0-996f-28999e9bb410"
   },
   "outputs": [
    {
     "name": "stdout",
     "output_type": "stream",
     "text": [
      "Score pour CART\n",
      "---------------\n",
      "accuracy :  72.58\n",
      "precision :  81.95\n",
      "rappel :  79.67\n",
      "Score pour Knn\n",
      "---------------\n",
      "accuracy :  75.41\n",
      "precision :  80.95\n",
      "rappel :  86.36\n"
     ]
    },
    {
     "data": {
      "text/plain": [
       "(DecisionTreeClassifier(random_state=1), KNeighborsClassifier())"
      ]
     },
     "execution_count": 16,
     "metadata": {},
     "output_type": "execute_result"
    }
   ],
   "source": [
    "classifieurs_score(X_train_scaled, y_train_scaled, X_test_scaled, y_test_scaled)"
   ]
  },
  {
   "cell_type": "markdown",
   "metadata": {
    "id": "vBNdd8AzN2G3"
   },
   "source": [
    "On remarque ici que la normalisation des données n'a pas d'impact sur les performances de l'arbre CART. Ceci est assez logique puisque la formation par la méthode CART utilise la répartition de chaque attribut pour construire le classifieur mais la différence de répartition entre les attributs n'a pas d'impact. En revanche, on peut remarquer que les performances du K-nn sont bien meilleures puisque sa construction fait intervenir un calcul de distance, il est nécessaire de normaliser les attributs afin que ceux-ci aient le même poids dans le calcul de distance."
   ]
  },
  {
   "cell_type": "markdown",
   "metadata": {
    "id": "5QmtDyFL_ujo"
   },
   "source": [
    "### Création de nouvelles variables caractéristiques par combinaisons linéaires des variables initiales\n",
    "\n",
    "**Ajout de 3 nouvelles variables par ACP**"
   ]
  },
  {
   "cell_type": "code",
   "execution_count": 17,
   "metadata": {
    "id": "7TxIri2cQO00"
   },
   "outputs": [],
   "source": [
    "from sklearn import decomposition\n",
    "\n",
    "pca = decomposition.PCA(n_components=3)\n",
    "pca.fit(X_scaled)\n",
    "\n",
    "X_pca = pca.transform(X_scaled)\n",
    "X_scaled_pca = np.append(X_scaled, X_pca, axis=1)\n",
    "\n",
    "X_train_scaled_pca, X_test_scaled_pca, y_train_scaled_pca, y_test_scaled_pca = train_test_split(X_scaled_pca, y_scaled, test_size=0.5, random_state=1)"
   ]
  },
  {
   "cell_type": "markdown",
   "metadata": {
    "id": "Hmn8qFIxQcWJ"
   },
   "source": [
    "**Impact sur les classifieurs**"
   ]
  },
  {
   "cell_type": "code",
   "execution_count": 18,
   "metadata": {
    "colab": {
     "base_uri": "https://localhost:8080/"
    },
    "id": "e97dKm9oQWBt",
    "outputId": "ef4e3b9b-3a32-4bd6-c810-d9f17bf4d748"
   },
   "outputs": [
    {
     "name": "stdout",
     "output_type": "stream",
     "text": [
      "Score pour CART\n",
      "---------------\n",
      "accuracy :  72.12\n",
      "precision :  81.75\n",
      "rappel :  79.17\n",
      "Score pour Knn\n",
      "---------------\n",
      "accuracy :  76.01\n",
      "precision :  81.24\n",
      "rappel :  86.93\n"
     ]
    },
    {
     "data": {
      "text/plain": [
       "(DecisionTreeClassifier(random_state=1), KNeighborsClassifier())"
      ]
     },
     "execution_count": 18,
     "metadata": {},
     "output_type": "execute_result"
    }
   ],
   "source": [
    "classifieurs_score(X_train_scaled_pca, y_train_scaled_pca, X_test_scaled_pca, y_test_scaled_pca)"
   ]
  },
  {
   "cell_type": "markdown",
   "metadata": {
    "id": "CEqjewG8Qfje"
   },
   "source": [
    "Ici on remarque que l'ajout des 3 nouvelles variables augmente légèrement les performances du classifieur K-nn mais n'influence pas les performances du classifieur CART.\n",
    "\n",
    "En réalité, l'ajout de ces nouvelles variables peut être bénéfiques mais il est nécessaire de réaliser une sélection de variables car celles-ci dépendent d'autres variables."
   ]
  },
  {
   "cell_type": "markdown",
   "metadata": {
    "id": "6sLdu-BX_8IK"
   },
   "source": [
    "\n",
    "\n",
    "### Sélection de variables"
   ]
  },
  {
   "cell_type": "markdown",
   "metadata": {
    "id": "U4DopmSEkRl_"
   },
   "source": [
    "On se retrouve alors avec 16 variables : les 13 variables initiales de la table et les 3 variables issues de la pca (que l'on appelle pca1, pca2 et pca3).\n",
    "\n",
    "L'objectif de cette partie est donc de sélectionner, parmi les 16 variables, les variables les plus influentes sur le niveau d'accuracy du classifieur."
   ]
  },
  {
   "cell_type": "code",
   "execution_count": 19,
   "metadata": {
    "colab": {
     "base_uri": "https://localhost:8080/",
     "height": 295
    },
    "id": "tA1LrSSmbBsb",
    "outputId": "9649c340-5f3d-4ef6-ba1c-5e294a369317"
   },
   "outputs": [
    {
     "data": {
      "image/png": "[encoded data removed]",
      "text/plain": [
       "<Figure size 432x288 with 1 Axes>"
      ]
     },
     "metadata": {
      "needs_background": "light"
     },
     "output_type": "display_data"
    }
   ],
   "source": [
    "from sklearn.ensemble import RandomForestClassifier \n",
    "\n",
    "clf = RandomForestClassifier(n_estimators=100) \n",
    "clf.fit(X_train_scaled_pca, y_train_scaled_pca) \n",
    "importances = clf.feature_importances_\n",
    "std = np.std([tree.feature_importances_ for tree in clf.estimators_], axis=0) \n",
    "\n",
    "sorted_idx = np.argsort(importances)[::-1]\n",
    "\n",
    "nom_cols = list(data)\n",
    "nom_cols.remove('Status')\n",
    "nom_cols.append('pca1')\n",
    "nom_cols.append('pca2')\n",
    "nom_cols.append('pca3')\n",
    "features = []\n",
    "#print(features[sorted_idx])\n",
    "for i in sorted_idx:\n",
    "  features.append(nom_cols[i])\n",
    "\n",
    "padding = np.arange(X_train_scaled_pca.size/len(y_train_scaled_pca)) + 0.5 \n",
    "plt.barh(padding, importances[sorted_idx], xerr=std[sorted_idx], align='center') \n",
    "plt.yticks(padding, features)\n",
    "plt.xlabel(\"Relative Importance\")\n",
    "plt.title(\"Variable Importance\")\n",
    "plt.show()"
   ]
  },
  {
   "cell_type": "markdown",
   "metadata": {
    "id": "pRQQ1agmlpLI"
   },
   "source": [
    "Ce diagramme nous permet de visualiser l'importance relative de chaque variable. La variable la plus importante est donc income."
   ]
  },
  {
   "cell_type": "code",
   "execution_count": 20,
   "metadata": {
    "colab": {
     "base_uri": "https://localhost:8080/",
     "height": 295
    },
    "id": "4c-vyvYcbE8B",
    "outputId": "5fd25477-2989-4450-99d6-de61b2095aac"
   },
   "outputs": [
    {
     "data": {
      "image/png": "[encoded data removed]",
      "text/plain": [
       "<Figure size 432x288 with 1 Axes>"
      ]
     },
     "metadata": {
      "needs_background": "light"
     },
     "output_type": "display_data"
    }
   ],
   "source": [
    "from sklearn.neighbors import KNeighborsClassifier\n",
    "from sklearn.metrics import accuracy_score\n",
    "\n",
    "KNN=KNeighborsClassifier(n_neighbors=5) \n",
    "scores=np.zeros(X_train_scaled_pca.shape[1]+1)\n",
    "\n",
    "for f in np.arange(0, X_train_scaled_pca.shape[1]+1):\n",
    "  X1_f = X_train_scaled_pca[:,sorted_idx[:f+1]]\n",
    "  X2_f = X_test_scaled_pca[:,sorted_idx[:f+1]] \n",
    "  KNN.fit(X1_f, y_train_scaled_pca)\n",
    "  YKNN=KNN.predict(X2_f) \n",
    "  scores[f]=np.round(accuracy_score(y_test_scaled_pca,YKNN),3)\n",
    "\n",
    "plt.plot(scores)\n",
    "plt.xlabel(\"Nombre de Variables\")\n",
    "plt.ylabel(\"Accuracy\")\n",
    "plt.title(\"Evolution de l'accuracy en fonction des variables\") \n",
    "plt.show()"
   ]
  },
  {
   "cell_type": "markdown",
   "metadata": {
    "id": "x8C0f7O2l5X9"
   },
   "source": [
    "Ce diagramme permet de visualiser l'évolution de l'accuracy en fonction du nombre de variables utilisées, dans l'ordre d'importance décroissante.\n",
    "\n",
    "A 3 variables (income, seniority, pca2) on atteint 0.73 et à 16 on atteint 0.76. On pourrait donc décider de ne garder que les 3 plus importantes variables : income, seniority et pca2. En effet elles nous permettent d'élaguer fortement la table initiale et d'obtenir une accuracy très proche de l'accuracy maximale.\n",
    "\n",
    "On décide finalement de conserver les 8 premières variables car on divise par deux le nombre de variables totales et on obtient une accuracy presque maximale de 0.75"
   ]
  },
  {
   "cell_type": "markdown",
   "metadata": {
    "id": "xnbDuVHzANa4"
   },
   "source": [
    "### Paramétrage des classifieurs\n",
    "\n",
    "On cherche ici à tuner les paramètres des classifieurs. On va utiliser GridSearchCV qui optimise les paramètres grâce à une validation croisée. Pour cette étape, on reprend les données normalisées sans ajout de pca et sans sélection de variables, bien que la combinaison avec sélection de variables est également possible.\n",
    "\n",
    "**Nombre de plus proches voisins du K-nn**"
   ]
  },
  {
   "cell_type": "code",
   "execution_count": 21,
   "metadata": {
    "id": "Jfg3jrGprKsn"
   },
   "outputs": [],
   "source": [
    "from sklearn import model_selection\n",
    "\n",
    "# Fixer les valeurs des hyperparamètres à tester\n",
    "param_grid = {'n_neighbors':[1,3,5,7,9,11,13,15]}\n",
    "\n",
    "# On choisit ici d'optimiser la precision\n",
    "score = {'precision':'precision','accuracy':'accuracy'}\n",
    "\n",
    "# Créer un classifieur kNN avec recherche d'hyperparamètre par validation croisée\n",
    "clf = model_selection.GridSearchCV(\n",
    "    KNeighborsClassifier(), # un classifieur kNN\n",
    "    param_grid,     # hyperparamètres à tester\n",
    "    cv=5,           # nombre de folds de validation croisée, par défaut la validation croisée est stratifiée\n",
    "    scoring=score,  # score à optimiser\n",
    "    refit='accuracy'#\n",
    ")\n",
    "\n",
    "# Optimiser ce classifieur sur le jeu d'entraînement\n",
    "clf.fit(X_train_scaled_pca[:,sorted_idx[:9]], y_train_scaled_pca)\n",
    "results = clf.cv_results_"
   ]
  },
  {
   "cell_type": "code",
   "execution_count": 22,
   "metadata": {
    "colab": {
     "base_uri": "https://localhost:8080/",
     "height": 502
    },
    "id": "R-XmVtg3s2c8",
    "outputId": "1d982886-ccbb-4050-ae02-e6704ee8978a"
   },
   "outputs": [
    {
     "data": {
      "image/png": "[encoded data removed]",
      "text/plain": [
       "<Figure size 576x576 with 1 Axes>"
      ]
     },
     "metadata": {
      "needs_background": "light"
     },
     "output_type": "display_data"
    }
   ],
   "source": [
    "plt.figure(figsize=(8, 8))\n",
    "\n",
    "plt.xlabel(\"n_neighbors\")\n",
    "plt.ylabel(\"Score\")\n",
    "\n",
    "ax = plt.gca()\n",
    "ax.set_xlim(2, 15)\n",
    "ax.set_ylim(0.66, 1)\n",
    "\n",
    "# Get the regular numpy array from the MaskedArray\n",
    "X_axis = np.array(results['param_n_neighbors'].data, dtype=float)\n",
    "\n",
    "for scorer, color in zip(sorted(score), ['g', 'k']):\n",
    "    sample_score_mean = results['mean_test_%s' % (scorer)]\n",
    "    sample_score_std = results['std_test_%s' % (scorer)]\n",
    "    ax.fill_between(X_axis, sample_score_mean - sample_score_std,\n",
    "                    sample_score_mean + sample_score_std,\n",
    "                    alpha=0.1, color=color)\n",
    "    ax.plot(X_axis, sample_score_mean, color=color,\n",
    "            alpha=1,\n",
    "            label=\"%s\" % (scorer))\n",
    "\n",
    "    best_index = np.nonzero(results['rank_test_%s' % scorer] == 1)[0][0]\n",
    "    best_score = results['mean_test_%s' % scorer][best_index]\n",
    "\n",
    "    # Plot a dotted vertical line at the best score for that scorer marked by x\n",
    "    ax.plot([X_axis[best_index], ] * 2, [0, best_score],\n",
    "            linestyle='-.', color=color, marker='x', markeredgewidth=3, ms=8)\n",
    "\n",
    "    # Annotate the best score for that scorer\n",
    "    ax.annotate(\"%0.2f\" % best_score,\n",
    "                (X_axis[best_index], best_score + 0.005))\n",
    "\n",
    "plt.legend(loc=\"best\")\n",
    "plt.grid(False)\n",
    "plt.show()"
   ]
  },
  {
   "cell_type": "markdown",
   "metadata": {
    "id": "ylPNOdsUteki"
   },
   "source": [
    "Nous avons choisi de faire l'optimisation du nombre de plus proches voisins en testant l'accuracy mais également la précision puisque nous avons dit précédemment que dans notre cas ce critère est important. Cependant, on remarque que la précision ne sera pas un critère d'optimisation dans ce cas car sa valeur est quasi constante quelque soit le nombre de plus proches voisins. Ainsi, un choix judicieux pour **le nombre de plus proches voisins semblerait être 5** car on est proches de la valeur d'accuracy maximale tout en essayant de garder un nombre de plus proches voisin pas trop élevé.\n",
    "\n",
    "**Optimisation de la profondeur de l'abre**"
   ]
  },
  {
   "cell_type": "code",
   "execution_count": 23,
   "metadata": {
    "id": "Pn39MMmhuNy9"
   },
   "outputs": [],
   "source": [
    "# Fixer les valeurs des hyperparamètres à tester\n",
    "param_grid={'max_depth': range(1, 21, 1)}\n",
    "\n",
    "# On choisit ici d'optimiser la precision\n",
    "score = {'precision':'precision','accuracy':'accuracy'}\n",
    "\n",
    "# Créer un classifieur kNN avec recherche d'hyperparamètre par validation croisée\n",
    "clf = model_selection.GridSearchCV(\n",
    "    tree.DecisionTreeClassifier(criterion = 'gini',random_state=1), # l'arbre de decision\n",
    "    param_grid,     # hyperparamètres à tester\n",
    "    cv=5,           # nombre de folds de validation croisée, par défaut la validation croisée est stratifiée\n",
    "    scoring=score,  # score à optimiser\n",
    "    refit='accuracy'     #\n",
    ")\n",
    "\n",
    "# Optimiser ce classifieur sur le jeu d'entraînement\n",
    "clf.fit(X_train_scaled_pca[:,sorted_idx[:9]], y_train_scaled_pca)\n",
    "results = clf.cv_results_"
   ]
  },
  {
   "cell_type": "code",
   "execution_count": 24,
   "metadata": {
    "colab": {
     "base_uri": "https://localhost:8080/",
     "height": 502
    },
    "id": "EWEG-54wuRQ7",
    "outputId": "1e0ba553-fc7d-463a-e761-d4a44c62192d"
   },
   "outputs": [
    {
     "data": {
      "image/png": "[encoded data removed]",
      "text/plain": [
       "<Figure size 576x576 with 1 Axes>"
      ]
     },
     "metadata": {
      "needs_background": "light"
     },
     "output_type": "display_data"
    }
   ],
   "source": [
    "plt.figure(figsize=(8, 8))\n",
    "\n",
    "plt.xlabel(\"max_depth\")\n",
    "plt.ylabel(\"Score\")\n",
    "\n",
    "ax = plt.gca()\n",
    "ax.set_xlim(1, 20)\n",
    "ax.set_ylim(0.66, 1)\n",
    "\n",
    "# Get the regular numpy array from the MaskedArray\n",
    "X_axis = np.array(results['param_max_depth'].data, dtype=float)\n",
    "\n",
    "for scorer, color in zip(sorted(score), ['g', 'k']):\n",
    "    sample_score_mean = results['mean_test_%s' % (scorer)]\n",
    "    sample_score_std = results['std_test_%s' % (scorer)]\n",
    "    ax.fill_between(X_axis, sample_score_mean - sample_score_std,\n",
    "                    sample_score_mean + sample_score_std,\n",
    "                    alpha=0.1, color=color)\n",
    "    ax.plot(X_axis, sample_score_mean, color=color,\n",
    "            alpha=1,\n",
    "            label=\"%s\" % (scorer))\n",
    "\n",
    "    best_index = np.nonzero(results['rank_test_%s' % scorer] == 1)[0][0]\n",
    "    best_score = results['mean_test_%s' % scorer][best_index]\n",
    "\n",
    "    # Plot a dotted vertical line at the best score for that scorer marked by x\n",
    "    ax.plot([X_axis[best_index], ] * 2, [0, best_score],\n",
    "            linestyle='-.', color=color, marker='x', markeredgewidth=3, ms=8)\n",
    "\n",
    "    # Annotate the best score for that scorer\n",
    "    ax.annotate(\"%0.2f\" % best_score,\n",
    "                (X_axis[best_index], best_score + 0.005))\n",
    "\n",
    "plt.legend(loc=\"best\")\n",
    "plt.grid(False)\n",
    "plt.show()"
   ]
  },
  {
   "cell_type": "markdown",
   "metadata": {
    "id": "aTnlBwe0uaP9"
   },
   "source": [
    "Ici, on peut conclure que la paramètre optimal est une **profondeur maximale de 5** puisque qu'on a la valeur maximale de précision et d'accuracy. On aurait aussi pu choisir la profondeur de 7 car la précision est un peu plus élevée mais nous perdrions beaucoup en accuracy.\n",
    "\n",
    "**Optimisation du nombre d'instances minimales pour diviser un noeud**\n"
   ]
  },
  {
   "cell_type": "code",
   "execution_count": 25,
   "metadata": {
    "id": "z_gZsd70vBGK"
   },
   "outputs": [],
   "source": [
    "# Fixer les valeurs des hyperparamètres à tester\n",
    "param_grid={'min_samples_split': range(2, 301, 5)},\n",
    "\n",
    "# On choisit ici d'optimiser la precision\n",
    "score = {'precision':'precision','accuracy':'accuracy'}\n",
    "\n",
    "# Créer un classifieur kNN avec recherche d'hyperparamètre par validation croisée\n",
    "clf = model_selection.GridSearchCV(\n",
    "    tree.DecisionTreeClassifier(criterion = 'gini',random_state=1), # l'arbre de decision\n",
    "    param_grid,     # hyperparamètres à tester\n",
    "    cv=5,           # nombre de folds de validation croisée, par défaut la validation croisée est stratifiée\n",
    "    scoring=score,  # score à optimiser\n",
    "    refit='accuracy'     #\n",
    ")\n",
    "\n",
    "# Optimiser ce classifieur sur le jeu d'entraînement\n",
    "clf.fit(X_train_scaled_pca[:,sorted_idx[:9]], y_train_scaled_pca)\n",
    "results = clf.cv_results_"
   ]
  },
  {
   "cell_type": "code",
   "execution_count": 26,
   "metadata": {
    "colab": {
     "base_uri": "https://localhost:8080/",
     "height": 502
    },
    "id": "rlydXManvXva",
    "outputId": "2b49e31e-a537-42f7-9992-b8600e5c53eb"
   },
   "outputs": [
    {
     "data": {
      "image/png": "[encoded data removed]",
      "text/plain": [
       "<Figure size 576x576 with 1 Axes>"
      ]
     },
     "metadata": {
      "needs_background": "light"
     },
     "output_type": "display_data"
    }
   ],
   "source": [
    "plt.figure(figsize=(8, 8))\n",
    "\n",
    "plt.xlabel(\"min_samples_split\")\n",
    "plt.ylabel(\"Score\")\n",
    "\n",
    "ax = plt.gca()\n",
    "ax.set_xlim(0, 300)\n",
    "ax.set_ylim(0.67, 1)\n",
    "\n",
    "# Get the regular numpy array from the MaskedArray\n",
    "X_axis = np.array(results['param_min_samples_split'].data, dtype=float)\n",
    "\n",
    "for scorer, color in zip(sorted(score), ['g', 'k']):\n",
    "    sample_score_mean = results['mean_test_%s' % (scorer)]\n",
    "    sample_score_std = results['std_test_%s' % (scorer)]\n",
    "    ax.fill_between(X_axis, sample_score_mean - sample_score_std,\n",
    "                    sample_score_mean + sample_score_std,\n",
    "                    alpha=0.1, color=color)\n",
    "    ax.plot(X_axis, sample_score_mean, color=color,\n",
    "            alpha=1,\n",
    "            label=\"%s\" % (scorer))\n",
    "\n",
    "    best_index = np.nonzero(results['rank_test_%s' % scorer] == 1)[0][0]\n",
    "    best_score = results['mean_test_%s' % scorer][best_index]\n",
    "\n",
    "    # Plot a dotted vertical line at the best score for that scorer marked by x\n",
    "    ax.plot([X_axis[best_index], ] * 2, [0, best_score],\n",
    "            linestyle='-.', color=color, marker='x', markeredgewidth=3, ms=8)\n",
    "\n",
    "    # Annotate the best score for that scorer\n",
    "    ax.annotate(\"%0.2f\" % best_score,\n",
    "                (X_axis[best_index], best_score + 0.005))\n",
    "\n",
    "plt.legend(loc=\"best\")\n",
    "plt.grid(False)\n",
    "plt.show()"
   ]
  },
  {
   "cell_type": "markdown",
   "metadata": {
    "id": "tKxvzYSg0Bf9"
   },
   "source": [
    "Une valeur judicieuse pour optimiser l'accuracy est la précision serait de prendre min_samples_split autour de 75."
   ]
  },
  {
   "cell_type": "markdown",
   "metadata": {
    "id": "G93fGZ-WA6EZ"
   },
   "source": [
    "### Création d’un pipeline"
   ]
  },
  {
   "cell_type": "markdown",
   "metadata": {
    "id": "HHSL9Y_m5Hqe"
   },
   "source": [
    "On s'intéresse maintenant à la création d'un pipeline qui va effectuer les 3 procédures de Normalisation, PCA et Classification. L'intérêt d'un pipeline est de pouvoir exécuter rapidement dans un code compacte l'ensemble des tâches, afin de comparer les performances de différentes méthodes de classification.\n",
    "\n",
    "A la fin du pipeline, on ajuste le modèle avec fit puis on l'évalue avec score sur le jeu de test.\n"
   ]
  },
  {
   "cell_type": "code",
   "execution_count": 27,
   "metadata": {
    "id": "6nmiYW7j_W40"
   },
   "outputs": [],
   "source": [
    "from sklearn.pipeline import Pipeline\n",
    "from sklearn.preprocessing import StandardScaler\n",
    "from sklearn.pipeline import FeatureUnion\n",
    "from sklearn.decomposition import PCA\n",
    "\n",
    "select_3_PCA_components = Pipeline(steps=[\n",
    "    ('scale', StandardScaler()), \n",
    "    ('PCA', PCA(n_components=3))])\n",
    "\n",
    "preprocessor = FeatureUnion([('scale',StandardScaler()), ('select_3_PCA_components',select_3_PCA_components)])"
   ]
  },
  {
   "cell_type": "markdown",
   "metadata": {
    "id": "W8raCpeYBAiy"
   },
   "source": [
    "**Pipeline complète**"
   ]
  },
  {
   "cell_type": "code",
   "execution_count": 28,
   "metadata": {
    "id": "UBmXK-7EA_8j"
   },
   "outputs": [],
   "source": [
    "def pipeline(classifier):\n",
    "\n",
    "  return(Pipeline(steps=[('preprocessor', preprocessor),('classifier', classifier)]))"
   ]
  },
  {
   "cell_type": "markdown",
   "metadata": {
    "id": "2qk2kkptB8g8"
   },
   "source": [
    "**Testons la pipeline**"
   ]
  },
  {
   "cell_type": "code",
   "execution_count": 29,
   "metadata": {
    "colab": {
     "base_uri": "https://localhost:8080/"
    },
    "id": "YO9ZkXsq2wVZ",
    "outputId": "da0a5528-ee51-4253-de2f-860d158f162c"
   },
   "outputs": [
    {
     "data": {
      "text/plain": [
       "0.756398537477148"
      ]
     },
     "execution_count": 29,
     "metadata": {},
     "output_type": "execute_result"
    }
   ],
   "source": [
    "import pandas as pd\n",
    "data = pd.read_csv('credit_scoring.csv', sep=';')\n",
    "X = data.drop('Status', axis=1)\n",
    "y = data['Status']\n",
    "\n",
    "from sklearn.model_selection import train_test_split\n",
    "\n",
    "X_train, X_test, y_train, y_test = train_test_split(X, y, test_size=0.5, random_state=1)\n",
    "\n",
    "from sklearn.neighbors import KNeighborsClassifier\n",
    "pipe = pipeline(KNeighborsClassifier(n_neighbors=5))\n",
    "pipe.fit(X_train, y_train)\n",
    "accuracy_score(y_test,pipe.predict(X_test))"
   ]
  },
  {
   "cell_type": "markdown",
   "metadata": {
    "id": "FWs5DGJe6NPe"
   },
   "source": [
    "La cellule de code suivante permet d'enregistrer le fit du modèle du pipeline via la procédure pickle qui permet d'enregistrer un objet python en binaire. On ne l'utilise pas ici puisqu'on applique directement le pipeline à différents classifieur pour comparer leur performance."
   ]
  },
  {
   "cell_type": "code",
   "execution_count": 30,
   "metadata": {
    "id": "rZUdkcWj2x5D"
   },
   "outputs": [],
   "source": [
    "import pickle\n",
    "\n",
    "filename = 'fit'\n",
    "outfile = open(filename, 'wb')\n",
    "pickle.dump(pipe, outfile)\n",
    "outfile.close()"
   ]
  },
  {
   "cell_type": "markdown",
   "metadata": {
    "id": "H6j427c6BHYA"
   },
   "source": [
    "### Comparaison de plusieurs algorithmes d’apprentissage"
   ]
  },
  {
   "cell_type": "markdown",
   "metadata": {
    "id": "N0Eum9vWIZq7"
   },
   "source": [
    "#### Naive Bayes Simple"
   ]
  },
  {
   "cell_type": "code",
   "execution_count": null,
   "metadata": {},
   "outputs": [],
   "source": []
  },
  {
   "cell_type": "markdown",
   "metadata": {
    "id": "FRAoqEJNJxzQ"
   },
   "source": [
    "## Apprentissage supervisé : Données hétérogènes\n",
    "\n",
    "### Chargement des données et préparation"
   ]
  },
  {
   "cell_type": "code",
   "execution_count": 31,
   "metadata": {
    "id": "NwetdUyXJ-bm"
   },
   "outputs": [],
   "source": [
    "import pandas as pd\n",
    "data = pd.read_csv('credit.data', sep='\\t', header=None)"
   ]
  },
  {
   "cell_type": "code",
   "execution_count": 32,
   "metadata": {
    "id": "roeEMM0QKAxP"
   },
   "outputs": [
    {
     "data": {
      "text/html": [
       "<div>\n",
       "<style scoped>\n",
       "    .dataframe tbody tr th:only-of-type {\n",
       "        vertical-align: middle;\n",
       "    }\n",
       "\n",
       "    .dataframe tbody tr th {\n",
       "        vertical-align: top;\n",
       "    }\n",
       "\n",
       "    .dataframe thead th {\n",
       "        text-align: right;\n",
       "    }\n",
       "</style>\n",
       "<table border=\"1\" class=\"dataframe\">\n",
       "  <thead>\n",
       "    <tr style=\"text-align: right;\">\n",
       "      <th></th>\n",
       "      <th>0</th>\n",
       "      <th>1</th>\n",
       "      <th>2</th>\n",
       "      <th>3</th>\n",
       "      <th>4</th>\n",
       "      <th>5</th>\n",
       "      <th>6</th>\n",
       "      <th>7</th>\n",
       "      <th>8</th>\n",
       "      <th>9</th>\n",
       "      <th>10</th>\n",
       "      <th>11</th>\n",
       "      <th>12</th>\n",
       "      <th>13</th>\n",
       "      <th>14</th>\n",
       "      <th>15</th>\n",
       "    </tr>\n",
       "  </thead>\n",
       "  <tbody>\n",
       "    <tr>\n",
       "      <td>0</td>\n",
       "      <td>b</td>\n",
       "      <td>30.83</td>\n",
       "      <td>0.000</td>\n",
       "      <td>u</td>\n",
       "      <td>g</td>\n",
       "      <td>w</td>\n",
       "      <td>v</td>\n",
       "      <td>1.25</td>\n",
       "      <td>t</td>\n",
       "      <td>t</td>\n",
       "      <td>1</td>\n",
       "      <td>f</td>\n",
       "      <td>g</td>\n",
       "      <td>202</td>\n",
       "      <td>0</td>\n",
       "      <td>+</td>\n",
       "    </tr>\n",
       "    <tr>\n",
       "      <td>1</td>\n",
       "      <td>a</td>\n",
       "      <td>58.67</td>\n",
       "      <td>4.460</td>\n",
       "      <td>u</td>\n",
       "      <td>g</td>\n",
       "      <td>q</td>\n",
       "      <td>h</td>\n",
       "      <td>3.04</td>\n",
       "      <td>t</td>\n",
       "      <td>t</td>\n",
       "      <td>6</td>\n",
       "      <td>f</td>\n",
       "      <td>g</td>\n",
       "      <td>43</td>\n",
       "      <td>560</td>\n",
       "      <td>+</td>\n",
       "    </tr>\n",
       "    <tr>\n",
       "      <td>2</td>\n",
       "      <td>a</td>\n",
       "      <td>24.50</td>\n",
       "      <td>0.500</td>\n",
       "      <td>u</td>\n",
       "      <td>g</td>\n",
       "      <td>q</td>\n",
       "      <td>h</td>\n",
       "      <td>1.50</td>\n",
       "      <td>t</td>\n",
       "      <td>f</td>\n",
       "      <td>0</td>\n",
       "      <td>f</td>\n",
       "      <td>g</td>\n",
       "      <td>280</td>\n",
       "      <td>824</td>\n",
       "      <td>+</td>\n",
       "    </tr>\n",
       "    <tr>\n",
       "      <td>3</td>\n",
       "      <td>b</td>\n",
       "      <td>27.83</td>\n",
       "      <td>1.540</td>\n",
       "      <td>u</td>\n",
       "      <td>g</td>\n",
       "      <td>w</td>\n",
       "      <td>v</td>\n",
       "      <td>3.75</td>\n",
       "      <td>t</td>\n",
       "      <td>t</td>\n",
       "      <td>5</td>\n",
       "      <td>t</td>\n",
       "      <td>g</td>\n",
       "      <td>100</td>\n",
       "      <td>3</td>\n",
       "      <td>+</td>\n",
       "    </tr>\n",
       "    <tr>\n",
       "      <td>4</td>\n",
       "      <td>b</td>\n",
       "      <td>20.17</td>\n",
       "      <td>5.625</td>\n",
       "      <td>u</td>\n",
       "      <td>g</td>\n",
       "      <td>w</td>\n",
       "      <td>v</td>\n",
       "      <td>1.71</td>\n",
       "      <td>t</td>\n",
       "      <td>f</td>\n",
       "      <td>0</td>\n",
       "      <td>f</td>\n",
       "      <td>s</td>\n",
       "      <td>120</td>\n",
       "      <td>0</td>\n",
       "      <td>+</td>\n",
       "    </tr>\n",
       "  </tbody>\n",
       "</table>\n",
       "</div>"
      ],
      "text/plain": [
       "  0      1      2  3  4  5  6     7  8  9   10 11 12   13   14 15\n",
       "0  b  30.83  0.000  u  g  w  v  1.25  t  t   1  f  g  202    0  +\n",
       "1  a  58.67  4.460  u  g  q  h  3.04  t  t   6  f  g   43  560  +\n",
       "2  a  24.50  0.500  u  g  q  h  1.50  t  f   0  f  g  280  824  +\n",
       "3  b  27.83  1.540  u  g  w  v  3.75  t  t   5  t  g  100    3  +\n",
       "4  b  20.17  5.625  u  g  w  v  1.71  t  f   0  f  s  120    0  +"
      ]
     },
     "execution_count": 32,
     "metadata": {},
     "output_type": "execute_result"
    }
   ],
   "source": [
    "data.head()"
   ]
  },
  {
   "cell_type": "code",
   "execution_count": 33,
   "metadata": {
    "id": "q2D-PD23KCWX"
   },
   "outputs": [],
   "source": [
    "X = data.iloc[:, 0:15].values\n",
    "y = data.iloc[:, 15].values"
   ]
  },
  {
   "cell_type": "code",
   "execution_count": 34,
   "metadata": {
    "id": "ckILhMGWKGa5"
   },
   "outputs": [],
   "source": [
    "# on constitue data_num le df qui ne contient que les colomnes numériques\n",
    "\n",
    "data_num = data.copy()\n",
    "data_num[1] = pd.to_numeric(data_num[1], errors = 'coerce')\n",
    "data_num[13] = pd.to_numeric(data_num[13], errors = 'coerce')\n",
    "col_idx = [1, 2, 7, 10, 13, 14]\n",
    "data_num = data_num[col_idx]\n",
    "data_num = data_num.astype(float)\n",
    "#X_num = data_num.iloc[:, :].values"
   ]
  },
  {
   "cell_type": "code",
   "execution_count": 35,
   "metadata": {
    "id": "Ao-oHk28KUgi"
   },
   "outputs": [],
   "source": [
    "# on retire du df les rows qui contiennent au moins un NaN\n",
    "\n",
    "import math\n",
    "\n",
    "for i in range(len(data_num)):\n",
    "    for j in data_num.columns:\n",
    "        if math.isnan(data_num[j][i]) == True:\n",
    "            data_num = data_num.drop([i])\n",
    "            break"
   ]
  },
  {
   "cell_type": "code",
   "execution_count": null,
   "metadata": {
    "id": "NMflKyaXZ5UD"
   },
   "outputs": [],
   "source": []
  }
 ],
 "metadata": {
  "colab": {
   "collapsed_sections": [],
   "name": "TP1_Apprentissage_Supervisé.ipynb",
   "provenance": [],
   "toc_visible": true
  },
  "kernelspec": {
   "display_name": "Python 3",
   "language": "python",
   "name": "python3"
  },
  "language_info": {
   "codemirror_mode": {
    "name": "ipython",
    "version": 3
   },
   "file_extension": ".py",
   "mimetype": "text/x-python",
   "name": "python",
   "nbconvert_exporter": "python",
   "pygments_lexer": "ipython3",
   "version": "3.7.4"
  },
  "toc": {
   "base_numbering": 1,
   "nav_menu": {},
   "number_sections": true,
   "sideBar": true,
   "skip_h1_title": true,
   "title_cell": "Table of Contents",
   "title_sidebar": "Contents",
   "toc_cell": true,
   "toc_position": {},
   "toc_section_display": true,
   "toc_window_display": true
  }
 },
 "nbformat": 4,
 "nbformat_minor": 1
}
