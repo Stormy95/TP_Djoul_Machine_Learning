{
 "cells": [
  {
   "cell_type": "markdown",
   "metadata": {},
   "source": [
    "# Atelier 2 : Apprentissage supervisé avec Python <a class=\"anchor\" id=\"Titre\"></a>"
   ]
  },
  {
   "cell_type": "markdown",
   "metadata": {},
   "source": [
    "# Data Preprocessing\n",
    "\n",
    "• Feature engineering <br>\n",
    "• Feature selection <br>\n",
    "• Classification <br> \n",
    "• Evaluation de la qualité d’un classifieur <br>\n",
    "\n",
    " <a class=\"anchor\" id=\"objectif\"></a>"
   ]
  },
  {
   "cell_type": "code",
   "execution_count": 1,
   "metadata": {},
   "outputs": [],
   "source": [
    "path=r'C:\\Users\\thiba\\OneDrive\\Documents\\Documents\\COURS\\CENTRALE LYON\\MASTER2-DS\\machine_Learning\\TP2_masterDS\\TP-AS\\TP AS\\\\'"
   ]
  },
  {
   "cell_type": "markdown",
   "metadata": {},
   "source": [
    "# Sommaire"
   ]
  },
  {
   "cell_type": "markdown",
   "metadata": {},
   "source": [
    "[Atelier 2 : Apprentissage supervisé avec Python](#Titre)\n",
    "\n",
    "[Data Preprocessing](#Titre)\n",
    "\n",
    "[Import de module](#Module)\n",
    "\n",
    "[Fonctions utilisées](#fonction)\n",
    "\n",
    "[I. Apprentissage supervisé : Feature engineering et Classification](#Partie1)\n",
    "- [I.1. Chargement des données et préparation](#Partie1.1) \n",
    "    - [I.1.1 Importation des données](#Partie1.1.1) \n",
    "    - [I.1.2 Séparation en jeu de donnée et de label](#Partie1.1.2) \n",
    "    - [I.1.2 Séparation en jeu de donnée et de label](#Partie1.1.3) \n",
    "    - [I.1.2 Séparation en jeu de donnée et de label](#Partie1.1.4) \n",
    "- [I.2. Apprentissage et évaluation de modèles](#Partie1.2) \n",
    "    - [I.2.1 Un arbre CART](#Partie1.2.1) \n",
    "    - [I.2.2  k-plus-proches-voisins avec k=5](#Partie1.2.2) \n",
    "    - [I.2.3  MultilayerPerceptron à deux couches](#Partie1.2.3) \n",
    "    - [I.2.4  Analyse des résultats](#Partie1.2.4) \n",
    "- [I.3  Normalisation des variables continues](#Partie1.3) \n",
    "    - [I.3.1  Préparation des données](#Partie1.3.1) \n",
    "    - [I.3.2  Apprentissage et évaluation de modèles](#Partie1.3.2) \n",
    "    - [I.3.3  Analyse des résultats](#Partie1.3.3) \n",
    "- [I.4  Création de nouvelles variables caractéristiques par combinaisons linéaires des variables initiales](#Partie1.4) \n",
    "    - [I.4.1  Préparation des données](#Partie1.4.1) \n",
    "    - [I.4.2  Apprentissage et évaluation de modèles](#Partie1.4.2) \n",
    "    - [I.4.3  Analyse des résultats](#Partie1.4.3) \n",
    "- [I.5  Sélection de variables](#Partie1.5) \n",
    "    - [I.5.1  Préparation des données](#Partie1.5.1) \n",
    "    - [I.5.2  Utilisation d'un random forest](#Partie1.5.2) \n",
    "- [I.6  Paramétrage des classifieurs](#Partie1.6) \n",
    "    - [I.6.1  Préparation des données](#Partie1.6.1) \n",
    "    - [I.6.2  Recherche du nombre de voisin optimal pour KNN](#Partie1.6.2) \n",
    "    - [I.6.3  Recherche de la profondeur optimal pour arbre de décision](#Partie1.6.3) \n",
    "    - [I.6.4  Recherche de l'optimum d'instances minimales pour arbre de décision](#Partie1.6.4) \n",
    "    - [I.6.5  Recherche du learning rate optimale pour réseau de neurones](#Partie1.6.5) \n",
    "    - [I.6.6  Recherche de nombres de couches optimal pour réseau de neurones](#Partie1.6.6) \n",
    "    - [I.6.7  Recherche du nombre de neurones optimal sur la première couche](#Partie1.6.7) \n",
    "- [I.7  Création d’un pipeline](#Partie1.7) \n",
    "    - [I.7.1  Partie standardisation et PCA de la pipeline](#Partie1.7.1) \n",
    "    - [I.7.2  Construction de toute la pipeline](#Partie1.7.2) \n",
    "    - [I.7.3  Test de la pipeline](#Partie1.7.3) \n",
    "    - [I.7.4 Enregistrement de la pipeline](#Partie1.7.4)\n",
    "- [I.8  Comparaison de plusieurs algorithmes d’apprentissage](#Partie1.8) \n",
    "    - [I.8.1 Utilisation NaiveBayesSimple](#Partie1.8.1) \n",
    "    - [I.8.2 Utilisation Un arbre CART](#Partie1.8.2) \n",
    "    - [I.8.3 Utilisation Un arbre ID3](#Partie1.8.3) \n",
    "    - [I.8.4 Utilisation Decision Stump](#Partie1.8.4) \n",
    "    - [I.8.5 Utilisation MultilayerPerceptron à deux couches de tailles respectives 20 et 10](#Partie1.8.5) \n",
    "    - [I.8.6 Utilisation k-plus-proches-voisins](#Partie1.8.6) \n",
    "    - [I.8.7 Bagging](#Partie1.8.7) \n",
    "    - [I.8.8 AdaBoost](#Partie1.8.8) \n",
    "    - [I.8.9 Random Forest](#Partie1.8.9)\n",
    "    - [I.8.10 Analyse naîves des résultats](#Partie1.8.10)\n",
    "    - [I.8.11 Analyse des résultats via validation croisée](#Partie1.8.11)  \n",
    "    \n",
    "[II. Apprentissage supervisé : Données hétérogènes](#Partie2)\n",
    "- [II.1. Traitement des données existantes](#Partie2.1) \n",
    "    - [II.1.1 Chargement des données et préparatione](#Partie2.1.1) \n",
    "    - [II.1.2 Normalisation des variables continues](#Partie2.1.2)\n",
    "    - [II.1.3 Execution des classifieurs pour le set numérique avec Standardscaler](#Partie2.1.3)\n",
    "    - [II.1.4 Execution des classifieurs pour le set numérique avec MinMaxscaler](#Partie2.1.4)\n",
    "    \n",
    "- [II.2. Traitement de toutes les données](#Partie2.2) \n",
    "    - [II.2.1 Traitement des données manquantes](#Partie2.2.1) \n",
    "    - [II.2.2 Traitement de variables catégorielles](#Partie2.2.2)\n",
    "    - [II.2.3 Construction de votre jeu de données](#Partie2.2.3)\n",
    "    - [II.2.4 Execution des classifieurs pour le set complet](#Partie2.2.4)\n",
    "    \n",
    "[III. Apprentissage supervisé sur des données textuelles : Feature engineering et Classification](#Partie3)\n",
    "- [III.1. Utilisation de CountVectorizer](#Partie3.1) \n",
    "- [III.2. Utilisation de Tf–idf term weighting](#Partie3.2) \n",
    "- [III.3. Utilisation de TruncatedSVD](#Partie3.3) \n",
    "- [III.4. Utilisation de la Pipeline](#Partie3.4)\n",
    "- [III.5. Application sur un autre jeu de données](#Partie3.5) \n",
    "     \n",
    "    \n",
    "    "
   ]
  },
  {
   "cell_type": "markdown",
   "metadata": {},
   "source": [
    "# Import de module <a class=\"anchor\" id=\"Module\"></a>"
   ]
  },
  {
   "cell_type": "code",
   "execution_count": 2,
   "metadata": {},
   "outputs": [],
   "source": [
    "import numpy as np\n",
    "np.set_printoptions(threshold=10000,suppress=True)\n",
    "import pandas as pd\n",
    "import warnings\n",
    "import seaborn as sns\n",
    "import matplotlib.pyplot as plt\n",
    "warnings.filterwarnings('ignore')\n",
    "from sklearn import decomposition\n",
    "from sklearn import model_selection\n",
    "from sklearn import tree\n",
    "from sklearn.model_selection import train_test_split\n",
    "from sklearn.neighbors import KNeighborsClassifier\n",
    "from sklearn.neural_network import MLPClassifier\n",
    "from sklearn.metrics import confusion_matrix\n",
    "import itertools\n",
    "from sklearn import preprocessing\n",
    "from sklearn.metrics import recall_score\n",
    "from sklearn.metrics import precision_score\n",
    "from sklearn.metrics import accuracy_score\n",
    "from sklearn.ensemble import RandomForestClassifier\n",
    "from sklearn.pipeline import Pipeline\n",
    "from sklearn.preprocessing import StandardScaler\n",
    "from sklearn.pipeline import FeatureUnion\n",
    "from sklearn.decomposition import PCA\n",
    "from sklearn.naive_bayes import GaussianNB\n",
    "from sklearn.ensemble import BaggingClassifier\n",
    "from sklearn.ensemble import AdaBoostClassifier\n",
    "from sklearn.model_selection import KFold\n",
    "from sklearn.model_selection import cross_val_score\n",
    "from sklearn.metrics import make_scorer, auc\n",
    "import time\n",
    "from sklearn.impute import SimpleImputer\n",
    "from sklearn.preprocessing import OneHotEncoder\n",
    "from sklearn.preprocessing import LabelEncoder\n",
    "from sklearn.feature_extraction.text import CountVectorizer\n",
    "from sklearn.feature_extraction.text import TfidfVectorizer\n",
    "from sklearn.decomposition import TruncatedSVD"
   ]
  },
  {
   "cell_type": "markdown",
   "metadata": {},
   "source": [
    "# Fonctions utilisées <a class=\"anchor\" id=\"fonction\"></a>"
   ]
  },
  {
   "cell_type": "code",
   "execution_count": 3,
   "metadata": {},
   "outputs": [],
   "source": [
    "def plot_confusion_matrix(Ytest, Ypred, classes,title,cmap=plt.cm.Blues):\n",
    "    cm=confusion_matrix(Ytest, Ypred)\n",
    "    plt.figure()\n",
    "    plt.imshow(cm, interpolation='nearest', cmap=cmap)\n",
    "    plt.title(title)\n",
    "    plt.colorbar()\n",
    "    tick_marks = np.arange(len(classes))\n",
    "    plt.xticks(tick_marks, classes, rotation=45)\n",
    "    plt.yticks(tick_marks, classes)\n",
    "\n",
    "    thresh = cm.max() / 2.\n",
    "    for i, j in itertools.product(range(cm.shape[0]), range(cm.shape[1])):\n",
    "        plt.text(j, i, cm[i, j],\n",
    "                 horizontalalignment=\"center\",\n",
    "                 color=\"white\" if cm[i, j] > thresh else \"black\")\n",
    "    plt.tight_layout()\n",
    "    plt.ylabel('True label')\n",
    "    plt.xlabel('Predicted label')"
   ]
  },
  {
   "cell_type": "code",
   "execution_count": 4,
   "metadata": {},
   "outputs": [],
   "source": [
    "def accuracy_recall_precison(y_true,y_pred):\n",
    "    recall=recall_score(y_true, y_pred)\n",
    "    precision=precision_score(y_true, y_pred)\n",
    "    accuracy=accuracy_score(y_true, y_pred)\n",
    "    return(recall,precision,accuracy)"
   ]
  },
  {
   "cell_type": "markdown",
   "metadata": {},
   "source": [
    "## I. Apprentissage supervisé : Feature engineering et Classification <a class=\"anchor\" id=\"Partie1\"></a>"
   ]
  },
  {
   "cell_type": "markdown",
   "metadata": {},
   "source": [
    "L’objectif dans cette partie est de construire un bon classifieur sur un jeu de données de crédit scoring du fichier\n",
    "\"credit_scoring.csv\"."
   ]
  },
  {
   "cell_type": "markdown",
   "metadata": {},
   "source": [
    "### I.1. Chargement des données et préparation <a class=\"anchor\" id=\"Partie1.1\"></a>"
   ]
  },
  {
   "cell_type": "markdown",
   "metadata": {},
   "source": [
    "#### I.1.1 Importation des données <a class=\"anchor\" id=\"Partie1.1.1\"></a>"
   ]
  },
  {
   "cell_type": "markdown",
   "metadata": {},
   "source": [
    "Création de dictionnaire pour contenir tous les scores"
   ]
  },
  {
   "cell_type": "code",
   "execution_count": 5,
   "metadata": {},
   "outputs": [],
   "source": [
    "dict_score_CART = pd.DataFrame(index = ['Recall', 'Precison', 'Accuracy'], columns = ['Sans modif', 'standardisaiton', 'PCA'])\n",
    "dict_score_KNN = pd.DataFrame(index = ['Recall', 'Precison', 'Accuracy'], columns = ['Sans modif', 'standardisaiton', 'PCA'])\n",
    "dict_score_MP = pd.DataFrame(index = ['Recall', 'Precison', 'Accuracy'], columns = ['Sans modif', 'standardisaiton', 'PCA']) "
   ]
  },
  {
   "cell_type": "code",
   "execution_count": 6,
   "metadata": {},
   "outputs": [],
   "source": [
    "data = pd.read_csv(path+'credit_scoring.csv', sep=';')"
   ]
  },
  {
   "cell_type": "code",
   "execution_count": 7,
   "metadata": {},
   "outputs": [
    {
     "data": {
      "text/html": [
       "<div>\n",
       "<style scoped>\n",
       "    .dataframe tbody tr th:only-of-type {\n",
       "        vertical-align: middle;\n",
       "    }\n",
       "\n",
       "    .dataframe tbody tr th {\n",
       "        vertical-align: top;\n",
       "    }\n",
       "\n",
       "    .dataframe thead th {\n",
       "        text-align: right;\n",
       "    }\n",
       "</style>\n",
       "<table border=\"1\" class=\"dataframe\">\n",
       "  <thead>\n",
       "    <tr style=\"text-align: right;\">\n",
       "      <th></th>\n",
       "      <th>Seniority</th>\n",
       "      <th>Home</th>\n",
       "      <th>Time</th>\n",
       "      <th>Age</th>\n",
       "      <th>Marital</th>\n",
       "      <th>Records</th>\n",
       "      <th>Job</th>\n",
       "      <th>Expenses</th>\n",
       "      <th>Income</th>\n",
       "      <th>Assets</th>\n",
       "      <th>Debt</th>\n",
       "      <th>Amount</th>\n",
       "      <th>Price</th>\n",
       "      <th>Status</th>\n",
       "    </tr>\n",
       "  </thead>\n",
       "  <tbody>\n",
       "    <tr>\n",
       "      <th>0</th>\n",
       "      <td>9.0</td>\n",
       "      <td>1.0</td>\n",
       "      <td>60.0</td>\n",
       "      <td>30.0</td>\n",
       "      <td>0.0</td>\n",
       "      <td>1.0</td>\n",
       "      <td>1.0</td>\n",
       "      <td>73.0</td>\n",
       "      <td>129.0</td>\n",
       "      <td>0.0</td>\n",
       "      <td>0.0</td>\n",
       "      <td>800.0</td>\n",
       "      <td>846.0</td>\n",
       "      <td>1</td>\n",
       "    </tr>\n",
       "    <tr>\n",
       "      <th>1</th>\n",
       "      <td>17.0</td>\n",
       "      <td>1.0</td>\n",
       "      <td>60.0</td>\n",
       "      <td>58.0</td>\n",
       "      <td>1.0</td>\n",
       "      <td>1.0</td>\n",
       "      <td>0.0</td>\n",
       "      <td>48.0</td>\n",
       "      <td>131.0</td>\n",
       "      <td>0.0</td>\n",
       "      <td>0.0</td>\n",
       "      <td>1000.0</td>\n",
       "      <td>1658.0</td>\n",
       "      <td>1</td>\n",
       "    </tr>\n",
       "    <tr>\n",
       "      <th>2</th>\n",
       "      <td>10.0</td>\n",
       "      <td>0.0</td>\n",
       "      <td>36.0</td>\n",
       "      <td>46.0</td>\n",
       "      <td>0.0</td>\n",
       "      <td>2.0</td>\n",
       "      <td>1.0</td>\n",
       "      <td>90.0</td>\n",
       "      <td>200.0</td>\n",
       "      <td>3000.0</td>\n",
       "      <td>0.0</td>\n",
       "      <td>2000.0</td>\n",
       "      <td>2985.0</td>\n",
       "      <td>0</td>\n",
       "    </tr>\n",
       "    <tr>\n",
       "      <th>3</th>\n",
       "      <td>0.0</td>\n",
       "      <td>1.0</td>\n",
       "      <td>60.0</td>\n",
       "      <td>24.0</td>\n",
       "      <td>1.0</td>\n",
       "      <td>1.0</td>\n",
       "      <td>0.0</td>\n",
       "      <td>63.0</td>\n",
       "      <td>182.0</td>\n",
       "      <td>2500.0</td>\n",
       "      <td>0.0</td>\n",
       "      <td>900.0</td>\n",
       "      <td>1325.0</td>\n",
       "      <td>1</td>\n",
       "    </tr>\n",
       "    <tr>\n",
       "      <th>4</th>\n",
       "      <td>0.0</td>\n",
       "      <td>1.0</td>\n",
       "      <td>36.0</td>\n",
       "      <td>26.0</td>\n",
       "      <td>1.0</td>\n",
       "      <td>1.0</td>\n",
       "      <td>0.0</td>\n",
       "      <td>46.0</td>\n",
       "      <td>107.0</td>\n",
       "      <td>0.0</td>\n",
       "      <td>0.0</td>\n",
       "      <td>310.0</td>\n",
       "      <td>910.0</td>\n",
       "      <td>1</td>\n",
       "    </tr>\n",
       "  </tbody>\n",
       "</table>\n",
       "</div>"
      ],
      "text/plain": [
       "   Seniority  Home  Time   Age  Marital  Records  Job  Expenses  Income  \\\n",
       "0        9.0   1.0  60.0  30.0      0.0      1.0  1.0      73.0   129.0   \n",
       "1       17.0   1.0  60.0  58.0      1.0      1.0  0.0      48.0   131.0   \n",
       "2       10.0   0.0  36.0  46.0      0.0      2.0  1.0      90.0   200.0   \n",
       "3        0.0   1.0  60.0  24.0      1.0      1.0  0.0      63.0   182.0   \n",
       "4        0.0   1.0  36.0  26.0      1.0      1.0  0.0      46.0   107.0   \n",
       "\n",
       "   Assets  Debt  Amount   Price  Status  \n",
       "0     0.0   0.0   800.0   846.0       1  \n",
       "1     0.0   0.0  1000.0  1658.0       1  \n",
       "2  3000.0   0.0  2000.0  2985.0       0  \n",
       "3  2500.0   0.0   900.0  1325.0       1  \n",
       "4     0.0   0.0   310.0   910.0       1  "
      ]
     },
     "execution_count": 7,
     "metadata": {},
     "output_type": "execute_result"
    }
   ],
   "source": [
    "data.head()"
   ]
  },
  {
   "cell_type": "code",
   "execution_count": 8,
   "metadata": {},
   "outputs": [
    {
     "data": {
      "text/html": [
       "<div>\n",
       "<style scoped>\n",
       "    .dataframe tbody tr th:only-of-type {\n",
       "        vertical-align: middle;\n",
       "    }\n",
       "\n",
       "    .dataframe tbody tr th {\n",
       "        vertical-align: top;\n",
       "    }\n",
       "\n",
       "    .dataframe thead th {\n",
       "        text-align: right;\n",
       "    }\n",
       "</style>\n",
       "<table border=\"1\" class=\"dataframe\">\n",
       "  <thead>\n",
       "    <tr style=\"text-align: right;\">\n",
       "      <th></th>\n",
       "      <th>Seniority</th>\n",
       "      <th>Home</th>\n",
       "      <th>Time</th>\n",
       "      <th>Age</th>\n",
       "      <th>Marital</th>\n",
       "      <th>Records</th>\n",
       "      <th>Job</th>\n",
       "      <th>Expenses</th>\n",
       "      <th>Income</th>\n",
       "      <th>Assets</th>\n",
       "      <th>Debt</th>\n",
       "      <th>Amount</th>\n",
       "      <th>Price</th>\n",
       "      <th>Status</th>\n",
       "    </tr>\n",
       "  </thead>\n",
       "  <tbody>\n",
       "    <tr>\n",
       "      <th>count</th>\n",
       "      <td>4375.000000</td>\n",
       "      <td>4375.000000</td>\n",
       "      <td>4375.000000</td>\n",
       "      <td>4375.000000</td>\n",
       "      <td>4375.000000</td>\n",
       "      <td>4375.000000</td>\n",
       "      <td>4375.000000</td>\n",
       "      <td>4375.000000</td>\n",
       "      <td>4375.000000</td>\n",
       "      <td>4375.000000</td>\n",
       "      <td>4375.000000</td>\n",
       "      <td>4375.000000</td>\n",
       "      <td>4375.000000</td>\n",
       "      <td>4375.000000</td>\n",
       "    </tr>\n",
       "    <tr>\n",
       "      <th>mean</th>\n",
       "      <td>7.985143</td>\n",
       "      <td>0.528229</td>\n",
       "      <td>46.518857</td>\n",
       "      <td>37.021714</td>\n",
       "      <td>0.271086</td>\n",
       "      <td>1.172114</td>\n",
       "      <td>0.364114</td>\n",
       "      <td>55.595200</td>\n",
       "      <td>130.848914</td>\n",
       "      <td>5298.431314</td>\n",
       "      <td>342.551543</td>\n",
       "      <td>1037.463771</td>\n",
       "      <td>1459.732343</td>\n",
       "      <td>0.722057</td>\n",
       "    </tr>\n",
       "    <tr>\n",
       "      <th>std</th>\n",
       "      <td>8.173922</td>\n",
       "      <td>0.499260</td>\n",
       "      <td>14.619282</td>\n",
       "      <td>10.973187</td>\n",
       "      <td>0.444571</td>\n",
       "      <td>0.377523</td>\n",
       "      <td>0.481236</td>\n",
       "      <td>19.451569</td>\n",
       "      <td>86.199518</td>\n",
       "      <td>10582.377366</td>\n",
       "      <td>1217.622800</td>\n",
       "      <td>469.753531</td>\n",
       "      <td>621.775995</td>\n",
       "      <td>0.448036</td>\n",
       "    </tr>\n",
       "    <tr>\n",
       "      <th>min</th>\n",
       "      <td>0.000000</td>\n",
       "      <td>0.000000</td>\n",
       "      <td>6.000000</td>\n",
       "      <td>18.000000</td>\n",
       "      <td>0.000000</td>\n",
       "      <td>1.000000</td>\n",
       "      <td>0.000000</td>\n",
       "      <td>35.000000</td>\n",
       "      <td>0.000000</td>\n",
       "      <td>0.000000</td>\n",
       "      <td>0.000000</td>\n",
       "      <td>100.000000</td>\n",
       "      <td>105.000000</td>\n",
       "      <td>0.000000</td>\n",
       "    </tr>\n",
       "    <tr>\n",
       "      <th>25%</th>\n",
       "      <td>2.000000</td>\n",
       "      <td>0.000000</td>\n",
       "      <td>36.000000</td>\n",
       "      <td>28.000000</td>\n",
       "      <td>0.000000</td>\n",
       "      <td>1.000000</td>\n",
       "      <td>0.000000</td>\n",
       "      <td>35.000000</td>\n",
       "      <td>80.000000</td>\n",
       "      <td>0.000000</td>\n",
       "      <td>0.000000</td>\n",
       "      <td>700.000000</td>\n",
       "      <td>1116.500000</td>\n",
       "      <td>0.000000</td>\n",
       "    </tr>\n",
       "    <tr>\n",
       "      <th>50%</th>\n",
       "      <td>5.000000</td>\n",
       "      <td>1.000000</td>\n",
       "      <td>48.000000</td>\n",
       "      <td>36.000000</td>\n",
       "      <td>0.000000</td>\n",
       "      <td>1.000000</td>\n",
       "      <td>0.000000</td>\n",
       "      <td>51.000000</td>\n",
       "      <td>120.000000</td>\n",
       "      <td>3000.000000</td>\n",
       "      <td>0.000000</td>\n",
       "      <td>1000.000000</td>\n",
       "      <td>1400.000000</td>\n",
       "      <td>1.000000</td>\n",
       "    </tr>\n",
       "    <tr>\n",
       "      <th>75%</th>\n",
       "      <td>12.000000</td>\n",
       "      <td>1.000000</td>\n",
       "      <td>60.000000</td>\n",
       "      <td>45.000000</td>\n",
       "      <td>1.000000</td>\n",
       "      <td>1.000000</td>\n",
       "      <td>1.000000</td>\n",
       "      <td>72.000000</td>\n",
       "      <td>165.000000</td>\n",
       "      <td>6000.000000</td>\n",
       "      <td>0.000000</td>\n",
       "      <td>1300.000000</td>\n",
       "      <td>1688.000000</td>\n",
       "      <td>1.000000</td>\n",
       "    </tr>\n",
       "    <tr>\n",
       "      <th>max</th>\n",
       "      <td>48.000000</td>\n",
       "      <td>1.000000</td>\n",
       "      <td>72.000000</td>\n",
       "      <td>68.000000</td>\n",
       "      <td>1.000000</td>\n",
       "      <td>2.000000</td>\n",
       "      <td>1.000000</td>\n",
       "      <td>173.000000</td>\n",
       "      <td>959.000000</td>\n",
       "      <td>250000.000000</td>\n",
       "      <td>30000.000000</td>\n",
       "      <td>4500.000000</td>\n",
       "      <td>11140.000000</td>\n",
       "      <td>1.000000</td>\n",
       "    </tr>\n",
       "  </tbody>\n",
       "</table>\n",
       "</div>"
      ],
      "text/plain": [
       "         Seniority         Home         Time          Age      Marital  \\\n",
       "count  4375.000000  4375.000000  4375.000000  4375.000000  4375.000000   \n",
       "mean      7.985143     0.528229    46.518857    37.021714     0.271086   \n",
       "std       8.173922     0.499260    14.619282    10.973187     0.444571   \n",
       "min       0.000000     0.000000     6.000000    18.000000     0.000000   \n",
       "25%       2.000000     0.000000    36.000000    28.000000     0.000000   \n",
       "50%       5.000000     1.000000    48.000000    36.000000     0.000000   \n",
       "75%      12.000000     1.000000    60.000000    45.000000     1.000000   \n",
       "max      48.000000     1.000000    72.000000    68.000000     1.000000   \n",
       "\n",
       "           Records          Job     Expenses       Income         Assets  \\\n",
       "count  4375.000000  4375.000000  4375.000000  4375.000000    4375.000000   \n",
       "mean      1.172114     0.364114    55.595200   130.848914    5298.431314   \n",
       "std       0.377523     0.481236    19.451569    86.199518   10582.377366   \n",
       "min       1.000000     0.000000    35.000000     0.000000       0.000000   \n",
       "25%       1.000000     0.000000    35.000000    80.000000       0.000000   \n",
       "50%       1.000000     0.000000    51.000000   120.000000    3000.000000   \n",
       "75%       1.000000     1.000000    72.000000   165.000000    6000.000000   \n",
       "max       2.000000     1.000000   173.000000   959.000000  250000.000000   \n",
       "\n",
       "               Debt       Amount         Price       Status  \n",
       "count   4375.000000  4375.000000   4375.000000  4375.000000  \n",
       "mean     342.551543  1037.463771   1459.732343     0.722057  \n",
       "std     1217.622800   469.753531    621.775995     0.448036  \n",
       "min        0.000000   100.000000    105.000000     0.000000  \n",
       "25%        0.000000   700.000000   1116.500000     0.000000  \n",
       "50%        0.000000  1000.000000   1400.000000     1.000000  \n",
       "75%        0.000000  1300.000000   1688.000000     1.000000  \n",
       "max    30000.000000  4500.000000  11140.000000     1.000000  "
      ]
     },
     "execution_count": 8,
     "metadata": {},
     "output_type": "execute_result"
    }
   ],
   "source": [
    "data.describe()"
   ]
  },
  {
   "cell_type": "markdown",
   "metadata": {},
   "source": [
    "#### I.1.2 Séparation en jeu de donnée et de label <a class=\"anchor\" id=\"Partie1.1.2\"></a>"
   ]
  },
  {
   "cell_type": "code",
   "execution_count": 9,
   "metadata": {},
   "outputs": [],
   "source": [
    "X = data.iloc[:, 0:13].values\n",
    "y = data.iloc[:, 13].values"
   ]
  },
  {
   "cell_type": "markdown",
   "metadata": {},
   "source": [
    "#### I.1.3 Analyse du jeu de données <a class=\"anchor\" id=\"Partie1.1.3\"></a>"
   ]
  },
  {
   "cell_type": "code",
   "execution_count": 10,
   "metadata": {},
   "outputs": [
    {
     "name": "stdout",
     "output_type": "stream",
     "text": [
      "il y a  4375  lignes\n",
      "il y a  13  colonnes (features)\n",
      "il y a  3159  exemples positifs\n",
      "il y a  1216  exemples négatifs\n"
     ]
    }
   ],
   "source": [
    "print(\"il y a \",np.shape(X)[0],\" lignes\")\n",
    "print(\"il y a \",np.shape(X)[1],\" colonnes (features)\")\n",
    "print(\"il y a \",len(data[data[\"Status\"]==1]),\" exemples positifs\")\n",
    "print(\"il y a \",len(data[data[\"Status\"]==0]),\" exemples négatifs\")"
   ]
  },
  {
   "cell_type": "code",
   "execution_count": 11,
   "metadata": {},
   "outputs": [
    {
     "data": {
      "image/png": "[encoded data removed]",
      "text/plain": [
       "<Figure size 432x288 with 1 Axes>"
      ]
     },
     "metadata": {
      "needs_background": "light"
     },
     "output_type": "display_data"
    }
   ],
   "source": [
    "hist = data.hist(column='Status')"
   ]
  },
  {
   "cell_type": "markdown",
   "metadata": {},
   "source": [
    "#### I.1.4 Séparation avec un jeu de train et un jeu de test (taille 50%) <a class=\"anchor\" id=\"Partie1.1.4\"></a>"
   ]
  },
  {
   "cell_type": "code",
   "execution_count": 12,
   "metadata": {},
   "outputs": [],
   "source": [
    "X_train, X_test, y_train, y_test = train_test_split(X, y, test_size=0.5, random_state=1)"
   ]
  },
  {
   "cell_type": "markdown",
   "metadata": {},
   "source": [
    "### I.2. Apprentissage et évaluation de modèles <a class=\"anchor\" id=\"Partie1.2\"></a>"
   ]
  },
  {
   "cell_type": "markdown",
   "metadata": {},
   "source": [
    "#### I.2.1  Un arbre CART <a class=\"anchor\" id=\"Partie1.2.1\"></a>"
   ]
  },
  {
   "cell_type": "code",
   "execution_count": 13,
   "metadata": {},
   "outputs": [],
   "source": [
    "clf_CART = tree.DecisionTreeClassifier(criterion = 'gini',random_state=1)\n",
    "clf_CART = clf_CART.fit(X_train, y_train)\n",
    "y_pred_CART=clf_CART.predict(X_test)"
   ]
  },
  {
   "cell_type": "markdown",
   "metadata": {},
   "source": [
    "#### I.2.2  k-plus-proches-voisins avec k=5 <a class=\"anchor\" id=\"Partie1.2.2\"></a>"
   ]
  },
  {
   "cell_type": "code",
   "execution_count": 14,
   "metadata": {},
   "outputs": [],
   "source": [
    "clf_KNN= KNeighborsClassifier(n_neighbors=3)\n",
    "clf_KNN.fit(X_train, y_train)\n",
    "y_pred_KNN=clf_KNN.predict(X_test)"
   ]
  },
  {
   "cell_type": "markdown",
   "metadata": {},
   "source": [
    "#### I.2.3  MultilayerPerceptron à deux couches <a class=\"anchor\" id=\"Partie1.2.3\"></a>"
   ]
  },
  {
   "cell_type": "code",
   "execution_count": 15,
   "metadata": {},
   "outputs": [],
   "source": [
    "clf_MP = MLPClassifier(hidden_layer_sizes=(40,20), \n",
    "                       activation='relu',\n",
    "                       solver='adam', \n",
    "                       alpha=0.0001, \n",
    "                       batch_size='auto', \n",
    "                       learning_rate='constant', \n",
    "                       learning_rate_init=0.001,\n",
    "                       random_state=1,  \n",
    "                       early_stopping=True).fit(X_train, y_train)\n",
    "\n",
    "y_pred_MP = clf_MP.predict(X_test)"
   ]
  },
  {
   "cell_type": "markdown",
   "metadata": {},
   "source": [
    "L’objectif est à présent de comparer les résultats obtenus à l’aide de ces trois simples algorithmes sur ce jeu de\n",
    "données. Cette comparaison s’appuiera sur l’estimation de l’accuracy et le meilleur critère entre le Rappel et la\n",
    "Précision dont vous pensez qu’il est le plus adéquat pour ce cas d’application."
   ]
  },
  {
   "cell_type": "markdown",
   "metadata": {},
   "source": [
    "#### I.2.4  Analyse des résultats <a class=\"anchor\" id=\"Partie1.2.4\"></a>"
   ]
  },
  {
   "cell_type": "code",
   "execution_count": 16,
   "metadata": {},
   "outputs": [
    {
     "name": "stdout",
     "output_type": "stream",
     "text": [
      "la rappel pour le classifieur arbre de désicion est de 79.92%\n",
      "la précision pour le classifieur arbre de désicion est de 81.94%\n",
      "l'accuracy pour le classifieur arbre de désicion est de 72.71%\n"
     ]
    },
    {
     "data": {
      "image/png": "[encoded data removed]",
      "text/plain": [
       "<Figure size 432x288 with 2 Axes>"
      ]
     },
     "metadata": {
      "needs_background": "light"
     },
     "output_type": "display_data"
    }
   ],
   "source": [
    "criteria_CART=accuracy_recall_precison(y_test, y_pred_CART)\n",
    "dict_score_CART['Sans modif']=criteria_CART\n",
    "plot_confusion_matrix(y_test, y_pred_CART, [0,1],\"Matrice de confusion pour l'arbre de décision'\",cmap=plt.cm.Blues)\n",
    "print(f\"la rappel pour le classifieur arbre de désicion est de {criteria_CART[0]:.2%}\")\n",
    "print(f\"la précision pour le classifieur arbre de désicion est de {criteria_CART[1]:.2%}\")\n",
    "print(f\"l'accuracy pour le classifieur arbre de désicion est de {criteria_CART[2]:.2%}\")"
   ]
  },
  {
   "cell_type": "code",
   "execution_count": 17,
   "metadata": {},
   "outputs": [
    {
     "name": "stdout",
     "output_type": "stream",
     "text": [
      "la rappel pour le classifieur KNN est de 85.54%\n",
      "la précision pour le classifieur KNN est de 76.68%\n",
      "l'accuracy pour le classifieur KNN est de 70.70%\n"
     ]
    },
    {
     "data": {
      "image/png": "[encoded data removed]",
      "text/plain": [
       "<Figure size 432x288 with 2 Axes>"
      ]
     },
     "metadata": {
      "needs_background": "light"
     },
     "output_type": "display_data"
    }
   ],
   "source": [
    "criteria_KNN=accuracy_recall_precison(y_test, y_pred_KNN)\n",
    "dict_score_KNN['Sans modif']=criteria_KNN\n",
    "plot_confusion_matrix(y_test, y_pred_KNN, [0,1],\"Matrice de confusion pour le KNN\",cmap=plt.cm.Blues)\n",
    "print(f\"la rappel pour le classifieur KNN est de {criteria_KNN[0]:.2%}\")\n",
    "print(f\"la précision pour le classifieur KNN est de {criteria_KNN[1]:.2%}\")\n",
    "print(f\"l'accuracy pour le classifieur KNN est de {criteria_KNN[2]:.2%}\")"
   ]
  },
  {
   "cell_type": "code",
   "execution_count": 18,
   "metadata": {},
   "outputs": [
    {
     "name": "stdout",
     "output_type": "stream",
     "text": [
      "la rappel pour le classifieur réseau de neurones est de 95.52%\n",
      "la précision pour le classifieur réseau de neurones est de 74.79%\n",
      "l'accuracy pour le classifieur réseau de neurones est de 73.45%\n"
     ]
    },
    {
     "data": {
      "image/png": "[encoded data removed]",
      "text/plain": [
       "<Figure size 432x288 with 2 Axes>"
      ]
     },
     "metadata": {
      "needs_background": "light"
     },
     "output_type": "display_data"
    }
   ],
   "source": [
    "criteria_MP=accuracy_recall_precison(y_test, y_pred_MP)\n",
    "dict_score_MP['Sans modif']=criteria_MP\n",
    "plot_confusion_matrix(y_test, y_pred_MP, [0,1],\"Matrice de confusion pour le réseau de neurones\",cmap=plt.cm.Blues)\n",
    "print(f\"la rappel pour le classifieur réseau de neurones est de {criteria_MP[0]:.2%}\")\n",
    "print(f\"la précision pour le classifieur réseau de neurones est de {criteria_MP[1]:.2%}\")\n",
    "print(f\"l'accuracy pour le classifieur réseau de neurones est de {criteria_MP[2]:.2%}\")"
   ]
  },
  {
   "cell_type": "code",
   "execution_count": 19,
   "metadata": {},
   "outputs": [
    {
     "name": "stdout",
     "output_type": "stream",
     "text": [
      "Arbre de decision: \n",
      "          Sans modif standardisaiton  PCA\n",
      "Recall      0.799242             NaN  NaN\n",
      "Precison    0.819417             NaN  NaN\n",
      "Accuracy    0.727148             NaN  NaN\n",
      "KNN: \n",
      "          Sans modif standardisaiton  PCA\n",
      "Recall      0.855429             NaN  NaN\n",
      "Precison    0.766836             NaN  NaN\n",
      "Accuracy    0.707038             NaN  NaN\n",
      "MP: \n",
      "          Sans modif standardisaiton  PCA\n",
      "Recall      0.955177             NaN  NaN\n",
      "Precison    0.747899             NaN  NaN\n",
      "Accuracy    0.734461             NaN  NaN\n"
     ]
    },
    {
     "data": {
      "text/plain": [
       "(None, None)"
      ]
     },
     "execution_count": 19,
     "metadata": {},
     "output_type": "execute_result"
    }
   ],
   "source": [
    "print(\"Arbre de decision: \"), print(dict_score_CART.head())\n",
    "\n",
    "print(\"KNN: \"),print(dict_score_KNN.head())\n",
    "\n",
    "print(\"MP: \"),print(dict_score_MP.head())"
   ]
  },
  {
   "cell_type": "markdown",
   "metadata": {},
   "source": [
    "Du point de vue de l'accuracy l'ordre de la performance des algorithmes est le suivant:<br>\n",
    "    - ANN > Decision Tree > KNN<br>\n",
    "Du point de vue du rappel l'ordre de la performance des algorithmes est le suivant: <br>\n",
    "    - ANN > KNN > Decision Tree<br>\n",
    "Du point de vue de la précision l'ordre de la performance des algorithmes est le suivant: <br>\n",
    "    - Decision tree > KNN > ANN<br>\n",
    "    \n",
    "Du point de vue de l'accord ou non d'un crédit on peut se dire qu'il peut être dangereux pour la personne demandeur de lui accorder un crédit si celle-ci c'est pas solvable on préfera donc prédire des faux négatifs plutôt que des faux positifs on privilégiera donc le critère de la Précison ici. L'algorithme à retenir est donc celui avec le moins de faux positifs donc l'abre de décison."
   ]
  },
  {
   "cell_type": "markdown",
   "metadata": {},
   "source": [
    "### I.3  Normalisation des variables continues <a class=\"anchor\" id=\"Partie1.3\"></a>"
   ]
  },
  {
   "cell_type": "markdown",
   "metadata": {},
   "source": [
    "#### I.3.1  Préparation des données <a class=\"anchor\" id=\"Partie1.3.1\"></a>"
   ]
  },
  {
   "cell_type": "code",
   "execution_count": 20,
   "metadata": {},
   "outputs": [],
   "source": [
    "data = pd.read_csv(path+'credit_scoring.csv', sep=';')"
   ]
  },
  {
   "cell_type": "code",
   "execution_count": 21,
   "metadata": {},
   "outputs": [],
   "source": [
    "X = data.iloc[:, 0:13].values\n",
    "y = data.iloc[:, 13].values"
   ]
  },
  {
   "cell_type": "markdown",
   "metadata": {},
   "source": [
    "Standardisation des données"
   ]
  },
  {
   "cell_type": "code",
   "execution_count": 22,
   "metadata": {},
   "outputs": [],
   "source": [
    "std_scale = preprocessing.StandardScaler().fit(X)\n",
    "X_scaled = std_scale.transform(X)"
   ]
  },
  {
   "cell_type": "code",
   "execution_count": 23,
   "metadata": {},
   "outputs": [],
   "source": [
    "X_train, X_test, y_train, y_test = train_test_split(X_scaled, y, test_size=0.5, random_state=1)"
   ]
  },
  {
   "cell_type": "markdown",
   "metadata": {},
   "source": [
    "#### I.3.2  Apprentissage et évaluation de modèles <a class=\"anchor\" id=\"Partie1.3.2\"></a>"
   ]
  },
  {
   "cell_type": "markdown",
   "metadata": {},
   "source": [
    "##### Utilisation d'un arbre de décision : Un arbre CART (random_state=1) (indice=gini)"
   ]
  },
  {
   "cell_type": "code",
   "execution_count": 24,
   "metadata": {},
   "outputs": [],
   "source": [
    "clf_CART = tree.DecisionTreeClassifier(criterion = 'gini',random_state=1)\n",
    "clf_CART = clf_CART.fit(X_train, y_train)\n",
    "y_pred_CART=clf_CART.predict(X_test)"
   ]
  },
  {
   "cell_type": "markdown",
   "metadata": {},
   "source": [
    "##### Utilisation d'un Knn : k-plus-proches-voisins avec k=5"
   ]
  },
  {
   "cell_type": "code",
   "execution_count": 25,
   "metadata": {},
   "outputs": [],
   "source": [
    "clf_KNN= KNeighborsClassifier(n_neighbors=3)\n",
    "clf_KNN.fit(X_train, y_train)\n",
    "y_pred_KNN=clf_KNN.predict(X_test)"
   ]
  },
  {
   "cell_type": "markdown",
   "metadata": {},
   "source": [
    "##### Utilisation d'un ANN : MultilayerPerceptron à deux couches de tailles respectives 40 et 20 et random_state=1"
   ]
  },
  {
   "cell_type": "code",
   "execution_count": 26,
   "metadata": {},
   "outputs": [],
   "source": [
    "clf_MP = MLPClassifier(hidden_layer_sizes=(40,20), \n",
    "                       activation='relu',\n",
    "                       solver='adam', \n",
    "                       alpha=0.0001, \n",
    "                       batch_size='auto', \n",
    "                       learning_rate='constant', \n",
    "                       learning_rate_init=0.001,\n",
    "                       random_state=1,  \n",
    "                       early_stopping=True).fit(X_train, y_train)\n",
    "\n",
    "y_pred_MP = clf_MP.predict(X_test)"
   ]
  },
  {
   "cell_type": "markdown",
   "metadata": {},
   "source": [
    "#### I.3.3  Analyse des résultats <a class=\"anchor\" id=\"Partie1.3.3\"></a>"
   ]
  },
  {
   "cell_type": "markdown",
   "metadata": {},
   "source": [
    "L’objectif est à présent de comparer les résultats obtenus à l’aide de ces trois simples algorithmes sur ce jeu de\n",
    "données. Cette comparaison s’appuiera sur l’estimation de l’accuracy et le meilleur critère entre le Rappel et la\n",
    "Précision dont vous pensez qu’il est le plus adéquat pour ce cas d’application."
   ]
  },
  {
   "cell_type": "code",
   "execution_count": 27,
   "metadata": {},
   "outputs": [
    {
     "name": "stdout",
     "output_type": "stream",
     "text": [
      "la rappel pour le classifieur arbre de désicion est de 79.67%\n",
      "la précision pour le classifieur arbre de désicion est de 81.95%\n",
      "l'accuracy pour le classifieur arbre de désicion est de 72.58%\n"
     ]
    },
    {
     "data": {
      "image/png": "[encoded data removed]",
      "text/plain": [
       "<Figure size 432x288 with 2 Axes>"
      ]
     },
     "metadata": {
      "needs_background": "light"
     },
     "output_type": "display_data"
    }
   ],
   "source": [
    "criteria_CART=accuracy_recall_precison(y_test, y_pred_CART)\n",
    "dict_score_CART['standardisaiton']=criteria_CART\n",
    "plot_confusion_matrix(y_test, y_pred_CART, [0,1],\"Matrice de confusion pour l'arbre de décision'\",cmap=plt.cm.Blues)\n",
    "print(f\"la rappel pour le classifieur arbre de désicion est de {criteria_CART[0]:.2%}\")\n",
    "print(f\"la précision pour le classifieur arbre de désicion est de {criteria_CART[1]:.2%}\")\n",
    "print(f\"l'accuracy pour le classifieur arbre de désicion est de {criteria_CART[2]:.2%}\")"
   ]
  },
  {
   "cell_type": "code",
   "execution_count": 28,
   "metadata": {},
   "outputs": [
    {
     "name": "stdout",
     "output_type": "stream",
     "text": [
      "la rappel pour le classifieur KNN est de 84.34%\n",
      "la précision pour le classifieur KNN est de 81.27%\n",
      "l'accuracy pour le classifieur KNN est de 74.59%\n"
     ]
    },
    {
     "data": {
      "image/png": "[encoded data removed]",
      "text/plain": [
       "<Figure size 432x288 with 2 Axes>"
      ]
     },
     "metadata": {
      "needs_background": "light"
     },
     "output_type": "display_data"
    }
   ],
   "source": [
    "criteria_KNN=accuracy_recall_precison(y_test, y_pred_KNN)\n",
    "dict_score_KNN['standardisaiton']=criteria_KNN\n",
    "plot_confusion_matrix(y_test, y_pred_KNN, [0,1],\"Matrice de confusion pour le KNN\",cmap=plt.cm.Blues)\n",
    "print(f\"la rappel pour le classifieur KNN est de {criteria_KNN[0]:.2%}\")\n",
    "print(f\"la précision pour le classifieur KNN est de {criteria_KNN[1]:.2%}\")\n",
    "print(f\"l'accuracy pour le classifieur KNN est de {criteria_KNN[2]:.2%}\")"
   ]
  },
  {
   "cell_type": "code",
   "execution_count": 29,
   "metadata": {
    "scrolled": true
   },
   "outputs": [
    {
     "name": "stdout",
     "output_type": "stream",
     "text": [
      "la rappel pour le classifieur réseau de neurones est de 91.54%\n",
      "la précision pour le classifieur réseau de neurones est de 81.69%\n",
      "l'accuracy pour le classifieur réseau de neurones est de 79.02%\n"
     ]
    },
    {
     "data": {
      "image/png": "[encoded data removed]",
      "text/plain": [
       "<Figure size 432x288 with 2 Axes>"
      ]
     },
     "metadata": {
      "needs_background": "light"
     },
     "output_type": "display_data"
    }
   ],
   "source": [
    "criteria_MP=accuracy_recall_precison(y_test, y_pred_MP)\n",
    "dict_score_MP['standardisaiton']=criteria_MP\n",
    "plot_confusion_matrix(y_test, y_pred_MP, [0,1],\"Matrice de confusion pour le réseau de neurones\",cmap=plt.cm.Blues)\n",
    "print(f\"la rappel pour le classifieur réseau de neurones est de {criteria_MP[0]:.2%}\")\n",
    "print(f\"la précision pour le classifieur réseau de neurones est de {criteria_MP[1]:.2%}\")\n",
    "print(f\"l'accuracy pour le classifieur réseau de neurones est de {criteria_MP[2]:.2%}\")"
   ]
  },
  {
   "cell_type": "code",
   "execution_count": 30,
   "metadata": {},
   "outputs": [
    {
     "name": "stdout",
     "output_type": "stream",
     "text": [
      "Arbre de decision: \n",
      "          Sans modif  standardisaiton  PCA\n",
      "Recall      0.799242         0.796717  NaN\n",
      "Precison    0.819417         0.819481  NaN\n",
      "Accuracy    0.727148         0.725777  NaN\n",
      "KNN: \n",
      "          Sans modif  standardisaiton  PCA\n",
      "Recall      0.855429         0.843434  NaN\n",
      "Precison    0.766836         0.812652  NaN\n",
      "Accuracy    0.707038         0.745887  NaN\n",
      "MP: \n",
      "          Sans modif  standardisaiton  PCA\n",
      "Recall      0.955177         0.915404  NaN\n",
      "Precison    0.747899         0.816901  NaN\n",
      "Accuracy    0.734461         0.790219  NaN\n"
     ]
    },
    {
     "data": {
      "text/plain": [
       "(None, None)"
      ]
     },
     "execution_count": 30,
     "metadata": {},
     "output_type": "execute_result"
    }
   ],
   "source": [
    "print(\"Arbre de decision: \"), print(dict_score_CART.head())\n",
    "\n",
    "print(\"KNN: \"),print(dict_score_KNN.head())\n",
    "\n",
    "print(\"MP: \"),print(dict_score_MP.head())"
   ]
  },
  {
   "cell_type": "markdown",
   "metadata": {},
   "source": [
    "Les nouvelles performances sont les suivantes avec la normalisation des données:<br>\n",
    "Du point de vue de l'accuracy l'ordre de la performance des algorithmes est le suivant:<br>\n",
    "    - ANN > KNN > Decision Tree<br>\n",
    "Du point de vue du rappel l'ordre de la performance des algorithmes est le suivant: <br>\n",
    "    - ANN > KNN > Decision Tree<br>\n",
    "Du point de vue de la précision l'ordre de la performance des algorithmes est le suivant: <br>\n",
    "    - Decision tree > ANN > KNN<br>\n",
    "    \n",
    "Du point de vue de l'accord ou non d'un crédit on peut se dire qu'il peut être dangereux pour la personne demandeur de lui accorder un crédit si celle-ci c'est pas solvable on préfera donc prédire des faux négatifs plutôt que des faux positifs on privilégiera donc le critère de la Précison ici. L'algorithme à retenir est donc celui avec le moins de faux positifs donc l'abre de décison cependant au vue des résultats très proche de précision entre les 3 on pourra fair ele compromis de prendre le réseau de neurones pour améliorer la performance globale.<br>\n",
    "\n",
    "On voit que la standardisation des données à agit différemment selon leq algorithmes:<br>\n",
    "- pour l'arbre de décision il y a très peu d'impact de la standardisation des données\n",
    "- pour KNN on diminue le recall et on améliore l'accuracy et la précision donc on améliore la performance\n",
    "- pour MP on baisse le rappel et on améliore la précision et l'accuracy donc on améliore la performance"
   ]
  },
  {
   "cell_type": "markdown",
   "metadata": {},
   "source": [
    "### I.4  Création de nouvelles variables caractéristiques par combinaisons linéaires des variables initiales <a class=\"anchor\" id=\"Partie1.4\"></a>"
   ]
  },
  {
   "cell_type": "markdown",
   "metadata": {},
   "source": [
    "#### I.4.1  Préparation des données <a class=\"anchor\" id=\"Partie1.4.1\"></a>"
   ]
  },
  {
   "cell_type": "code",
   "execution_count": 31,
   "metadata": {},
   "outputs": [],
   "source": [
    "data = pd.read_csv(path+'credit_scoring.csv', sep=';')"
   ]
  },
  {
   "cell_type": "code",
   "execution_count": 32,
   "metadata": {},
   "outputs": [],
   "source": [
    "X = data.iloc[:, 0:13].values\n",
    "y = data.iloc[:, 13].values"
   ]
  },
  {
   "cell_type": "code",
   "execution_count": 33,
   "metadata": {},
   "outputs": [],
   "source": [
    "std_scale = preprocessing.StandardScaler().fit(X)\n",
    "X_scaled = std_scale.transform(X)"
   ]
  },
  {
   "cell_type": "markdown",
   "metadata": {},
   "source": [
    "Utilisation d'une ACP"
   ]
  },
  {
   "cell_type": "code",
   "execution_count": 34,
   "metadata": {},
   "outputs": [
    {
     "data": {
      "text/plain": [
       "PCA(n_components=12)"
      ]
     },
     "execution_count": 34,
     "metadata": {},
     "output_type": "execute_result"
    }
   ],
   "source": [
    "pca = decomposition.PCA(n_components=12)\n",
    "pca.fit(X_scaled)"
   ]
  },
  {
   "cell_type": "code",
   "execution_count": 35,
   "metadata": {},
   "outputs": [
    {
     "name": "stdout",
     "output_type": "stream",
     "text": [
      "Variance expliquée par chaque composante du PCA:  [0.19205626 0.14557791 0.10542274 0.0897652  0.08565203 0.07581986\n",
      " 0.0739748  0.05601237 0.05051058 0.04660041 0.03223123 0.0305239 ]\n"
     ]
    }
   ],
   "source": [
    "print('Variance expliquée par chaque composante du PCA: ',pca.explained_variance_ratio_)"
   ]
  },
  {
   "cell_type": "code",
   "execution_count": 36,
   "metadata": {},
   "outputs": [
    {
     "name": "stdout",
     "output_type": "stream",
     "text": [
      "Somme de la variance expliquée sur les 3 premiers:  0.5328221142212519\n"
     ]
    }
   ],
   "source": [
    "print('Somme de la variance expliquée sur les 3 premiers: ',pca.explained_variance_ratio_[:4].sum())"
   ]
  },
  {
   "cell_type": "code",
   "execution_count": 37,
   "metadata": {},
   "outputs": [
    {
     "data": {
      "text/plain": [
       "<function matplotlib.pyplot.show(close=None, block=None)>"
      ]
     },
     "execution_count": 37,
     "metadata": {},
     "output_type": "execute_result"
    },
    {
     "data": {
      "image/png": "[encoded data removed]",
      "text/plain": [
       "<Figure size 432x288 with 1 Axes>"
      ]
     },
     "metadata": {
      "needs_background": "light"
     },
     "output_type": "display_data"
    }
   ],
   "source": [
    "plt.plot(pca.explained_variance_ratio_)\n",
    "plt.title(\"Variance expliquée pour le modèle\")\n",
    "plt.show"
   ]
  },
  {
   "cell_type": "code",
   "execution_count": 38,
   "metadata": {},
   "outputs": [],
   "source": [
    "X_pca = pca.transform(X_scaled)"
   ]
  },
  {
   "cell_type": "markdown",
   "metadata": {},
   "source": [
    "Concaténation des 3 premiers axes de la PCA avec le set de base "
   ]
  },
  {
   "cell_type": "code",
   "execution_count": 39,
   "metadata": {},
   "outputs": [],
   "source": [
    "X_scaled=np.concatenate((X_scaled, X_pca[:,:4]), axis=1)"
   ]
  },
  {
   "cell_type": "code",
   "execution_count": 40,
   "metadata": {},
   "outputs": [],
   "source": [
    "X_train, X_test, y_train, y_test = train_test_split(X_scaled, y, test_size=0.5, random_state=1)"
   ]
  },
  {
   "cell_type": "markdown",
   "metadata": {},
   "source": [
    "#### I.4.2  Apprentissage et évaluation de modèles <a class=\"anchor\" id=\"Partie1.4.2\"></a>"
   ]
  },
  {
   "cell_type": "markdown",
   "metadata": {},
   "source": [
    "##### Utilisation d'un arbre de décision : Un arbre CART (random_state=1) (indice=gini)"
   ]
  },
  {
   "cell_type": "code",
   "execution_count": 41,
   "metadata": {},
   "outputs": [],
   "source": [
    "clf_CART = tree.DecisionTreeClassifier(criterion = 'gini',random_state=1)\n",
    "clf_CART = clf_CART.fit(X_train, y_train)\n",
    "y_pred_CART=clf_CART.predict(X_test)"
   ]
  },
  {
   "cell_type": "markdown",
   "metadata": {},
   "source": [
    "##### Utilisation d'un Knn : k-plus-proches-voisins avec k=5"
   ]
  },
  {
   "cell_type": "code",
   "execution_count": 42,
   "metadata": {},
   "outputs": [],
   "source": [
    "clf_KNN= KNeighborsClassifier(n_neighbors=3)\n",
    "clf_KNN.fit(X_train, y_train)\n",
    "y_pred_KNN=clf_KNN.predict(X_test)"
   ]
  },
  {
   "cell_type": "markdown",
   "metadata": {},
   "source": [
    "##### Utilisation d'un ANN : MultilayerPerceptron à deux couches de tailles respectives 40 et 20 et random_state=1"
   ]
  },
  {
   "cell_type": "code",
   "execution_count": 43,
   "metadata": {},
   "outputs": [],
   "source": [
    "clf_MP = MLPClassifier(hidden_layer_sizes=(40,20), \n",
    "                       activation='relu',\n",
    "                       solver='adam', \n",
    "                       alpha=0.0001, \n",
    "                       batch_size='auto', \n",
    "                       learning_rate='constant', \n",
    "                       learning_rate_init=0.001,\n",
    "                       random_state=1,  \n",
    "                       early_stopping=True).fit(X_train, y_train)\n",
    "\n",
    "y_pred_MP = clf_MP.predict(X_test)"
   ]
  },
  {
   "cell_type": "markdown",
   "metadata": {},
   "source": [
    "#### I.4.3  Analyse des résultats <a class=\"anchor\" id=\"Partie1.4.3\"></a>"
   ]
  },
  {
   "cell_type": "markdown",
   "metadata": {},
   "source": [
    "L’objectif est à présent de comparer les résultats obtenus à l’aide de ces trois simples algorithmes sur ce jeu de\n",
    "données. Cette comparaison s’appuiera sur l’estimation de l’accuracy et le meilleur critère entre le Rappel et la\n",
    "Précision dont vous pensez qu’il est le plus adéquat pour ce cas d’application."
   ]
  },
  {
   "cell_type": "code",
   "execution_count": 44,
   "metadata": {},
   "outputs": [
    {
     "name": "stdout",
     "output_type": "stream",
     "text": [
      "la rappel pour le classifieur arbre de désicion est de 79.29%\n",
      "la précision pour le classifieur arbre de désicion est de 81.03%\n",
      "l'accuracy pour le classifieur arbre de désicion est de 71.57%\n"
     ]
    },
    {
     "data": {
      "image/png": "[encoded data removed]",
      "text/plain": [
       "<Figure size 432x288 with 2 Axes>"
      ]
     },
     "metadata": {
      "needs_background": "light"
     },
     "output_type": "display_data"
    }
   ],
   "source": [
    "criteria_CART=accuracy_recall_precison(y_test, y_pred_CART)\n",
    "dict_score_CART['PCA']=criteria_CART\n",
    "plot_confusion_matrix(y_test, y_pred_CART, [0,1],\"Matrice de confusion pour l'arbre de décision'\",cmap=plt.cm.Blues)\n",
    "print(f\"la rappel pour le classifieur arbre de désicion est de {criteria_CART[0]:.2%}\")\n",
    "print(f\"la précision pour le classifieur arbre de désicion est de {criteria_CART[1]:.2%}\")\n",
    "print(f\"l'accuracy pour le classifieur arbre de désicion est de {criteria_CART[2]:.2%}\")"
   ]
  },
  {
   "cell_type": "code",
   "execution_count": 45,
   "metadata": {},
   "outputs": [
    {
     "name": "stdout",
     "output_type": "stream",
     "text": [
      "la rappel pour le classifieur KNN est de 84.03%\n",
      "la précision pour le classifieur KNN est de 80.72%\n",
      "l'accuracy pour le classifieur KNN est de 73.90%\n"
     ]
    },
    {
     "data": {
      "image/png": "[encoded data removed]",
      "text/plain": [
       "<Figure size 432x288 with 2 Axes>"
      ]
     },
     "metadata": {
      "needs_background": "light"
     },
     "output_type": "display_data"
    }
   ],
   "source": [
    "criteria_KNN=accuracy_recall_precison(y_test, y_pred_KNN)\n",
    "dict_score_KNN['PCA']=criteria_KNN\n",
    "plot_confusion_matrix(y_test, y_pred_KNN, [0,1],\"Matrice de confusion pour le KNN\",cmap=plt.cm.Blues)\n",
    "print(f\"la rappel pour le classifieur KNN est de {criteria_KNN[0]:.2%}\")\n",
    "print(f\"la précision pour le classifieur KNN est de {criteria_KNN[1]:.2%}\")\n",
    "print(f\"l'accuracy pour le classifieur KNN est de {criteria_KNN[2]:.2%}\")"
   ]
  },
  {
   "cell_type": "code",
   "execution_count": 46,
   "metadata": {
    "scrolled": true
   },
   "outputs": [
    {
     "name": "stdout",
     "output_type": "stream",
     "text": [
      "la rappel pour le classifieur réseau de neurones est de 91.10%\n",
      "la précision pour le classifieur réseau de neurones est de 79.86%\n",
      "l'accuracy pour le classifieur réseau de neurones est de 76.92%\n"
     ]
    },
    {
     "data": {
      "image/png": "[encoded data removed]",
      "text/plain": [
       "<Figure size 432x288 with 2 Axes>"
      ]
     },
     "metadata": {
      "needs_background": "light"
     },
     "output_type": "display_data"
    }
   ],
   "source": [
    "criteria_MP=accuracy_recall_precison(y_test, y_pred_MP)\n",
    "dict_score_MP['PCA']=criteria_MP\n",
    "plot_confusion_matrix(y_test, y_pred_MP, [0,1],\"Matrice de confusion pour le réseau de neurones\",cmap=plt.cm.Blues)\n",
    "print(f\"la rappel pour le classifieur réseau de neurones est de {criteria_MP[0]:.2%}\")\n",
    "print(f\"la précision pour le classifieur réseau de neurones est de {criteria_MP[1]:.2%}\")\n",
    "print(f\"l'accuracy pour le classifieur réseau de neurones est de {criteria_MP[2]:.2%}\")"
   ]
  },
  {
   "cell_type": "code",
   "execution_count": 47,
   "metadata": {},
   "outputs": [
    {
     "name": "stdout",
     "output_type": "stream",
     "text": [
      "Arbre de decision: \n",
      "          Sans modif  standardisaiton       PCA\n",
      "Recall      0.799242         0.796717  0.792929\n",
      "Precison    0.819417         0.819481  0.810323\n",
      "Accuracy    0.727148         0.725777  0.715722\n",
      "KNN: \n",
      "          Sans modif  standardisaiton       PCA\n",
      "Recall      0.855429         0.843434  0.840278\n",
      "Precison    0.766836         0.812652  0.807156\n",
      "Accuracy    0.707038         0.745887  0.739031\n",
      "MP: \n",
      "          Sans modif  standardisaiton       PCA\n",
      "Recall      0.955177         0.915404  0.910985\n",
      "Precison    0.747899         0.816901  0.798561\n",
      "Accuracy    0.734461         0.790219  0.769196\n"
     ]
    },
    {
     "data": {
      "text/plain": [
       "(None, None)"
      ]
     },
     "execution_count": 47,
     "metadata": {},
     "output_type": "execute_result"
    }
   ],
   "source": [
    "print(\"Arbre de decision: \"), print(dict_score_CART.head())\n",
    "\n",
    "print(\"KNN: \"),print(dict_score_KNN.head())\n",
    "\n",
    "print(\"MP: \"),print(dict_score_MP.head())"
   ]
  },
  {
   "cell_type": "markdown",
   "metadata": {},
   "source": [
    "Les nouvelles performances sont les suivantes avec la normalisation des données:<br>\n",
    "Du point de vue de l'accuracy l'ordre de la performance des algorithmes est le suivant:<br>\n",
    "    - ANN > KNN > Decision Tree<br>\n",
    "Du point de vue du rappel l'ordre de la performance des algorithmes est le suivant: <br>\n",
    "    - ANN > KNN > Decision Tree<br>\n",
    "Du point de vue de la précision l'ordre de la performance des algorithmes est le suivant: <br>\n",
    "    - Decision tree > ANN > KNN<br>\n",
    "    \n",
    "Du point de vue de l'accord ou non d'un crédit on peut se dire qu'il peut être dangereux pour la personne demandeur de lui accorder un crédit si celle-ci c'est pas solvable on préfera donc prédire des faux négatifs plutôt que des faux positifs on privilégiera donc le critère de la Précison ici. L'algorithme à retenir est donc celui avec le moins de faux positifs donc l'abre de décison cependant au vue des résultats très proche de précision entre les 3 on pourra fair ele compromis de prendre le réseau de neurones pour améliorer la performance globale.<br>\n",
    "\n",
    "On voit que l'ajour des données des 3 premiers axes PCA à agit différemment selon les algorithmes:<br>\n",
    "- pour l'arbre de décision il y a très peu d'impact\n",
    "- pour KNN et MP on a diminuer toutes les performances par rapport au simple ajout de la standardisation"
   ]
  },
  {
   "cell_type": "markdown",
   "metadata": {},
   "source": [
    "### I.5  Sélection de variables : <a class=\"anchor\" id=\"Partie1.5\"></a>"
   ]
  },
  {
   "cell_type": "markdown",
   "metadata": {},
   "source": [
    "#### I.5.1  Préparation des données : <a class=\"anchor\" id=\"Partie1.5.1\"></a>"
   ]
  },
  {
   "cell_type": "code",
   "execution_count": 48,
   "metadata": {},
   "outputs": [],
   "source": [
    "data = pd.read_csv(path+'credit_scoring.csv', sep=';')"
   ]
  },
  {
   "cell_type": "code",
   "execution_count": 49,
   "metadata": {},
   "outputs": [],
   "source": [
    "X = data.iloc[:, 0:13].values\n",
    "y = data.iloc[:, 13].values"
   ]
  },
  {
   "cell_type": "code",
   "execution_count": 50,
   "metadata": {},
   "outputs": [],
   "source": [
    "std_scale = preprocessing.StandardScaler().fit(X)\n",
    "X_scaled = std_scale.transform(X)"
   ]
  },
  {
   "cell_type": "code",
   "execution_count": 51,
   "metadata": {},
   "outputs": [],
   "source": [
    "X_train, X_test, y_train, y_test = train_test_split(X_scaled, y, test_size=0.5, random_state=1)"
   ]
  },
  {
   "cell_type": "markdown",
   "metadata": {},
   "source": [
    "#### I.5.2  Utilisation d'un random forest : <a class=\"anchor\" id=\"Partie1.5.2\"></a>"
   ]
  },
  {
   "cell_type": "code",
   "execution_count": 52,
   "metadata": {},
   "outputs": [
    {
     "data": {
      "text/plain": [
       "RandomForestClassifier()"
      ]
     },
     "execution_count": 52,
     "metadata": {},
     "output_type": "execute_result"
    }
   ],
   "source": [
    "clf_RF = RandomForestClassifier(n_estimators=100)\n",
    "clf_RF.fit(X_train, y_train)"
   ]
  },
  {
   "cell_type": "code",
   "execution_count": 53,
   "metadata": {},
   "outputs": [
    {
     "name": "stdout",
     "output_type": "stream",
     "text": [
      "['Income', 'Seniority', 'Price', 'Amount', 'Age', 'Assets', 'Expenses', 'Records', 'Time', 'Job', 'Debt', 'Home', 'Marital']\n"
     ]
    }
   ],
   "source": [
    "importances=clf_RF.feature_importances_\n",
    "std = np.std([tree.feature_importances_ for tree in clf_RF.estimators_],axis=0)\n",
    "sorted_idx = list(np.argsort(importances)[::-1])\n",
    "features =list(data.columns[:-1])\n",
    "features_sorted=[0]*len(features)\n",
    "for index in range(len(features)):\n",
    "    features_sorted[index]=features[sorted_idx[index]]\n",
    "print(features_sorted)"
   ]
  },
  {
   "cell_type": "code",
   "execution_count": 54,
   "metadata": {},
   "outputs": [
    {
     "data": {
      "image/png": "[encoded data removed]",
      "text/plain": [
       "<Figure size 432x288 with 1 Axes>"
      ]
     },
     "metadata": {
      "needs_background": "light"
     },
     "output_type": "display_data"
    }
   ],
   "source": [
    "padding = np.arange(X_train.size/len(X_train)) + 0.5\n",
    "plt.barh(padding, importances[sorted_idx],xerr=std[sorted_idx], align='center')\n",
    "plt.yticks(padding, features_sorted)\n",
    "plt.xlabel(\"Relative Importance\")\n",
    "plt.title(\"Variable Importance\")\n",
    "plt.show()"
   ]
  },
  {
   "cell_type": "code",
   "execution_count": 55,
   "metadata": {},
   "outputs": [
    {
     "data": {
      "image/png": "[encoded data removed]",
      "text/plain": [
       "<Figure size 432x288 with 1 Axes>"
      ]
     },
     "metadata": {
      "needs_background": "light"
     },
     "output_type": "display_data"
    }
   ],
   "source": [
    "KNN=KNeighborsClassifier(n_neighbors=5)\n",
    "scores=np.zeros(X_train.shape[1]+1)\n",
    "for f in np.arange(0, X_train.shape[1]+1):\n",
    "    X1_f = X_train[:,sorted_idx[:f+1]]\n",
    "    X2_f = X_test[:,sorted_idx[:f+1]]\n",
    "    KNN.fit(X1_f,y_train)\n",
    "    YKNN=KNN.predict(X2_f)\n",
    "    scores[f]=np.round(accuracy_score(y_test,YKNN),3)\n",
    "plt.plot(scores)\n",
    "plt.xlabel(\"Nombre de Variables\")\n",
    "plt.ylabel(\"Accuracy\")\n",
    "plt.title(\"Evolution de l'accuracy en fonction des variables\")\n",
    "plt.show()"
   ]
  },
  {
   "cell_type": "markdown",
   "metadata": {},
   "source": [
    "On utilise la méthode du coude pour trouver le nombre optimal de variable à garder. <br>\n",
    "On peut donc concerver entre 8 et 12 variables pour garder une bonne accuracy (on choisira 8)"
   ]
  },
  {
   "cell_type": "markdown",
   "metadata": {},
   "source": [
    "### I.6  Paramétrage des classifieurs : <a class=\"anchor\" id=\"Partie1.6\"></a>"
   ]
  },
  {
   "cell_type": "markdown",
   "metadata": {},
   "source": [
    "#### I.6.1  Préparation des données : <a class=\"anchor\" id=\"Partie1.6.1\"></a>"
   ]
  },
  {
   "cell_type": "code",
   "execution_count": 56,
   "metadata": {},
   "outputs": [],
   "source": [
    "data = pd.read_csv(path+'credit_scoring.csv', sep=';')"
   ]
  },
  {
   "cell_type": "code",
   "execution_count": 57,
   "metadata": {},
   "outputs": [],
   "source": [
    "X = data.iloc[:, 0:13].values\n",
    "y = data.iloc[:, 13].values"
   ]
  },
  {
   "cell_type": "code",
   "execution_count": 58,
   "metadata": {},
   "outputs": [],
   "source": [
    "std_scale = preprocessing.StandardScaler().fit(X)\n",
    "X_scaled = std_scale.transform(X)"
   ]
  },
  {
   "cell_type": "code",
   "execution_count": 59,
   "metadata": {},
   "outputs": [
    {
     "data": {
      "text/plain": [
       "PCA(n_components=12)"
      ]
     },
     "execution_count": 59,
     "metadata": {},
     "output_type": "execute_result"
    }
   ],
   "source": [
    "pca = decomposition.PCA(n_components=12)\n",
    "pca.fit(X_scaled)"
   ]
  },
  {
   "cell_type": "code",
   "execution_count": 60,
   "metadata": {},
   "outputs": [],
   "source": [
    "X_pca = pca.transform(X_scaled)"
   ]
  },
  {
   "cell_type": "code",
   "execution_count": 61,
   "metadata": {},
   "outputs": [],
   "source": [
    "X_scaled=np.concatenate((X_scaled, X_pca[:,:4]), axis=1)"
   ]
  },
  {
   "cell_type": "code",
   "execution_count": 62,
   "metadata": {},
   "outputs": [],
   "source": [
    "X_train, X_test, y_train, y_test = train_test_split(X_scaled, y, test_size=0.5, random_state=1)"
   ]
  },
  {
   "cell_type": "markdown",
   "metadata": {},
   "source": [
    "#### I.6.2  Recherche du nombre de voisin optimal pour KNN : <a class=\"anchor\" id=\"Partie1.6.2\"></a>"
   ]
  },
  {
   "cell_type": "code",
   "execution_count": 63,
   "metadata": {},
   "outputs": [],
   "source": [
    "# Fixer les valeurs des hyperparamètres à tester\n",
    "param_grid = {'n_neighbors':[1,3,5,7,9,11,13,15,17,20]}\n",
    "\n",
    "# On choisit ici d'optimiser la precision\n",
    "score = {'precision':'precision','accuracy':'accuracy'}\n",
    "\n",
    "# Créer un classifieur kNN avec recherche d'hyperparamètre par validation croisée\n",
    "clf = model_selection.GridSearchCV(\n",
    "    KNeighborsClassifier(), # un classifieur kNN\n",
    "    param_grid,     # hyperparamètres à tester\n",
    "    cv=5,           # nombre de folds de validation croisée, par défaut la validation croisée est stratifiée\n",
    "    scoring=score,  # score à optimiser\n",
    "    refit='accuracy'#\n",
    ")\n",
    "\n",
    "# Optimiser ce classifieur sur le jeu d'entraînement\n",
    "clf.fit(X_train[:,sorted_idx[:9]], y_train)\n",
    "results = clf.cv_results_"
   ]
  },
  {
   "cell_type": "code",
   "execution_count": 64,
   "metadata": {},
   "outputs": [
    {
     "data": {
      "image/png": "[encoded data removed]",
      "text/plain": [
       "<Figure size 576x576 with 1 Axes>"
      ]
     },
     "metadata": {
      "needs_background": "light"
     },
     "output_type": "display_data"
    }
   ],
   "source": [
    "plt.figure(figsize=(8, 8))\n",
    "\n",
    "plt.xlabel(\"n_neighbors\")\n",
    "plt.ylabel(\"Score\")\n",
    "plt.title(\"Résultats de la cross valdiation pour KNN\")\n",
    "\n",
    "ax = plt.gca()\n",
    "ax.set_xlim(2, 15)\n",
    "ax.set_ylim(0.66, 1)\n",
    "\n",
    "# Get the regular numpy array from the MaskedArray\n",
    "X_axis = np.array(results['param_n_neighbors'].data, dtype=float)\n",
    "\n",
    "for scorer, color in zip(sorted(score), ['g', 'k']):\n",
    "    sample_score_mean = results['mean_test_%s' % (scorer)]\n",
    "    sample_score_std = results['std_test_%s' % (scorer)]\n",
    "    ax.fill_between(X_axis, sample_score_mean - sample_score_std,\n",
    "                    sample_score_mean + sample_score_std,\n",
    "                    alpha=0.1, color=color)\n",
    "    ax.plot(X_axis, sample_score_mean, color=color,\n",
    "            alpha=1,\n",
    "            label=\"%s\" % (scorer))\n",
    "\n",
    "    best_index = np.nonzero(results['rank_test_%s' % scorer] == 1)[0][0]\n",
    "    best_score = results['mean_test_%s' % scorer][best_index]\n",
    "\n",
    "    # Plot a dotted vertical line at the best score for that scorer marked by x\n",
    "    ax.plot([X_axis[best_index], ] * 2, [0, best_score],\n",
    "            linestyle='-.', color=color, marker='x', markeredgewidth=3, ms=8)\n",
    "\n",
    "    # Annotate the best score for that scorer\n",
    "    ax.annotate(\"%0.2f\" % best_score,\n",
    "                (X_axis[best_index], best_score + 0.005))\n",
    "\n",
    "plt.legend(loc=\"best\")\n",
    "plt.grid(False)\n",
    "plt.show()"
   ]
  },
  {
   "cell_type": "markdown",
   "metadata": {},
   "source": [
    "Selon le critère le plus important on pourra utiliser 5 ou 13 voisins (probablement plutot 13 étant donnée que la précision varie très peu entre 5 et 13 voisins par rapport à l'accuracy "
   ]
  },
  {
   "cell_type": "markdown",
   "metadata": {},
   "source": [
    "#### I.6.3  Recherche de la profondeur optimal pour arbre de décision : <a class=\"anchor\" id=\"Partie1.6.3\"></a>"
   ]
  },
  {
   "cell_type": "code",
   "execution_count": 65,
   "metadata": {},
   "outputs": [],
   "source": [
    "# Fixer les valeurs des hyperparamètres à tester\n",
    "param_grid={'max_depth': range(1, 25, 1)}\n",
    "\n",
    "# On choisit ici d'optimiser la precision\n",
    "score = {'precision':'precision','accuracy':'accuracy'}\n",
    "\n",
    "# Créer un classifieur kNN avec recherche d'hyperparamètre par validation croisée\n",
    "clf = model_selection.GridSearchCV(\n",
    "    tree.DecisionTreeClassifier(criterion = 'gini',random_state=1), # l'arbre de decision\n",
    "    param_grid,     # hyperparamètres à tester\n",
    "    cv=5,           # nombre de folds de validation croisée, par défaut la validation croisée est stratifiée\n",
    "    scoring=score,  # score à optimiser\n",
    "    refit='accuracy'     #\n",
    ")\n",
    "\n",
    "# Optimiser ce classifieur sur le jeu d'entraînement\n",
    "clf.fit(X_train[:,sorted_idx[:9]], y_train)\n",
    "results = clf.cv_results_"
   ]
  },
  {
   "cell_type": "code",
   "execution_count": 66,
   "metadata": {
    "scrolled": true
   },
   "outputs": [
    {
     "data": {
      "image/png": "[encoded data removed]",
      "text/plain": [
       "<Figure size 576x576 with 1 Axes>"
      ]
     },
     "metadata": {
      "needs_background": "light"
     },
     "output_type": "display_data"
    }
   ],
   "source": [
    "plt.figure(figsize=(8, 8))\n",
    "\n",
    "plt.xlabel(\"max_depth\")\n",
    "plt.ylabel(\"Score\")\n",
    "\n",
    "ax = plt.gca()\n",
    "ax.set_xlim(1, 20)\n",
    "ax.set_ylim(0.66, 1)\n",
    "\n",
    "# Get the regular numpy array from the MaskedArray\n",
    "X_axis = np.array(results['param_max_depth'].data, dtype=float)\n",
    "\n",
    "for scorer, color in zip(sorted(score), ['g', 'k']):\n",
    "    sample_score_mean = results['mean_test_%s' % (scorer)]\n",
    "    sample_score_std = results['std_test_%s' % (scorer)]\n",
    "    ax.fill_between(X_axis, sample_score_mean - sample_score_std,\n",
    "                    sample_score_mean + sample_score_std,\n",
    "                    alpha=0.1, color=color)\n",
    "    ax.plot(X_axis, sample_score_mean, color=color,\n",
    "            alpha=1,\n",
    "            label=\"%s\" % (scorer))\n",
    "\n",
    "    best_index = np.nonzero(results['rank_test_%s' % scorer] == 1)[0][0]\n",
    "    best_score = results['mean_test_%s' % scorer][best_index]\n",
    "\n",
    "    # Plot a dotted vertical line at the best score for that scorer marked by x\n",
    "    ax.plot([X_axis[best_index], ] * 2, [0, best_score],\n",
    "            linestyle='-.', color=color, marker='x', markeredgewidth=3, ms=8)\n",
    "\n",
    "    # Annotate the best score for that scorer\n",
    "    ax.annotate(\"%0.2f\" % best_score,\n",
    "                (X_axis[best_index], best_score + 0.005))\n",
    "\n",
    "plt.legend(loc=\"best\")\n",
    "plt.grid(False)\n",
    "plt.show()"
   ]
  },
  {
   "cell_type": "markdown",
   "metadata": {},
   "source": [
    "Selon le critère le plus important on pourra utiliser une profondeur de 3 ou 16 mais on priviligéria une profondeur de 3 car l'accuracy chute beaucoup par rapport à la faible augmentation de la précision entre 3 et 16 branches."
   ]
  },
  {
   "cell_type": "markdown",
   "metadata": {},
   "source": [
    "#### I.6.4  Recherche de l'optimum d'instances minimales pour arbre de décision : <a class=\"anchor\" id=\"Partie1.6.4\"></a>"
   ]
  },
  {
   "cell_type": "code",
   "execution_count": 67,
   "metadata": {},
   "outputs": [],
   "source": [
    "# Fixer les valeurs des hyperparamètres à tester\n",
    "param_grid={'min_samples_split': range(2, 500, 20)}\n",
    "\n",
    "# On choisit ici d'optimiser la precision\n",
    "score = {'precision':'precision','accuracy':'accuracy'}\n",
    "\n",
    "# Créer un classifieur kNN avec recherche d'hyperparamètre par validation croisée\n",
    "clf = model_selection.GridSearchCV(\n",
    "    tree.DecisionTreeClassifier(criterion = 'gini',random_state=1), # l'arbre de decision\n",
    "    param_grid,     # hyperparamètres à tester\n",
    "    cv=5,           # nombre de folds de validation croisée, par défaut la validation croisée est stratifiée\n",
    "    scoring=score,  # score à optimiser\n",
    "    refit='accuracy'     #\n",
    ")\n",
    "\n",
    "# Optimiser ce classifieur sur le jeu d'entraînement\n",
    "clf.fit(X_train[:,sorted_idx[:9]], y_train)\n",
    "results = clf.cv_results_"
   ]
  },
  {
   "cell_type": "code",
   "execution_count": 68,
   "metadata": {
    "scrolled": true
   },
   "outputs": [
    {
     "data": {
      "image/png": "[encoded data removed]",
      "text/plain": [
       "<Figure size 576x576 with 1 Axes>"
      ]
     },
     "metadata": {
      "needs_background": "light"
     },
     "output_type": "display_data"
    }
   ],
   "source": [
    "plt.figure(figsize=(8, 8))\n",
    "\n",
    "plt.xlabel(\"min_samples_split\")\n",
    "plt.ylabel(\"Score\")\n",
    "\n",
    "ax = plt.gca()\n",
    "ax.set_xlim(0, 300)\n",
    "ax.set_ylim(0.67, 1)\n",
    "\n",
    "# Get the regular numpy array from the MaskedArray\n",
    "X_axis = np.array(results['param_min_samples_split'].data, dtype=float)\n",
    "\n",
    "for scorer, color in zip(sorted(score), ['g', 'k']):\n",
    "    sample_score_mean = results['mean_test_%s' % (scorer)]\n",
    "    sample_score_std = results['std_test_%s' % (scorer)]\n",
    "    ax.fill_between(X_axis, sample_score_mean - sample_score_std,\n",
    "                    sample_score_mean + sample_score_std,\n",
    "                    alpha=0.1, color=color)\n",
    "    ax.plot(X_axis, sample_score_mean, color=color,\n",
    "            alpha=1,\n",
    "            label=\"%s\" % (scorer))\n",
    "\n",
    "    best_index = np.nonzero(results['rank_test_%s' % scorer] == 1)[0][0]\n",
    "    best_score = results['mean_test_%s' % scorer][best_index]\n",
    "\n",
    "    # Plot a dotted vertical line at the best score for that scorer marked by x\n",
    "    ax.plot([X_axis[best_index], ] * 2, [0, best_score],\n",
    "            linestyle='-.', color=color, marker='x', markeredgewidth=3, ms=8)\n",
    "\n",
    "    # Annotate the best score for that scorer\n",
    "    ax.annotate(\"%0.2f\" % best_score,\n",
    "                (X_axis[best_index], best_score + 0.005))\n",
    "\n",
    "plt.legend(loc=\"best\")\n",
    "plt.grid(False)\n",
    "plt.show()"
   ]
  },
  {
   "cell_type": "markdown",
   "metadata": {},
   "source": [
    "Selon le critère le plus important on pourra utiliser 60 ou 140 instances pour diviser un noeud on privilégiera 140 ici comme la chute de score de précision est faible par rapport à la croissance de l'accuracy"
   ]
  },
  {
   "cell_type": "markdown",
   "metadata": {},
   "source": [
    "#### I.6.5  Recherche du learning rate optimale pour réseau de neurones : <a class=\"anchor\" id=\"Partie1.6.5\"></a>"
   ]
  },
  {
   "cell_type": "code",
   "execution_count": 69,
   "metadata": {},
   "outputs": [],
   "source": [
    "# Fixer les valeurs des hyperparamètres à tester\n",
    "param_grid={'alpha': [1,0.1,0.01,0.001,0.0001,0.00001]}\n",
    "\n",
    "# On choisit ici d'optimiser la precision\n",
    "score = {'precision':'precision','accuracy':'accuracy'}\n",
    "\n",
    "# Créer un classifieur kNN avec recherche d'hyperparamètre par validation croisée\n",
    "clf = model_selection.GridSearchCV(\n",
    "    MLPClassifier(hidden_layer_sizes=[40,20], \n",
    "                       activation='relu',\n",
    "                       solver='adam',\n",
    "                       batch_size='auto', \n",
    "                       learning_rate='constant', \n",
    "                       learning_rate_init=0.001,\n",
    "                       random_state=1,  \n",
    "                       early_stopping=True), \n",
    "    param_grid,     # hyperparamètres à tester\n",
    "    cv=5,           # nombre de folds de validation croisée, par défaut la validation croisée est stratifiée\n",
    "    scoring=score,  # score à optimiser\n",
    "    refit='accuracy'     #\n",
    ")\n",
    "\n",
    "# Optimiser ce classifieur sur le jeu d'entraînement\n",
    "clf.fit(X_train[:,sorted_idx[:9]], y_train)\n",
    "results = clf.cv_results_"
   ]
  },
  {
   "cell_type": "code",
   "execution_count": 70,
   "metadata": {},
   "outputs": [
    {
     "data": {
      "image/png": "[encoded data removed]",
      "text/plain": [
       "<Figure size 576x576 with 1 Axes>"
      ]
     },
     "metadata": {
      "needs_background": "light"
     },
     "output_type": "display_data"
    }
   ],
   "source": [
    "plt.figure(figsize=(8, 8))\n",
    "\n",
    "plt.xlabel(\"alpha\")\n",
    "plt.ylabel(\"Score\")\n",
    "\n",
    "ax = plt.gca()\n",
    "\n",
    "ax.set_xlim(0.00001, 0.002)\n",
    "ax.set_ylim(0.67, 1)\n",
    "\n",
    "# Get the regular numpy array from the MaskedArray\n",
    "X_axis = np.array(results['param_alpha'].data, dtype=float)\n",
    "\n",
    "for scorer, color in zip(sorted(score), ['g', 'k']):\n",
    "    sample_score_mean = results['mean_test_%s' % (scorer)]\n",
    "    sample_score_std = results['std_test_%s' % (scorer)]\n",
    "    ax.fill_between(X_axis, sample_score_mean - sample_score_std,\n",
    "                    sample_score_mean + sample_score_std,\n",
    "                    alpha=0.1, color=color)\n",
    "    ax.plot(X_axis, sample_score_mean, color=color,\n",
    "            alpha=1,\n",
    "            label=\"%s\" % (scorer))\n",
    "\n",
    "    best_index = np.nonzero(results['rank_test_%s' % scorer] == 1)[0][0]\n",
    "    best_score = results['mean_test_%s' % scorer][best_index]\n",
    "\n",
    "    # Plot a dotted vertical line at the best score for that scorer marked by x\n",
    "    ax.plot([X_axis[best_index], ] * 2, [0, best_score],\n",
    "            linestyle='-.', color=color, marker='x', markeredgewidth=3, ms=8)\n",
    "\n",
    "    # Annotate the best score for that scorer\n",
    "    ax.annotate(\"%0.2f\" % best_score,\n",
    "                (X_axis[best_index], best_score + 0.005))\n",
    "\n",
    "plt.legend(loc=\"best\")\n",
    "plt.grid(False)\n",
    "plt.show()"
   ]
  },
  {
   "cell_type": "markdown",
   "metadata": {},
   "source": [
    "On prendra ici un learning rate de 0.001"
   ]
  },
  {
   "cell_type": "markdown",
   "metadata": {},
   "source": [
    "#### I.6.6  Recherche de nombres de couches optimal pour réseau de neurones : <a class=\"anchor\" id=\"Partie1.6.6\"></a>"
   ]
  },
  {
   "cell_type": "code",
   "execution_count": 71,
   "metadata": {},
   "outputs": [],
   "source": [
    "# Fixer les valeurs des hyperparamètres à tester\n",
    "param_grid={'hidden_layer_sizes': [[60,50,40,20,10],[50,40,20,10],[40,20,10],[40,20],[40]]}\n",
    "\n",
    "# On choisit ici d'optimiser la precision\n",
    "score = {'precision':'precision','accuracy':'accuracy'}\n",
    "\n",
    "# Créer un classifieur kNN avec recherche d'hyperparamètre par validation croisée\n",
    "clf = model_selection.GridSearchCV(\n",
    "    MLPClassifier(alpha=0.001,\n",
    "                       activation='relu',\n",
    "                       solver='adam',\n",
    "                       batch_size='auto', \n",
    "                       learning_rate='constant', \n",
    "                       learning_rate_init=0.001,\n",
    "                       random_state=1,  \n",
    "                       early_stopping=True), \n",
    "    param_grid,     # hyperparamètres à tester\n",
    "    cv=5,           # nombre de folds de validation croisée, par défaut la validation croisée est stratifiée\n",
    "    scoring=score,  # score à optimiser\n",
    "    refit='accuracy'     #\n",
    ")\n",
    "\n",
    "# Optimiser ce classifieur sur le jeu d'entraînement\n",
    "clf.fit(X_train[:,sorted_idx[:9]], y_train)\n",
    "results = clf.cv_results_"
   ]
  },
  {
   "cell_type": "code",
   "execution_count": 72,
   "metadata": {
    "scrolled": true
   },
   "outputs": [
    {
     "data": {
      "image/png": "[encoded data removed]",
      "text/plain": [
       "<Figure size 576x576 with 1 Axes>"
      ]
     },
     "metadata": {
      "needs_background": "light"
     },
     "output_type": "display_data"
    }
   ],
   "source": [
    "plt.figure(figsize=(8, 8))\n",
    "\n",
    "plt.xlabel(\"Nombre de couche\")\n",
    "plt.ylabel(\"Score\")\n",
    "\n",
    "ax = plt.gca()\n",
    "\n",
    "ax.set_xlim(1, 5)\n",
    "ax.set_ylim(0.67, 1)\n",
    "\n",
    "# Get the regular numpy array from the MaskedArray\n",
    "Number_layer=[]\n",
    "for i in param_grid['hidden_layer_sizes']:\n",
    "    Number_layer.append(len(i))\n",
    "X_axis = np.array(Number_layer, dtype=float)\n",
    "\n",
    "for scorer, color in zip(sorted(score), ['g', 'k']):\n",
    "    sample_score_mean = results['mean_test_%s' % (scorer)]\n",
    "    sample_score_std = results['std_test_%s' % (scorer)]\n",
    "    ax.fill_between(X_axis, sample_score_mean - sample_score_std,\n",
    "                    sample_score_mean + sample_score_std,\n",
    "                    alpha=0.1, color=color)\n",
    "    ax.plot(X_axis, sample_score_mean, color=color,\n",
    "            alpha=1,\n",
    "            label=\"%s\" % (scorer))\n",
    "\n",
    "    best_index = np.nonzero(results['rank_test_%s' % scorer] == 1)[0][0]\n",
    "    best_score = results['mean_test_%s' % scorer][best_index]\n",
    "\n",
    "    # Plot a dotted vertical line at the best score for that scorer marked by x\n",
    "    ax.plot([X_axis[best_index], ] * 2, [0, best_score],\n",
    "            linestyle='-.', color=color, marker='x', markeredgewidth=3, ms=8)\n",
    "\n",
    "    # Annotate the best score for that scorer\n",
    "    ax.annotate(\"%0.2f\" % best_score,\n",
    "                (X_axis[best_index], best_score + 0.005))\n",
    "\n",
    "plt.legend(loc=\"best\")\n",
    "plt.grid(False)\n",
    "plt.show()"
   ]
  },
  {
   "cell_type": "markdown",
   "metadata": {},
   "source": [
    "On choisira le format avec 4 couches pour optimiser la précision"
   ]
  },
  {
   "cell_type": "markdown",
   "metadata": {},
   "source": [
    "#### I.6.7  Recherche du nombre de neurones optimal sur la première couche : <a class=\"anchor\" id=\"Partie1.6.7\"></a>"
   ]
  },
  {
   "cell_type": "code",
   "execution_count": 73,
   "metadata": {},
   "outputs": [],
   "source": [
    "# Fixer les valeurs des hyperparamètres à tester\n",
    "param_grid={'hidden_layer_sizes': [[5],[50],[100],[150],[300],[500],[750],[1000],[1500]]}\n",
    "\n",
    "# On choisit ici d'optimiser la precision\n",
    "score = {'precision':'precision','accuracy':'accuracy'}\n",
    "\n",
    "# Créer un classifieur kNN avec recherche d'hyperparamètre par validation croisée\n",
    "clf = model_selection.GridSearchCV(\n",
    "    MLPClassifier(alpha=0.001,\n",
    "                       activation='relu',\n",
    "                       solver='adam',\n",
    "                       batch_size='auto', \n",
    "                       learning_rate='constant', \n",
    "                       learning_rate_init=0.001,\n",
    "                       random_state=1,  \n",
    "                       early_stopping=True), \n",
    "    param_grid,     # hyperparamètres à tester\n",
    "    cv=5,           # nombre de folds de validation croisée, par défaut la validation croisée est stratifiée\n",
    "    scoring=score,  # score à optimiser\n",
    "    refit='accuracy'     #\n",
    ")\n",
    "\n",
    "# Optimiser ce classifieur sur le jeu d'entraînement\n",
    "clf.fit(X_train[:,sorted_idx[:9]], y_train)\n",
    "results = clf.cv_results_"
   ]
  },
  {
   "cell_type": "code",
   "execution_count": 74,
   "metadata": {
    "scrolled": false
   },
   "outputs": [
    {
     "data": {
      "image/png": "[encoded data removed]",
      "text/plain": [
       "<Figure size 576x576 with 1 Axes>"
      ]
     },
     "metadata": {
      "needs_background": "light"
     },
     "output_type": "display_data"
    }
   ],
   "source": [
    "plt.figure(figsize=(8, 8))\n",
    "\n",
    "plt.xlabel(\"Nombre de neurones sur une couche cachée\")\n",
    "plt.ylabel(\"Score\")\n",
    "\n",
    "ax = plt.gca()\n",
    "\n",
    "ax.set_xlim(0, 1600)\n",
    "ax.set_ylim(0.67, 1)\n",
    "\n",
    "# Get the regular numpy array from the MaskedArray\n",
    "X_axis=[]\n",
    "for i in param_grid[\"hidden_layer_sizes\"]:\n",
    "    X_axis.append(i[0])\n",
    "\n",
    "for scorer, color in zip(sorted(score), ['g', 'k']):\n",
    "    sample_score_mean = results['mean_test_%s' % (scorer)]\n",
    "    sample_score_std = results['std_test_%s' % (scorer)]\n",
    "    ax.fill_between(X_axis, sample_score_mean - sample_score_std,\n",
    "                    sample_score_mean + sample_score_std,\n",
    "                    alpha=0.1, color=color)\n",
    "    ax.plot(X_axis, sample_score_mean, color=color,\n",
    "            alpha=1,\n",
    "            label=\"%s\" % (scorer))\n",
    "\n",
    "    best_index = np.nonzero(results['rank_test_%s' % scorer] == 1)[0][0]\n",
    "    best_score = results['mean_test_%s' % scorer][best_index]\n",
    "\n",
    "    # Plot a dotted vertical line at the best score for that scorer marked by x\n",
    "    ax.plot([X_axis[best_index], ] * 2, [0, best_score],\n",
    "            linestyle='-.', color=color, marker='x', markeredgewidth=3, ms=8)\n",
    "\n",
    "    # Annotate the best score for that scorer\n",
    "    ax.annotate(\"%0.2f\" % best_score,\n",
    "                (X_axis[best_index], best_score + 0.005))\n",
    "\n",
    "plt.legend(loc=\"best\")\n",
    "plt.grid(False)\n",
    "plt.show()"
   ]
  },
  {
   "cell_type": "markdown",
   "metadata": {},
   "source": [
    "On choisira un nombre de neurones de 300 sur la première couche du réseau"
   ]
  },
  {
   "cell_type": "markdown",
   "metadata": {},
   "source": [
    "### I.7  Création d’un pipeline : <a class=\"anchor\" id=\"Partie1.7\"></a>"
   ]
  },
  {
   "cell_type": "markdown",
   "metadata": {},
   "source": [
    "#### I.7.1  Partie standardisation et PCA de la pipeline : <a class=\"anchor\" id=\"Partie1.7.1\"></a>"
   ]
  },
  {
   "cell_type": "code",
   "execution_count": 75,
   "metadata": {},
   "outputs": [],
   "source": [
    "select_3_PCA_components = Pipeline(steps=[\n",
    "    ('scale', StandardScaler()), \n",
    "    ('PCA', PCA(n_components=3))])\n",
    "\n",
    "preprocessor = FeatureUnion([('scale',StandardScaler()), ('select_3_PCA_components',select_3_PCA_components)])"
   ]
  },
  {
   "cell_type": "markdown",
   "metadata": {},
   "source": [
    "#### I.7.2  Construction de toute la pipeline : <a class=\"anchor\" id=\"Partie1.7.2\"></a>"
   ]
  },
  {
   "cell_type": "code",
   "execution_count": 76,
   "metadata": {},
   "outputs": [],
   "source": [
    "def pipeline(classifier):\n",
    "    return(Pipeline(steps=[('preprocessor', preprocessor),('classifier', classifier)]))"
   ]
  },
  {
   "cell_type": "markdown",
   "metadata": {},
   "source": [
    "#### I.7.3  Test de la pipeline : <a class=\"anchor\" id=\"Partie1.7.3\"></a>"
   ]
  },
  {
   "cell_type": "code",
   "execution_count": 77,
   "metadata": {},
   "outputs": [],
   "source": [
    "data = pd.read_csv(path+'credit_scoring.csv', sep=';')\n",
    "X = data.drop('Status', axis=1)\n",
    "y = data['Status']\n",
    "X_train, X_test, y_train, y_test = train_test_split(X, y, test_size=0.5, random_state=1)"
   ]
  },
  {
   "cell_type": "code",
   "execution_count": 78,
   "metadata": {},
   "outputs": [
    {
     "data": {
      "text/plain": [
       "0.756398537477148"
      ]
     },
     "execution_count": 78,
     "metadata": {},
     "output_type": "execute_result"
    }
   ],
   "source": [
    "pipe = pipeline(KNeighborsClassifier(n_neighbors=5))\n",
    "pipe.fit(X_train, y_train)\n",
    "accuracy_score(y_test,pipe.predict(X_test))"
   ]
  },
  {
   "cell_type": "markdown",
   "metadata": {},
   "source": [
    "#### I.7.4 Enregistrement de la pipeline : <a class=\"anchor\" id=\"Partie1.7.4\"></a>"
   ]
  },
  {
   "cell_type": "code",
   "execution_count": 79,
   "metadata": {},
   "outputs": [],
   "source": [
    "import pickle\n",
    "\n",
    "filename = r'C:\\Users\\thiba\\OneDrive\\Documents\\Documents\\COURS\\CENTRALE LYON\\MASTER2-DS\\machine_Learning\\TP2_masterDS\\TP-AS\\TP AS\\fit'\n",
    "outfile = open(filename, 'wb')\n",
    "pickle.dump(pipe, outfile)\n",
    "outfile.close()"
   ]
  },
  {
   "cell_type": "markdown",
   "metadata": {},
   "source": [
    "La pipeline fonctionne correctement et on a bien enregistré le modèle KNN à 5 voisins entrainé."
   ]
  },
  {
   "cell_type": "markdown",
   "metadata": {},
   "source": [
    "### I.8 Comparaison de plusieurs algorithmes d’apprentissage : <a class=\"anchor\" id=\"Partie1.8\"></a>"
   ]
  },
  {
   "cell_type": "markdown",
   "metadata": {},
   "source": [
    "On va utiliser ensuite sur notre jeu de données sur des algorithmes d’apprentissage supervisé."
   ]
  },
  {
   "cell_type": "code",
   "execution_count": 80,
   "metadata": {},
   "outputs": [],
   "source": [
    "df_score = pd.DataFrame(index = ['Recall', 'Precison', 'Accuracy'], columns = ['NaiveBayesSimple', 'CART', 'ID3','Stump','MultilayerPerceptron'])"
   ]
  },
  {
   "cell_type": "code",
   "execution_count": 81,
   "metadata": {},
   "outputs": [],
   "source": [
    "data = pd.read_csv(path+'credit_scoring.csv', sep=';')\n",
    "X = data.iloc[:, 0:13].values\n",
    "y = data.iloc[:, 13].values\n",
    "std_scale = preprocessing.StandardScaler().fit(X)\n",
    "X_scaled = std_scale.transform(X)\n",
    "X_train, X_test, y_train, y_test = train_test_split(X_scaled, y, test_size=0.5, random_state=1)"
   ]
  },
  {
   "cell_type": "markdown",
   "metadata": {},
   "source": [
    "#### I.8.1 Utilisation NaiveBayesSimple : <a class=\"anchor\" id=\"Partie1.8.1\"></a>"
   ]
  },
  {
   "cell_type": "code",
   "execution_count": 82,
   "metadata": {},
   "outputs": [],
   "source": [
    "clf_gnb = GaussianNB()\n",
    "clf_gnb.fit(X_train,y_train)\n",
    "y_pred_gnb=clf_gnb.predict(X_test)\n",
    "criteria_gnb=accuracy_recall_precison(y_test, y_pred_gnb)\n",
    "df_score['NaiveBayesSimple']=criteria_gnb"
   ]
  },
  {
   "cell_type": "code",
   "execution_count": 83,
   "metadata": {},
   "outputs": [
    {
     "name": "stdout",
     "output_type": "stream",
     "text": [
      "la rappel est de 84.09%\n",
      "la précision est de 83.15%\n",
      "l'accuracy est de 76.14%\n"
     ]
    }
   ],
   "source": [
    "print(f\"la rappel est de {criteria_gnb[0]:.2%}\")\n",
    "print(f\"la précision est de {criteria_gnb[1]:.2%}\")\n",
    "print(f\"l'accuracy est de {criteria_gnb[2]:.2%}\")"
   ]
  },
  {
   "cell_type": "markdown",
   "metadata": {},
   "source": [
    "#### I.8.2 Utilisation Un arbre CART : <a class=\"anchor\" id=\"Partie1.8.2\"></a>"
   ]
  },
  {
   "cell_type": "markdown",
   "metadata": {},
   "source": [
    "testons pour l'arbre avec les paramètres par défaut"
   ]
  },
  {
   "cell_type": "code",
   "execution_count": 84,
   "metadata": {},
   "outputs": [],
   "source": [
    "clf_CART = tree.DecisionTreeClassifier(criterion = 'gini',random_state=1)\n",
    "clf_CART.fit(X_train,y_train)\n",
    "y_pred_CART=clf_CART.predict(X_test)\n",
    "criteria_CART=accuracy_recall_precison(y_test, y_pred_CART)\n",
    "df_score['CART']=criteria_CART"
   ]
  },
  {
   "cell_type": "code",
   "execution_count": 85,
   "metadata": {},
   "outputs": [
    {
     "name": "stdout",
     "output_type": "stream",
     "text": [
      "la rappel est de 79.67%\n",
      "la précision est de 81.95%\n",
      "l'accuracy est de 72.58%\n"
     ]
    }
   ],
   "source": [
    "print(f\"la rappel est de {criteria_CART[0]:.2%}\")\n",
    "print(f\"la précision est de {criteria_CART[1]:.2%}\")\n",
    "print(f\"l'accuracy est de {criteria_CART[2]:.2%}\")"
   ]
  },
  {
   "cell_type": "markdown",
   "metadata": {},
   "source": [
    "testons pour l'arbre avec une profondeur de 5"
   ]
  },
  {
   "cell_type": "code",
   "execution_count": 86,
   "metadata": {},
   "outputs": [],
   "source": [
    "clf_CART = tree.DecisionTreeClassifier(criterion = 'gini',random_state=1,max_depth=5)\n",
    "clf_CART.fit(X_train,y_train)\n",
    "y_pred_CART=clf_CART.predict(X_test)\n",
    "criteria_CART=accuracy_recall_precison(y_test, y_pred_CART)\n",
    "df_score['CART-5']=criteria_CART"
   ]
  },
  {
   "cell_type": "code",
   "execution_count": 87,
   "metadata": {},
   "outputs": [
    {
     "name": "stdout",
     "output_type": "stream",
     "text": [
      "la rappel est de 86.11%\n",
      "la précision est de 83.12%\n",
      "l'accuracy est de 77.29%\n"
     ]
    }
   ],
   "source": [
    "print(f\"la rappel est de {criteria_CART[0]:.2%}\")\n",
    "print(f\"la précision est de {criteria_CART[1]:.2%}\")\n",
    "print(f\"l'accuracy est de {criteria_CART[2]:.2%}\")"
   ]
  },
  {
   "cell_type": "markdown",
   "metadata": {},
   "source": [
    "#### I.8.3 Utilisation Un arbre ID3 : <a class=\"anchor\" id=\"Partie1.8.3\"></a>"
   ]
  },
  {
   "cell_type": "markdown",
   "metadata": {},
   "source": [
    "testons pour l'arbre avec les paramètres par défaut"
   ]
  },
  {
   "cell_type": "code",
   "execution_count": 88,
   "metadata": {},
   "outputs": [],
   "source": [
    "clf_ID3 = tree.DecisionTreeClassifier(criterion = 'entropy',random_state=1)\n",
    "clf_ID3.fit(X_train,y_train)\n",
    "y_pred_ID3=clf_ID3.predict(X_test)\n",
    "criteria_ID3=accuracy_recall_precison(y_test, y_pred_ID3)\n",
    "df_score['ID3']=criteria_ID3"
   ]
  },
  {
   "cell_type": "code",
   "execution_count": 89,
   "metadata": {},
   "outputs": [
    {
     "name": "stdout",
     "output_type": "stream",
     "text": [
      "la rappel est de 79.67%\n",
      "la précision est de 81.79%\n",
      "l'accuracy est de 72.44%\n"
     ]
    }
   ],
   "source": [
    "print(f\"la rappel est de {criteria_ID3[0]:.2%}\")\n",
    "print(f\"la précision est de {criteria_ID3[1]:.2%}\")\n",
    "print(f\"l'accuracy est de {criteria_ID3[2]:.2%}\")"
   ]
  },
  {
   "cell_type": "markdown",
   "metadata": {},
   "source": [
    "testons pour l'arbre avec une profondeur de 5"
   ]
  },
  {
   "cell_type": "code",
   "execution_count": 90,
   "metadata": {},
   "outputs": [],
   "source": [
    "clf_ID3 = tree.DecisionTreeClassifier(criterion = 'entropy',random_state=1)\n",
    "clf_ID3.fit(X_train,y_train)\n",
    "y_pred_ID3=clf_ID3.predict(X_test)\n",
    "criteria_ID3=accuracy_recall_precison(y_test, y_pred_ID3)\n",
    "df_score['ID3-5']=criteria_ID3"
   ]
  },
  {
   "cell_type": "code",
   "execution_count": 91,
   "metadata": {},
   "outputs": [
    {
     "name": "stdout",
     "output_type": "stream",
     "text": [
      "la rappel est de 79.67%\n",
      "la précision est de 81.79%\n",
      "l'accuracy est de 72.44%\n"
     ]
    }
   ],
   "source": [
    "print(f\"la rappel est de {criteria_ID3[0]:.2%}\")\n",
    "print(f\"la précision est de {criteria_ID3[1]:.2%}\")\n",
    "print(f\"l'accuracy est de {criteria_ID3[2]:.2%}\")"
   ]
  },
  {
   "cell_type": "markdown",
   "metadata": {},
   "source": [
    "#### I.8.4 Utilisation Decision Stump : <a class=\"anchor\" id=\"Partie1.8.4\"></a>"
   ]
  },
  {
   "cell_type": "code",
   "execution_count": 92,
   "metadata": {},
   "outputs": [],
   "source": [
    "clf_Stump = tree.DecisionTreeClassifier(criterion = 'gini',random_state=1, max_depth=1)\n",
    "clf_Stump.fit(X_train,y_train)\n",
    "y_pred_Stump=clf_Stump.predict(X_test)\n",
    "criteria_Stump=accuracy_recall_precison(y_test, y_pred_Stump)\n",
    "df_score['Stump']=criteria_Stump"
   ]
  },
  {
   "cell_type": "code",
   "execution_count": 93,
   "metadata": {},
   "outputs": [
    {
     "name": "stdout",
     "output_type": "stream",
     "text": [
      "la rappel est de 100.00%\n",
      "la précision est de 72.39%\n",
      "l'accuracy est de 72.39%\n"
     ]
    }
   ],
   "source": [
    "print(f\"la rappel est de {criteria_Stump[0]:.2%}\")\n",
    "print(f\"la précision est de {criteria_Stump[1]:.2%}\")\n",
    "print(f\"l'accuracy est de {criteria_Stump[2]:.2%}\")"
   ]
  },
  {
   "cell_type": "markdown",
   "metadata": {},
   "source": [
    "#### I.8.5 Utilisation MultilayerPerceptron à deux couches de tailles respectives 20 et 10 : <a class=\"anchor\" id=\"Partie1.8.5\"></a>"
   ]
  },
  {
   "cell_type": "code",
   "execution_count": 94,
   "metadata": {},
   "outputs": [],
   "source": [
    "clf_MP = MLPClassifier(hidden_layer_sizes=(10, 20), random_state=1)\n",
    "clf_MP.fit(X_train,y_train)\n",
    "y_pred_MP=clf_MP.predict(X_test)\n",
    "criteria_MP=accuracy_recall_precison(y_test, y_pred_MP)\n",
    "df_score['MultilayerPerceptron']=criteria_MP"
   ]
  },
  {
   "cell_type": "code",
   "execution_count": 95,
   "metadata": {},
   "outputs": [
    {
     "name": "stdout",
     "output_type": "stream",
     "text": [
      "la rappel est de 88.13%\n",
      "la précision est de 84.00%\n",
      "l'accuracy est de 79.25%\n"
     ]
    }
   ],
   "source": [
    "print(f\"la rappel est de {criteria_MP[0]:.2%}\")\n",
    "print(f\"la précision est de {criteria_MP[1]:.2%}\")\n",
    "print(f\"l'accuracy est de {criteria_MP[2]:.2%}\")"
   ]
  },
  {
   "cell_type": "markdown",
   "metadata": {},
   "source": [
    "#### I.8.6 Utilisation k-plus-proches-voisins : <a class=\"anchor\" id=\"Partie1.8.6\"></a>"
   ]
  },
  {
   "cell_type": "markdown",
   "metadata": {},
   "source": [
    "testons pour le KNN avec 5 voisins"
   ]
  },
  {
   "cell_type": "code",
   "execution_count": 96,
   "metadata": {},
   "outputs": [],
   "source": [
    "clf_KNN = KNeighborsClassifier(n_neighbors=5)\n",
    "clf_KNN.fit(X_train,y_train)\n",
    "y_pred_KNN=clf_KNN.predict(X_test)\n",
    "criteria_KNN=accuracy_recall_precison(y_test, y_pred_KNN)\n",
    "df_score['KNN-5']=criteria_KNN"
   ]
  },
  {
   "cell_type": "code",
   "execution_count": 97,
   "metadata": {},
   "outputs": [
    {
     "name": "stdout",
     "output_type": "stream",
     "text": [
      "la rappel est de 86.36%\n",
      "la précision est de 80.95%\n",
      "l'accuracy est de 75.41%\n"
     ]
    }
   ],
   "source": [
    "print(f\"la rappel est de {criteria_KNN[0]:.2%}\")\n",
    "print(f\"la précision est de {criteria_KNN[1]:.2%}\")\n",
    "print(f\"l'accuracy est de {criteria_KNN[2]:.2%}\")"
   ]
  },
  {
   "cell_type": "markdown",
   "metadata": {},
   "source": [
    "testons pour le KNN avec 10 voisins"
   ]
  },
  {
   "cell_type": "code",
   "execution_count": 98,
   "metadata": {},
   "outputs": [],
   "source": [
    "clf_KNN = KNeighborsClassifier(n_neighbors=10)\n",
    "clf_KNN.fit(X_train,y_train)\n",
    "y_pred_KNN=clf_KNN.predict(X_test)\n",
    "criteria_KNN=accuracy_recall_precison(y_test, y_pred_KNN)\n",
    "df_score['KNN-10']=criteria_KNN"
   ]
  },
  {
   "cell_type": "code",
   "execution_count": 99,
   "metadata": {},
   "outputs": [
    {
     "name": "stdout",
     "output_type": "stream",
     "text": [
      "la rappel est de 86.05%\n",
      "la précision est de 83.11%\n",
      "l'accuracy est de 77.24%\n"
     ]
    }
   ],
   "source": [
    "print(f\"la rappel est de {criteria_KNN[0]:.2%}\")\n",
    "print(f\"la précision est de {criteria_KNN[1]:.2%}\")\n",
    "print(f\"l'accuracy est de {criteria_KNN[2]:.2%}\")"
   ]
  },
  {
   "cell_type": "markdown",
   "metadata": {},
   "source": [
    "testons pour le KNN avec 15 voisins"
   ]
  },
  {
   "cell_type": "code",
   "execution_count": 100,
   "metadata": {},
   "outputs": [],
   "source": [
    "clf_KNN = KNeighborsClassifier(n_neighbors=15)\n",
    "clf_KNN.fit(X_train,y_train)\n",
    "y_pred_KNN=clf_KNN.predict(X_test)\n",
    "criteria_KNN=accuracy_recall_precison(y_test, y_pred_KNN)\n",
    "df_score['KNN-15']=criteria_KNN"
   ]
  },
  {
   "cell_type": "code",
   "execution_count": 101,
   "metadata": {},
   "outputs": [
    {
     "name": "stdout",
     "output_type": "stream",
     "text": [
      "la rappel est de 89.77%\n",
      "la précision est de 80.89%\n",
      "l'accuracy est de 77.24%\n"
     ]
    }
   ],
   "source": [
    "print(f\"la rappel est de {criteria_KNN[0]:.2%}\")\n",
    "print(f\"la précision est de {criteria_KNN[1]:.2%}\")\n",
    "print(f\"l'accuracy est de {criteria_KNN[2]:.2%}\")"
   ]
  },
  {
   "cell_type": "markdown",
   "metadata": {},
   "source": [
    "#### I.8.7 Bagging  : <a class=\"anchor\" id=\"Partie1.8.7\"></a>"
   ]
  },
  {
   "cell_type": "markdown",
   "metadata": {},
   "source": [
    "testons pour le bagging avec 50 classifieurs"
   ]
  },
  {
   "cell_type": "code",
   "execution_count": 102,
   "metadata": {},
   "outputs": [],
   "source": [
    "clf_bgg = BaggingClassifier(n_estimators=50, random_state=0)\n",
    "clf_bgg.fit(X_train,y_train)\n",
    "y_pred_bgg=clf_bgg.predict(X_test)\n",
    "criteria_bgg=accuracy_recall_precison(y_test, y_pred_bgg)\n",
    "df_score['Bagging-50']=criteria_bgg"
   ]
  },
  {
   "cell_type": "code",
   "execution_count": 103,
   "metadata": {},
   "outputs": [
    {
     "name": "stdout",
     "output_type": "stream",
     "text": [
      "la rappel est de 87.50%\n",
      "la précision est de 83.54%\n",
      "l'accuracy est de 78.47%\n"
     ]
    }
   ],
   "source": [
    "print(f\"la rappel est de {criteria_bgg[0]:.2%}\")\n",
    "print(f\"la précision est de {criteria_bgg[1]:.2%}\")\n",
    "print(f\"l'accuracy est de {criteria_bgg[2]:.2%}\")"
   ]
  },
  {
   "cell_type": "markdown",
   "metadata": {},
   "source": [
    "testons pour le bagging avec 25 classifieurs"
   ]
  },
  {
   "cell_type": "code",
   "execution_count": 104,
   "metadata": {},
   "outputs": [],
   "source": [
    "clf_bgg = BaggingClassifier(n_estimators=25, random_state=0)\n",
    "clf_bgg.fit(X_train,y_train)\n",
    "y_pred_bgg=clf_bgg.predict(X_test)\n",
    "criteria_bgg=accuracy_recall_precison(y_test, y_pred_bgg)\n",
    "df_score['Bagging-25']=criteria_bgg"
   ]
  },
  {
   "cell_type": "code",
   "execution_count": 105,
   "metadata": {},
   "outputs": [
    {
     "name": "stdout",
     "output_type": "stream",
     "text": [
      "la rappel est de 88.07%\n",
      "la précision est de 83.28%\n",
      "l'accuracy est de 78.56%\n"
     ]
    }
   ],
   "source": [
    "print(f\"la rappel est de {criteria_bgg[0]:.2%}\")\n",
    "print(f\"la précision est de {criteria_bgg[1]:.2%}\")\n",
    "print(f\"l'accuracy est de {criteria_bgg[2]:.2%}\")"
   ]
  },
  {
   "cell_type": "markdown",
   "metadata": {},
   "source": [
    "testons pour le bagging avec 100 classifieurs"
   ]
  },
  {
   "cell_type": "code",
   "execution_count": 106,
   "metadata": {},
   "outputs": [],
   "source": [
    "clf_bgg = BaggingClassifier(n_estimators=100, random_state=0)\n",
    "clf_bgg.fit(X_train,y_train)\n",
    "y_pred_bgg=clf_bgg.predict(X_test)\n",
    "criteria_bgg=accuracy_recall_precison(y_test, y_pred_bgg)\n",
    "df_score['Bagging-100']=criteria_bgg"
   ]
  },
  {
   "cell_type": "code",
   "execution_count": 107,
   "metadata": {},
   "outputs": [
    {
     "name": "stdout",
     "output_type": "stream",
     "text": [
      "la rappel est de 87.94%\n",
      "la précision est de 83.61%\n",
      "l'accuracy est de 78.79%\n"
     ]
    }
   ],
   "source": [
    "print(f\"la rappel est de {criteria_bgg[0]:.2%}\")\n",
    "print(f\"la précision est de {criteria_bgg[1]:.2%}\")\n",
    "print(f\"l'accuracy est de {criteria_bgg[2]:.2%}\")"
   ]
  },
  {
   "cell_type": "markdown",
   "metadata": {},
   "source": [
    "#### I.8.8 AdaBoost : <a class=\"anchor\" id=\"Partie1.8.8\"></a>"
   ]
  },
  {
   "cell_type": "markdown",
   "metadata": {},
   "source": [
    "testons pour le Adaboost avec 50 classifieurs"
   ]
  },
  {
   "cell_type": "code",
   "execution_count": 108,
   "metadata": {},
   "outputs": [],
   "source": [
    "clf_AB = AdaBoostClassifier(n_estimators=50, random_state=0)\n",
    "clf_AB.fit(X_train,y_train)\n",
    "y_pred_AB=clf_AB.predict(X_test)\n",
    "criteria_AB=accuracy_recall_precison(y_test, y_pred_AB)\n",
    "df_score['Adaboost-50']=criteria_AB"
   ]
  },
  {
   "cell_type": "code",
   "execution_count": 109,
   "metadata": {},
   "outputs": [
    {
     "name": "stdout",
     "output_type": "stream",
     "text": [
      "la rappel est de 89.52%\n",
      "la précision est de 82.49%\n",
      "l'accuracy est de 78.66%\n"
     ]
    }
   ],
   "source": [
    "print(f\"la rappel est de {criteria_AB[0]:.2%}\")\n",
    "print(f\"la précision est de {criteria_AB[1]:.2%}\")\n",
    "print(f\"l'accuracy est de {criteria_AB[2]:.2%}\")"
   ]
  },
  {
   "cell_type": "markdown",
   "metadata": {},
   "source": [
    "testons pour le Adaboost avec 25 classifieurs"
   ]
  },
  {
   "cell_type": "code",
   "execution_count": 110,
   "metadata": {},
   "outputs": [],
   "source": [
    "clf_AB = AdaBoostClassifier(n_estimators=25, random_state=0)\n",
    "clf_AB.fit(X_train,y_train)\n",
    "y_pred_AB=clf_AB.predict(X_test)\n",
    "criteria_AB=accuracy_recall_precison(y_test, y_pred_AB)\n",
    "df_score['Adaboost-25']=criteria_AB"
   ]
  },
  {
   "cell_type": "code",
   "execution_count": 111,
   "metadata": {},
   "outputs": [
    {
     "name": "stdout",
     "output_type": "stream",
     "text": [
      "la rappel est de 90.09%\n",
      "la précision est de 82.34%\n",
      "l'accuracy est de 78.84%\n"
     ]
    }
   ],
   "source": [
    "print(f\"la rappel est de {criteria_AB[0]:.2%}\")\n",
    "print(f\"la précision est de {criteria_AB[1]:.2%}\")\n",
    "print(f\"l'accuracy est de {criteria_AB[2]:.2%}\")"
   ]
  },
  {
   "cell_type": "markdown",
   "metadata": {},
   "source": [
    "testons pour le Adaboost avec 100 classifieurs"
   ]
  },
  {
   "cell_type": "code",
   "execution_count": 112,
   "metadata": {},
   "outputs": [],
   "source": [
    "clf_AB = AdaBoostClassifier(n_estimators=100, random_state=0)\n",
    "clf_AB.fit(X_train,y_train)\n",
    "y_pred_AB=clf_AB.predict(X_test)\n",
    "criteria_AB=accuracy_recall_precison(y_test, y_pred_AB)\n",
    "df_score['Adaboost-100']=criteria_AB"
   ]
  },
  {
   "cell_type": "code",
   "execution_count": 113,
   "metadata": {},
   "outputs": [
    {
     "name": "stdout",
     "output_type": "stream",
     "text": [
      "la rappel est de 89.52%\n",
      "la précision est de 82.88%\n",
      "l'accuracy est de 79.02%\n"
     ]
    }
   ],
   "source": [
    "print(f\"la rappel est de {criteria_AB[0]:.2%}\")\n",
    "print(f\"la précision est de {criteria_AB[1]:.2%}\")\n",
    "print(f\"l'accuracy est de {criteria_AB[2]:.2%}\")"
   ]
  },
  {
   "cell_type": "markdown",
   "metadata": {},
   "source": [
    "#### I.8.9 Random Forest : <a class=\"anchor\" id=\"Partie1.8.9\"></a>"
   ]
  },
  {
   "cell_type": "markdown",
   "metadata": {},
   "source": [
    "testons pour le Random Forest avec 50 classifieurs"
   ]
  },
  {
   "cell_type": "code",
   "execution_count": 114,
   "metadata": {},
   "outputs": [],
   "source": [
    "clf_RF = RandomForestClassifier(n_estimators = 50, max_depth=5, random_state=0)\n",
    "clf_RF.fit(X_train,y_train)\n",
    "y_pred_RF=clf_RF.predict(X_test)\n",
    "criteria_RF=accuracy_recall_precison(y_test, y_pred_RF)\n",
    "df_score['RandomForest-50']=criteria_RF"
   ]
  },
  {
   "cell_type": "code",
   "execution_count": 115,
   "metadata": {},
   "outputs": [
    {
     "name": "stdout",
     "output_type": "stream",
     "text": [
      "la rappel est de 95.08%\n",
      "la précision est de 79.22%\n",
      "l'accuracy est de 78.38%\n"
     ]
    }
   ],
   "source": [
    "print(f\"la rappel est de {criteria_RF[0]:.2%}\")\n",
    "print(f\"la précision est de {criteria_RF[1]:.2%}\")\n",
    "print(f\"l'accuracy est de {criteria_RF[2]:.2%}\")"
   ]
  },
  {
   "cell_type": "markdown",
   "metadata": {},
   "source": [
    "testons pour le Random Forest avec 25 classifieurs"
   ]
  },
  {
   "cell_type": "code",
   "execution_count": 116,
   "metadata": {},
   "outputs": [],
   "source": [
    "clf_RF = RandomForestClassifier(n_estimators = 25, max_depth=5, random_state=0)\n",
    "clf_RF.fit(X_train,y_train)\n",
    "y_pred_RF=clf_RF.predict(X_test)\n",
    "criteria_RF=accuracy_recall_precison(y_test, y_pred_RF)\n",
    "df_score['RandomForest-25']=criteria_RF"
   ]
  },
  {
   "cell_type": "code",
   "execution_count": 117,
   "metadata": {},
   "outputs": [
    {
     "name": "stdout",
     "output_type": "stream",
     "text": [
      "la rappel est de 94.70%\n",
      "la précision est de 79.20%\n",
      "l'accuracy est de 78.15%\n"
     ]
    }
   ],
   "source": [
    "print(f\"la rappel est de {criteria_RF[0]:.2%}\")\n",
    "print(f\"la précision est de {criteria_RF[1]:.2%}\")\n",
    "print(f\"l'accuracy est de {criteria_RF[2]:.2%}\")"
   ]
  },
  {
   "cell_type": "markdown",
   "metadata": {},
   "source": [
    "testons pour le Random Forest avec 100 classifieurs"
   ]
  },
  {
   "cell_type": "code",
   "execution_count": 118,
   "metadata": {},
   "outputs": [],
   "source": [
    "clf_RF = RandomForestClassifier(n_estimators = 100, max_depth=5, random_state=0)\n",
    "clf_RF.fit(X_train,y_train)\n",
    "y_pred_RF=clf_RF.predict(X_test)\n",
    "criteria_RF=accuracy_recall_precison(y_test, y_pred_RF)\n",
    "df_score['RandomForest-100']=criteria_RF"
   ]
  },
  {
   "cell_type": "code",
   "execution_count": 119,
   "metadata": {},
   "outputs": [
    {
     "name": "stdout",
     "output_type": "stream",
     "text": [
      "la rappel est de 95.71%\n",
      "la précision est de 79.08%\n",
      "l'accuracy est de 78.56%\n"
     ]
    }
   ],
   "source": [
    "print(f\"la rappel est de {criteria_RF[0]:.2%}\")\n",
    "print(f\"la précision est de {criteria_RF[1]:.2%}\")\n",
    "print(f\"l'accuracy est de {criteria_RF[2]:.2%}\")"
   ]
  },
  {
   "cell_type": "markdown",
   "metadata": {},
   "source": [
    "#### I.8.10 Analyse naîves des résultats : <a class=\"anchor\" id=\"Partie1.8.10\"></a>"
   ]
  },
  {
   "cell_type": "markdown",
   "metadata": {},
   "source": [
    "Dans un premier temps on pourra analyser les résultats via une heatmap montrant la performance de tous les algorithmes. On peut noter les points suivant avant de passer à la suite:\n",
    "\n",
    "    - Les random forest donnent le meilleur rappel avec l'arbre stump\n",
    "    - En retirant les Randoms forest et l'arbre stump la precison de tous les algorithmes est homogènes entre 0.81 et 0.84\n",
    "    - En retirant les les arbres de décsion l'accuracy de tous les algorithmes est homogènes entre 0.76 et 0.79"
   ]
  },
  {
   "cell_type": "code",
   "execution_count": 120,
   "metadata": {},
   "outputs": [
    {
     "data": {
      "image/png": "[encoded data removed]",
      "text/plain": [
       "<Figure size 1080x216 with 2 Axes>"
      ]
     },
     "metadata": {
      "needs_background": "light"
     },
     "output_type": "display_data"
    }
   ],
   "source": [
    "plt.figure(figsize=[15,3])\n",
    "plt.title(\"Heat map des performances de chaque algorithme \")\n",
    "sns.heatmap(df_score, cmap='Blues', linewidths=0.5, annot=True)\n",
    "plt.show()"
   ]
  },
  {
   "cell_type": "markdown",
   "metadata": {},
   "source": [
    "#### I.8.11 Analyse des résultats via validation croisée : <a class=\"anchor\" id=\"Partie1.8.11\"></a>"
   ]
  },
  {
   "cell_type": "code",
   "execution_count": 121,
   "metadata": {},
   "outputs": [],
   "source": [
    "df_score = pd.DataFrame(index = ['Temps exec', 'Accuracy', 'Precision', 'AUC'], columns = [])"
   ]
  },
  {
   "cell_type": "code",
   "execution_count": 122,
   "metadata": {},
   "outputs": [],
   "source": [
    "clfs = {\n",
    "    'NaiveBayes' : GaussianNB(),\n",
    "    'CART' : tree.DecisionTreeClassifier(criterion = 'gini',random_state=1, max_depth=5),\n",
    "    'ID3' : tree.DecisionTreeClassifier(criterion = 'entropy',random_state=1, max_depth=5),\n",
    "    'Stump' : tree.DecisionTreeClassifier(criterion = 'gini',random_state=1, max_depth=1),\n",
    "    'MLP' : MLPClassifier(hidden_layer_sizes=(10, 20), random_state=1),\n",
    "    'KNN': KNeighborsClassifier(n_neighbors=10),\n",
    "    'Bagging' : BaggingClassifier(n_estimators=50, random_state=0),\n",
    "    'Adaboost' : AdaBoostClassifier(n_estimators=50, random_state=0),\n",
    "    'RF' : RandomForestClassifier(n_estimators = 10, max_depth=10, random_state=0),\n",
    "}\n",
    "\n",
    "def run_classifiers(clfs,X,y):\n",
    "\n",
    "    kf = KFold(n_splits=10, shuffle=True, random_state=0) \n",
    "    \n",
    "    for i in clfs:\n",
    "        \n",
    "        print('----------')\n",
    "        print('classifier :', i)\n",
    "        clf = clfs[i]\n",
    "        \n",
    "        t_start = time.time()\n",
    "        cv_acc = cross_val_score(clf, X, y, cv=kf)\n",
    "        t_end = time.time()\n",
    "        print(f\"Temps d'exécution : {round(t_end-t_start)}s\") \n",
    "        print(f\"Accuracy : {np.mean(cv_acc):.2%} +/- {np.std(cv_acc):.2%}\") \n",
    "        \n",
    "        cv_AUC = cross_val_score(clf, X, y, scoring = 'roc_auc', cv=kf)\n",
    "        print(f\"AUC : {np.mean(cv_AUC):.2%} +/- {np.std(cv_AUC):.2%}\") \n",
    "        \n",
    "        cv_prec = cross_val_score(clf, X, y, scoring = 'precision', cv=kf)\n",
    "        print(f\"Precision : {np.mean(cv_prec):.2%} +/- {np.std(cv_prec):.2%}\") \n",
    "        \n",
    "        df_score[i]=[round(t_end-t_start),np.mean(cv_acc),np.mean(cv_prec),np.mean(cv_AUC)]"
   ]
  },
  {
   "cell_type": "code",
   "execution_count": 123,
   "metadata": {},
   "outputs": [
    {
     "name": "stdout",
     "output_type": "stream",
     "text": [
      "----------\n",
      "classifier : NaiveBayes\n",
      "Temps d'exécution : 0s\n",
      "Accuracy : 76.78% +/- 1.89%\n",
      "AUC : 79.51% +/- 2.51%\n",
      "Precision : 84.14% +/- 1.57%\n",
      "----------\n",
      "classifier : CART\n",
      "Temps d'exécution : 0s\n",
      "Accuracy : 77.37% +/- 1.23%\n",
      "AUC : 77.50% +/- 2.09%\n",
      "Precision : 80.34% +/- 1.94%\n",
      "----------\n",
      "classifier : ID3\n",
      "Temps d'exécution : 0s\n",
      "Accuracy : 77.30% +/- 1.54%\n",
      "AUC : 77.41% +/- 2.37%\n",
      "Precision : 80.59% +/- 2.12%\n",
      "----------\n",
      "classifier : Stump\n",
      "Temps d'exécution : 0s\n",
      "Accuracy : 72.21% +/- 1.84%\n",
      "AUC : 61.81% +/- 2.83%\n",
      "Precision : 74.00% +/- 2.58%\n",
      "----------\n",
      "classifier : MLP\n",
      "Temps d'exécution : 53s\n",
      "Accuracy : 79.06% +/- 1.53%\n",
      "AUC : 83.44% +/- 1.55%\n",
      "Precision : 83.29% +/- 1.24%\n",
      "----------\n",
      "classifier : KNN\n",
      "Temps d'exécution : 1s\n",
      "Accuracy : 76.43% +/- 1.94%\n",
      "AUC : 78.78% +/- 2.45%\n",
      "Precision : 82.23% +/- 1.95%\n",
      "----------\n",
      "classifier : Bagging\n",
      "Temps d'exécution : 9s\n",
      "Accuracy : 77.83% +/- 1.29%\n",
      "AUC : 81.44% +/- 2.13%\n",
      "Precision : 82.70% +/- 1.13%\n",
      "----------\n",
      "classifier : Adaboost\n",
      "Temps d'exécution : 2s\n",
      "Accuracy : 78.81% +/- 1.56%\n",
      "AUC : 82.93% +/- 2.12%\n",
      "Precision : 82.25% +/- 1.75%\n",
      "----------\n",
      "classifier : RF\n",
      "Temps d'exécution : 1s\n",
      "Accuracy : 77.92% +/- 1.81%\n",
      "AUC : 80.95% +/- 2.24%\n",
      "Precision : 81.27% +/- 2.07%\n"
     ]
    }
   ],
   "source": [
    "run_classifiers(clfs,X_scaled,y)"
   ]
  },
  {
   "cell_type": "code",
   "execution_count": 124,
   "metadata": {},
   "outputs": [
    {
     "data": {
      "image/png": "[encoded data removed]",
      "text/plain": [
       "<Figure size 1080x72 with 2 Axes>"
      ]
     },
     "metadata": {
      "needs_background": "light"
     },
     "output_type": "display_data"
    }
   ],
   "source": [
    "plt.figure(figsize=[15,1])\n",
    "plt.title(\"Heat map des performances de temps d'execution de chaque algorithme \")\n",
    "sns.heatmap(df_score.iloc[:1,:], cmap='Blues', linewidths=0.5, annot=True)\n",
    "plt.show()"
   ]
  },
  {
   "cell_type": "code",
   "execution_count": 125,
   "metadata": {},
   "outputs": [
    {
     "data": {
      "image/png": "[encoded data removed]",
      "text/plain": [
       "<Figure size 1080x216 with 2 Axes>"
      ]
     },
     "metadata": {
      "needs_background": "light"
     },
     "output_type": "display_data"
    }
   ],
   "source": [
    "plt.figure(figsize=[15,3])\n",
    "plt.title(\"Heat map des performances de chaque algorithme \")\n",
    "sns.heatmap(df_score.iloc[1:,:], cmap='Blues', linewidths=0.5, annot=True)\n",
    "plt.show()"
   ]
  },
  {
   "cell_type": "markdown",
   "metadata": {},
   "source": [
    "Cette étude plus exhaustive sur les performances des algorithmes en prenant en compte les temps d'execution permet d'effectuer un meilleur choix et compromis sur l'algorithme à utiliser, on peut noter ces différents points:\n",
    " - Les solutions se basant sur un simple classifieur: Naives Bayes, Abres de décision, KNN sont au global des critères moins performants que les algorithmes ensemblistes (bagging, boosting, Random forest) et le réseau de neurones mais ils sont beaucoup plus rapides (moins d'une seconde de temps d'execution)\n",
    " - Le réseau de neurones est le plus performant mais le plus lent (39 secondes soit presque 6 fois plus lent que le 2eme plus lent) \n",
    " - La méthode se basant sur l'algorithme Adaboost semble être celle avec le meilleur compromis performances VS temps d'execution avec une performance quasi similaire au réseau de neurones mais un temps d'execution presque 20x plus rapide avec seulement 2 secondes"
   ]
  },
  {
   "cell_type": "markdown",
   "metadata": {},
   "source": [
    "## II. Apprentissage supervisé : Données hétérogènes: <a class=\"anchor\" id=\"Partie2\"></a>"
   ]
  },
  {
   "cell_type": "markdown",
   "metadata": {},
   "source": [
    "### II.1. Traitement des données existantes : <a class=\"anchor\" id=\"Partie2.1\"></a>"
   ]
  },
  {
   "cell_type": "markdown",
   "metadata": {},
   "source": [
    "#### II.1.1 Chargement des données et préparation : <a class=\"anchor\" id=\"Partie2.1.1\"></a>"
   ]
  },
  {
   "cell_type": "code",
   "execution_count": 126,
   "metadata": {},
   "outputs": [],
   "source": [
    "data = pd.read_csv(path+'credit.data', sep='\\t', header=None)\n",
    "data[1] = pd.to_numeric(data[1], errors = 'coerce') #converti les valeurs num manquantes dans data par NaN\n",
    "data[13] = pd.to_numeric(data[13], errors = 'coerce')\n",
    "data[15]=np.where(data[15]=='+',1,0)"
   ]
  },
  {
   "cell_type": "code",
   "execution_count": 127,
   "metadata": {},
   "outputs": [
    {
     "data": {
      "text/html": [
       "<div>\n",
       "<style scoped>\n",
       "    .dataframe tbody tr th:only-of-type {\n",
       "        vertical-align: middle;\n",
       "    }\n",
       "\n",
       "    .dataframe tbody tr th {\n",
       "        vertical-align: top;\n",
       "    }\n",
       "\n",
       "    .dataframe thead th {\n",
       "        text-align: right;\n",
       "    }\n",
       "</style>\n",
       "<table border=\"1\" class=\"dataframe\">\n",
       "  <thead>\n",
       "    <tr style=\"text-align: right;\">\n",
       "      <th></th>\n",
       "      <th>0</th>\n",
       "      <th>1</th>\n",
       "      <th>2</th>\n",
       "      <th>3</th>\n",
       "      <th>4</th>\n",
       "      <th>5</th>\n",
       "      <th>6</th>\n",
       "      <th>7</th>\n",
       "      <th>8</th>\n",
       "      <th>9</th>\n",
       "      <th>10</th>\n",
       "      <th>11</th>\n",
       "      <th>12</th>\n",
       "      <th>13</th>\n",
       "      <th>14</th>\n",
       "      <th>15</th>\n",
       "    </tr>\n",
       "  </thead>\n",
       "  <tbody>\n",
       "    <tr>\n",
       "      <th>0</th>\n",
       "      <td>b</td>\n",
       "      <td>30.83</td>\n",
       "      <td>0.000</td>\n",
       "      <td>u</td>\n",
       "      <td>g</td>\n",
       "      <td>w</td>\n",
       "      <td>v</td>\n",
       "      <td>1.250</td>\n",
       "      <td>t</td>\n",
       "      <td>t</td>\n",
       "      <td>1</td>\n",
       "      <td>f</td>\n",
       "      <td>g</td>\n",
       "      <td>202.0</td>\n",
       "      <td>0</td>\n",
       "      <td>1</td>\n",
       "    </tr>\n",
       "    <tr>\n",
       "      <th>1</th>\n",
       "      <td>a</td>\n",
       "      <td>58.67</td>\n",
       "      <td>4.460</td>\n",
       "      <td>u</td>\n",
       "      <td>g</td>\n",
       "      <td>q</td>\n",
       "      <td>h</td>\n",
       "      <td>3.040</td>\n",
       "      <td>t</td>\n",
       "      <td>t</td>\n",
       "      <td>6</td>\n",
       "      <td>f</td>\n",
       "      <td>g</td>\n",
       "      <td>43.0</td>\n",
       "      <td>560</td>\n",
       "      <td>1</td>\n",
       "    </tr>\n",
       "    <tr>\n",
       "      <th>2</th>\n",
       "      <td>a</td>\n",
       "      <td>24.50</td>\n",
       "      <td>0.500</td>\n",
       "      <td>u</td>\n",
       "      <td>g</td>\n",
       "      <td>q</td>\n",
       "      <td>h</td>\n",
       "      <td>1.500</td>\n",
       "      <td>t</td>\n",
       "      <td>f</td>\n",
       "      <td>0</td>\n",
       "      <td>f</td>\n",
       "      <td>g</td>\n",
       "      <td>280.0</td>\n",
       "      <td>824</td>\n",
       "      <td>1</td>\n",
       "    </tr>\n",
       "    <tr>\n",
       "      <th>3</th>\n",
       "      <td>b</td>\n",
       "      <td>27.83</td>\n",
       "      <td>1.540</td>\n",
       "      <td>u</td>\n",
       "      <td>g</td>\n",
       "      <td>w</td>\n",
       "      <td>v</td>\n",
       "      <td>3.750</td>\n",
       "      <td>t</td>\n",
       "      <td>t</td>\n",
       "      <td>5</td>\n",
       "      <td>t</td>\n",
       "      <td>g</td>\n",
       "      <td>100.0</td>\n",
       "      <td>3</td>\n",
       "      <td>1</td>\n",
       "    </tr>\n",
       "    <tr>\n",
       "      <th>4</th>\n",
       "      <td>b</td>\n",
       "      <td>20.17</td>\n",
       "      <td>5.625</td>\n",
       "      <td>u</td>\n",
       "      <td>g</td>\n",
       "      <td>w</td>\n",
       "      <td>v</td>\n",
       "      <td>1.710</td>\n",
       "      <td>t</td>\n",
       "      <td>f</td>\n",
       "      <td>0</td>\n",
       "      <td>f</td>\n",
       "      <td>s</td>\n",
       "      <td>120.0</td>\n",
       "      <td>0</td>\n",
       "      <td>1</td>\n",
       "    </tr>\n",
       "    <tr>\n",
       "      <th>...</th>\n",
       "      <td>...</td>\n",
       "      <td>...</td>\n",
       "      <td>...</td>\n",
       "      <td>...</td>\n",
       "      <td>...</td>\n",
       "      <td>...</td>\n",
       "      <td>...</td>\n",
       "      <td>...</td>\n",
       "      <td>...</td>\n",
       "      <td>...</td>\n",
       "      <td>...</td>\n",
       "      <td>...</td>\n",
       "      <td>...</td>\n",
       "      <td>...</td>\n",
       "      <td>...</td>\n",
       "      <td>...</td>\n",
       "    </tr>\n",
       "    <tr>\n",
       "      <th>95</th>\n",
       "      <td>a</td>\n",
       "      <td>28.58</td>\n",
       "      <td>3.540</td>\n",
       "      <td>u</td>\n",
       "      <td>g</td>\n",
       "      <td>i</td>\n",
       "      <td>bb</td>\n",
       "      <td>0.500</td>\n",
       "      <td>t</td>\n",
       "      <td>f</td>\n",
       "      <td>0</td>\n",
       "      <td>t</td>\n",
       "      <td>g</td>\n",
       "      <td>171.0</td>\n",
       "      <td>0</td>\n",
       "      <td>0</td>\n",
       "    </tr>\n",
       "    <tr>\n",
       "      <th>96</th>\n",
       "      <td>b</td>\n",
       "      <td>23.00</td>\n",
       "      <td>0.625</td>\n",
       "      <td>y</td>\n",
       "      <td>p</td>\n",
       "      <td>aa</td>\n",
       "      <td>v</td>\n",
       "      <td>0.125</td>\n",
       "      <td>t</td>\n",
       "      <td>f</td>\n",
       "      <td>0</td>\n",
       "      <td>f</td>\n",
       "      <td>g</td>\n",
       "      <td>180.0</td>\n",
       "      <td>1</td>\n",
       "      <td>0</td>\n",
       "    </tr>\n",
       "    <tr>\n",
       "      <th>97</th>\n",
       "      <td>b</td>\n",
       "      <td>NaN</td>\n",
       "      <td>0.500</td>\n",
       "      <td>u</td>\n",
       "      <td>g</td>\n",
       "      <td>c</td>\n",
       "      <td>bb</td>\n",
       "      <td>0.835</td>\n",
       "      <td>t</td>\n",
       "      <td>f</td>\n",
       "      <td>0</td>\n",
       "      <td>t</td>\n",
       "      <td>s</td>\n",
       "      <td>320.0</td>\n",
       "      <td>0</td>\n",
       "      <td>0</td>\n",
       "    </tr>\n",
       "    <tr>\n",
       "      <th>98</th>\n",
       "      <td>a</td>\n",
       "      <td>22.50</td>\n",
       "      <td>11.000</td>\n",
       "      <td>y</td>\n",
       "      <td>p</td>\n",
       "      <td>q</td>\n",
       "      <td>v</td>\n",
       "      <td>3.000</td>\n",
       "      <td>t</td>\n",
       "      <td>f</td>\n",
       "      <td>0</td>\n",
       "      <td>t</td>\n",
       "      <td>g</td>\n",
       "      <td>268.0</td>\n",
       "      <td>0</td>\n",
       "      <td>0</td>\n",
       "    </tr>\n",
       "    <tr>\n",
       "      <th>99</th>\n",
       "      <td>a</td>\n",
       "      <td>28.50</td>\n",
       "      <td>1.000</td>\n",
       "      <td>u</td>\n",
       "      <td>g</td>\n",
       "      <td>q</td>\n",
       "      <td>v</td>\n",
       "      <td>1.000</td>\n",
       "      <td>t</td>\n",
       "      <td>t</td>\n",
       "      <td>2</td>\n",
       "      <td>t</td>\n",
       "      <td>g</td>\n",
       "      <td>167.0</td>\n",
       "      <td>500</td>\n",
       "      <td>0</td>\n",
       "    </tr>\n",
       "  </tbody>\n",
       "</table>\n",
       "<p>100 rows × 16 columns</p>\n",
       "</div>"
      ],
      "text/plain": [
       "   0      1       2  3  4   5   6      7  8  9   10 11 12     13   14  15\n",
       "0   b  30.83   0.000  u  g   w   v  1.250  t  t   1  f  g  202.0    0   1\n",
       "1   a  58.67   4.460  u  g   q   h  3.040  t  t   6  f  g   43.0  560   1\n",
       "2   a  24.50   0.500  u  g   q   h  1.500  t  f   0  f  g  280.0  824   1\n",
       "3   b  27.83   1.540  u  g   w   v  3.750  t  t   5  t  g  100.0    3   1\n",
       "4   b  20.17   5.625  u  g   w   v  1.710  t  f   0  f  s  120.0    0   1\n",
       ".. ..    ...     ... .. ..  ..  ..    ... .. ..  .. .. ..    ...  ...  ..\n",
       "95  a  28.58   3.540  u  g   i  bb  0.500  t  f   0  t  g  171.0    0   0\n",
       "96  b  23.00   0.625  y  p  aa   v  0.125  t  f   0  f  g  180.0    1   0\n",
       "97  b    NaN   0.500  u  g   c  bb  0.835  t  f   0  t  s  320.0    0   0\n",
       "98  a  22.50  11.000  y  p   q   v  3.000  t  f   0  t  g  268.0    0   0\n",
       "99  a  28.50   1.000  u  g   q   v  1.000  t  t   2  t  g  167.0  500   0\n",
       "\n",
       "[100 rows x 16 columns]"
      ]
     },
     "execution_count": 127,
     "metadata": {},
     "output_type": "execute_result"
    }
   ],
   "source": [
    "data.head(100)"
   ]
  },
  {
   "cell_type": "code",
   "execution_count": 128,
   "metadata": {},
   "outputs": [
    {
     "name": "stdout",
     "output_type": "stream",
     "text": [
      "<class 'pandas.core.frame.DataFrame'>\n",
      "RangeIndex: 688 entries, 0 to 687\n",
      "Data columns (total 16 columns):\n",
      " #   Column  Non-Null Count  Dtype  \n",
      "---  ------  --------------  -----  \n",
      " 0   0       688 non-null    object \n",
      " 1   1       676 non-null    float64\n",
      " 2   2       688 non-null    float64\n",
      " 3   3       688 non-null    object \n",
      " 4   4       688 non-null    object \n",
      " 5   5       688 non-null    object \n",
      " 6   6       688 non-null    object \n",
      " 7   7       688 non-null    float64\n",
      " 8   8       688 non-null    object \n",
      " 9   9       688 non-null    object \n",
      " 10  10      688 non-null    int64  \n",
      " 11  11      688 non-null    object \n",
      " 12  12      688 non-null    object \n",
      " 13  13      677 non-null    float64\n",
      " 14  14      688 non-null    int64  \n",
      " 15  15      688 non-null    int32  \n",
      "dtypes: float64(4), int32(1), int64(2), object(9)\n",
      "memory usage: 83.4+ KB\n"
     ]
    }
   ],
   "source": [
    "data.info()"
   ]
  },
  {
   "cell_type": "code",
   "execution_count": 129,
   "metadata": {},
   "outputs": [],
   "source": [
    "# on drop toutes les lignes qui contiennent au moins un \"nan\" dans le set de base\n",
    "data_dropna=data.copy().dropna()"
   ]
  },
  {
   "cell_type": "code",
   "execution_count": 130,
   "metadata": {},
   "outputs": [],
   "source": [
    "# on constitue data_num le df qui ne contient que les colomnes numériques\n",
    "\n",
    "data_num = data_dropna.copy()\n",
    "col_idx = [1, 2, 7, 10, 13, 14]\n",
    "data_num = data_num[col_idx]\n",
    "data_num = data_num.astype(float)"
   ]
  },
  {
   "cell_type": "code",
   "execution_count": 131,
   "metadata": {},
   "outputs": [
    {
     "data": {
      "text/html": [
       "<div>\n",
       "<style scoped>\n",
       "    .dataframe tbody tr th:only-of-type {\n",
       "        vertical-align: middle;\n",
       "    }\n",
       "\n",
       "    .dataframe tbody tr th {\n",
       "        vertical-align: top;\n",
       "    }\n",
       "\n",
       "    .dataframe thead th {\n",
       "        text-align: right;\n",
       "    }\n",
       "</style>\n",
       "<table border=\"1\" class=\"dataframe\">\n",
       "  <thead>\n",
       "    <tr style=\"text-align: right;\">\n",
       "      <th></th>\n",
       "      <th>1</th>\n",
       "      <th>2</th>\n",
       "      <th>7</th>\n",
       "      <th>10</th>\n",
       "      <th>13</th>\n",
       "      <th>14</th>\n",
       "    </tr>\n",
       "  </thead>\n",
       "  <tbody>\n",
       "    <tr>\n",
       "      <th>0</th>\n",
       "      <td>30.83</td>\n",
       "      <td>0.000</td>\n",
       "      <td>1.25</td>\n",
       "      <td>1.0</td>\n",
       "      <td>202.0</td>\n",
       "      <td>0.0</td>\n",
       "    </tr>\n",
       "    <tr>\n",
       "      <th>1</th>\n",
       "      <td>58.67</td>\n",
       "      <td>4.460</td>\n",
       "      <td>3.04</td>\n",
       "      <td>6.0</td>\n",
       "      <td>43.0</td>\n",
       "      <td>560.0</td>\n",
       "    </tr>\n",
       "    <tr>\n",
       "      <th>2</th>\n",
       "      <td>24.50</td>\n",
       "      <td>0.500</td>\n",
       "      <td>1.50</td>\n",
       "      <td>0.0</td>\n",
       "      <td>280.0</td>\n",
       "      <td>824.0</td>\n",
       "    </tr>\n",
       "    <tr>\n",
       "      <th>3</th>\n",
       "      <td>27.83</td>\n",
       "      <td>1.540</td>\n",
       "      <td>3.75</td>\n",
       "      <td>5.0</td>\n",
       "      <td>100.0</td>\n",
       "      <td>3.0</td>\n",
       "    </tr>\n",
       "    <tr>\n",
       "      <th>4</th>\n",
       "      <td>20.17</td>\n",
       "      <td>5.625</td>\n",
       "      <td>1.71</td>\n",
       "      <td>0.0</td>\n",
       "      <td>120.0</td>\n",
       "      <td>0.0</td>\n",
       "    </tr>\n",
       "  </tbody>\n",
       "</table>\n",
       "</div>"
      ],
      "text/plain": [
       "      1      2     7    10     13     14\n",
       "0  30.83  0.000  1.25  1.0  202.0    0.0\n",
       "1  58.67  4.460  3.04  6.0   43.0  560.0\n",
       "2  24.50  0.500  1.50  0.0  280.0  824.0\n",
       "3  27.83  1.540  3.75  5.0  100.0    3.0\n",
       "4  20.17  5.625  1.71  0.0  120.0    0.0"
      ]
     },
     "execution_count": 131,
     "metadata": {},
     "output_type": "execute_result"
    }
   ],
   "source": [
    "data_num.head()"
   ]
  },
  {
   "cell_type": "code",
   "execution_count": 132,
   "metadata": {},
   "outputs": [],
   "source": [
    "X = data_num.iloc[:, 0:].values\n",
    "y = data_dropna.iloc[:, 15].values"
   ]
  },
  {
   "cell_type": "code",
   "execution_count": 133,
   "metadata": {},
   "outputs": [
    {
     "name": "stdout",
     "output_type": "stream",
     "text": [
      "il y a  666  lignes\n",
      "il y a  6  colonnes (features)\n",
      "il y a  305  exemples positifs\n",
      "il y a  383  exemples négatifs\n"
     ]
    }
   ],
   "source": [
    "print(\"il y a \",np.shape(X)[0],\" lignes\")\n",
    "print(\"il y a \",np.shape(X)[1],\" colonnes (features)\")\n",
    "print(\"il y a \",len(data[data[15]==1]),\" exemples positifs\")\n",
    "print(\"il y a \",len(data[data[15]==0]),\" exemples négatifs\")"
   ]
  },
  {
   "cell_type": "code",
   "execution_count": 134,
   "metadata": {},
   "outputs": [
    {
     "data": {
      "image/png": "[encoded data removed]",
      "text/plain": [
       "<Figure size 432x288 with 1 Axes>"
      ]
     },
     "metadata": {
      "needs_background": "light"
     },
     "output_type": "display_data"
    }
   ],
   "source": [
    "hist = data.hist(column=15)"
   ]
  },
  {
   "cell_type": "markdown",
   "metadata": {},
   "source": [
    "#### II.1.2 Normalisation des variables continues : <a class=\"anchor\" id=\"Partie2.1.2\"></a>"
   ]
  },
  {
   "cell_type": "code",
   "execution_count": 135,
   "metadata": {},
   "outputs": [],
   "source": [
    "std_scale = preprocessing.StandardScaler().fit(X)\n",
    "minmax_scale = preprocessing.MinMaxScaler().fit(X)\n",
    "X_scaled_standar = std_scale.transform(X)\n",
    "X_scaled_minmax = minmax_scale.transform(X)"
   ]
  },
  {
   "cell_type": "markdown",
   "metadata": {},
   "source": [
    "#### II.1.3 Execution des classifieurs pour le set numérique avec Standardscaler : <a class=\"anchor\" id=\"Partie2.1.3\"></a>"
   ]
  },
  {
   "cell_type": "code",
   "execution_count": 136,
   "metadata": {
    "scrolled": false
   },
   "outputs": [
    {
     "name": "stdout",
     "output_type": "stream",
     "text": [
      "----------\n",
      "classifier : NaiveBayes\n",
      "Temps d'exécution : 0s\n",
      "Accuracy : 71.61% +/- 4.96%\n",
      "AUC : 79.32% +/- 5.79%\n",
      "Precision : 83.22% +/- 5.15%\n",
      "----------\n",
      "classifier : CART\n",
      "Temps d'exécution : 0s\n",
      "Accuracy : 75.98% +/- 5.47%\n",
      "AUC : 78.55% +/- 5.19%\n",
      "Precision : 80.40% +/- 6.44%\n",
      "----------\n",
      "classifier : ID3\n",
      "Temps d'exécution : 0s\n",
      "Accuracy : 75.08% +/- 5.94%\n",
      "AUC : 76.61% +/- 7.33%\n",
      "Precision : 78.02% +/- 6.39%\n",
      "----------\n",
      "classifier : Stump\n",
      "Temps d'exécution : 0s\n",
      "Accuracy : 74.33% +/- 6.36%\n",
      "AUC : 72.28% +/- 5.19%\n",
      "Precision : 86.45% +/- 7.65%\n",
      "----------\n",
      "classifier : MLP\n",
      "Temps d'exécution : 7s\n",
      "Accuracy : 78.67% +/- 5.00%\n",
      "AUC : 83.53% +/- 3.89%\n",
      "Precision : 83.04% +/- 5.48%\n",
      "----------\n",
      "classifier : KNN\n",
      "Temps d'exécution : 0s\n",
      "Accuracy : 73.72% +/- 5.57%\n",
      "AUC : 81.85% +/- 4.62%\n",
      "Precision : 82.23% +/- 5.22%\n",
      "----------\n",
      "classifier : Bagging\n",
      "Temps d'exécution : 2s\n",
      "Accuracy : 78.54% +/- 5.39%\n",
      "AUC : 83.88% +/- 4.88%\n",
      "Precision : 79.96% +/- 6.05%\n",
      "----------\n",
      "classifier : Adaboost\n",
      "Temps d'exécution : 1s\n",
      "Accuracy : 77.04% +/- 6.28%\n",
      "AUC : 84.08% +/- 5.28%\n",
      "Precision : 76.11% +/- 6.04%\n",
      "----------\n",
      "classifier : RF\n",
      "Temps d'exécution : 0s\n",
      "Accuracy : 76.73% +/- 5.76%\n",
      "AUC : 82.33% +/- 5.06%\n",
      "Precision : 77.63% +/- 5.12%\n"
     ]
    }
   ],
   "source": [
    "run_classifiers(clfs,X_scaled_standar,y)"
   ]
  },
  {
   "cell_type": "code",
   "execution_count": 137,
   "metadata": {},
   "outputs": [
    {
     "data": {
      "image/png": "[encoded data removed]",
      "text/plain": [
       "<Figure size 1080x72 with 2 Axes>"
      ]
     },
     "metadata": {
      "needs_background": "light"
     },
     "output_type": "display_data"
    }
   ],
   "source": [
    "plt.figure(figsize=[15,1])\n",
    "plt.title(\"Heat map des performances de temps d'execution de chaque algorithme \")\n",
    "sns.heatmap(df_score.iloc[:1,:], cmap='Blues', linewidths=0.5, annot=True)\n",
    "plt.show()"
   ]
  },
  {
   "cell_type": "code",
   "execution_count": 138,
   "metadata": {},
   "outputs": [
    {
     "data": {
      "image/png": "[encoded data removed]",
      "text/plain": [
       "<Figure size 1080x216 with 2 Axes>"
      ]
     },
     "metadata": {
      "needs_background": "light"
     },
     "output_type": "display_data"
    }
   ],
   "source": [
    "plt.figure(figsize=[15,3])\n",
    "plt.title(\"Heat map des performances de chaque algorithme \")\n",
    "sns.heatmap(df_score.iloc[1:,:], cmap='Blues', linewidths=0.5, annot=True)\n",
    "plt.show()"
   ]
  },
  {
   "cell_type": "markdown",
   "metadata": {},
   "source": [
    "#### II.1.4 Execution des classifieurs pour le set numérique avec MinMaxscaler : <a class=\"anchor\" id=\"Partie2.1.4\"></a>"
   ]
  },
  {
   "cell_type": "code",
   "execution_count": 139,
   "metadata": {
    "scrolled": false
   },
   "outputs": [
    {
     "name": "stdout",
     "output_type": "stream",
     "text": [
      "----------\n",
      "classifier : NaiveBayes\n",
      "Temps d'exécution : 0s\n",
      "Accuracy : 71.61% +/- 4.96%\n",
      "AUC : 79.31% +/- 5.79%\n",
      "Precision : 83.22% +/- 5.15%\n",
      "----------\n",
      "classifier : CART\n",
      "Temps d'exécution : 0s\n",
      "Accuracy : 75.98% +/- 5.47%\n",
      "AUC : 78.55% +/- 5.19%\n",
      "Precision : 80.40% +/- 6.44%\n",
      "----------\n",
      "classifier : ID3\n",
      "Temps d'exécution : 0s\n",
      "Accuracy : 75.08% +/- 5.94%\n",
      "AUC : 76.62% +/- 7.34%\n",
      "Precision : 78.02% +/- 6.39%\n",
      "----------\n",
      "classifier : Stump\n",
      "Temps d'exécution : 0s\n",
      "Accuracy : 74.33% +/- 6.36%\n",
      "AUC : 72.28% +/- 5.19%\n",
      "Precision : 86.45% +/- 7.65%\n",
      "----------\n",
      "classifier : MLP\n",
      "Temps d'exécution : 7s\n",
      "Accuracy : 76.72% +/- 5.12%\n",
      "AUC : 82.69% +/- 5.35%\n",
      "Precision : 82.17% +/- 8.00%\n",
      "----------\n",
      "classifier : KNN\n",
      "Temps d'exécution : 0s\n",
      "Accuracy : 72.83% +/- 7.00%\n",
      "AUC : 79.91% +/- 7.29%\n",
      "Precision : 82.27% +/- 8.18%\n",
      "----------\n",
      "classifier : Bagging\n",
      "Temps d'exécution : 2s\n",
      "Accuracy : 78.39% +/- 5.51%\n",
      "AUC : 83.87% +/- 4.91%\n",
      "Precision : 79.68% +/- 6.00%\n",
      "----------\n",
      "classifier : Adaboost\n",
      "Temps d'exécution : 1s\n",
      "Accuracy : 77.04% +/- 6.28%\n",
      "AUC : 84.08% +/- 5.28%\n",
      "Precision : 76.11% +/- 6.04%\n",
      "----------\n",
      "classifier : RF\n",
      "Temps d'exécution : 0s\n",
      "Accuracy : 76.87% +/- 5.60%\n",
      "AUC : 82.29% +/- 4.94%\n",
      "Precision : 77.95% +/- 4.58%\n"
     ]
    }
   ],
   "source": [
    "run_classifiers(clfs,X_scaled_minmax,y)"
   ]
  },
  {
   "cell_type": "code",
   "execution_count": 140,
   "metadata": {},
   "outputs": [
    {
     "data": {
      "image/png": "[encoded data removed]",
      "text/plain": [
       "<Figure size 1080x72 with 2 Axes>"
      ]
     },
     "metadata": {
      "needs_background": "light"
     },
     "output_type": "display_data"
    }
   ],
   "source": [
    "plt.figure(figsize=[15,1])\n",
    "plt.title(\"Heat map des performances de temps d'execution de chaque algorithme \")\n",
    "sns.heatmap(df_score.iloc[:1,:], cmap='Blues', linewidths=0.5, annot=True)\n",
    "plt.show()"
   ]
  },
  {
   "cell_type": "code",
   "execution_count": 141,
   "metadata": {
    "scrolled": true
   },
   "outputs": [
    {
     "data": {
      "image/png": "[encoded data removed]",
      "text/plain": [
       "<Figure size 1080x216 with 2 Axes>"
      ]
     },
     "metadata": {
      "needs_background": "light"
     },
     "output_type": "display_data"
    }
   ],
   "source": [
    "plt.figure(figsize=[15,3])\n",
    "plt.title(\"Heat map des performances de chaque algorithme \")\n",
    "sns.heatmap(df_score.iloc[1:,:], cmap='Blues', linewidths=0.5, annot=True)\n",
    "plt.show()"
   ]
  },
  {
   "cell_type": "markdown",
   "metadata": {},
   "source": [
    "On voit ici que la standardisation (s'assurer que les données suivent bien une distribution gaussienne de variance constante et de moyenne nulle) donne des légèrement meilleurs scores que la normalisation via le minimum et le maximum"
   ]
  },
  {
   "cell_type": "markdown",
   "metadata": {},
   "source": [
    "### II.2. Traitement de toutes les données : <a class=\"anchor\" id=\"Partie2.2\"></a>"
   ]
  },
  {
   "cell_type": "markdown",
   "metadata": {},
   "source": [
    "#### II.2.1 Traitement des données manquantes : <a class=\"anchor\" id=\"Partie2.2.1\"></a>"
   ]
  },
  {
   "cell_type": "markdown",
   "metadata": {},
   "source": [
    "Données catégorielles:"
   ]
  },
  {
   "cell_type": "code",
   "execution_count": 142,
   "metadata": {},
   "outputs": [],
   "source": [
    "# on traite d'abord les données manquantes pour les données catégorielles (ie de format str)\n",
    "col_cat=[0,3,4,5,6,8,9,11,12]\n",
    "X_cat = np.copy(data.iloc[:, col_cat].values)"
   ]
  },
  {
   "cell_type": "code",
   "execution_count": 143,
   "metadata": {},
   "outputs": [
    {
     "data": {
      "text/html": [
       "<div>\n",
       "<style scoped>\n",
       "    .dataframe tbody tr th:only-of-type {\n",
       "        vertical-align: middle;\n",
       "    }\n",
       "\n",
       "    .dataframe tbody tr th {\n",
       "        vertical-align: top;\n",
       "    }\n",
       "\n",
       "    .dataframe thead th {\n",
       "        text-align: right;\n",
       "    }\n",
       "</style>\n",
       "<table border=\"1\" class=\"dataframe\">\n",
       "  <thead>\n",
       "    <tr style=\"text-align: right;\">\n",
       "      <th></th>\n",
       "      <th>0</th>\n",
       "      <th>1</th>\n",
       "      <th>2</th>\n",
       "      <th>3</th>\n",
       "      <th>4</th>\n",
       "      <th>5</th>\n",
       "      <th>6</th>\n",
       "      <th>7</th>\n",
       "      <th>8</th>\n",
       "      <th>9</th>\n",
       "      <th>10</th>\n",
       "      <th>11</th>\n",
       "      <th>12</th>\n",
       "      <th>13</th>\n",
       "      <th>14</th>\n",
       "      <th>15</th>\n",
       "    </tr>\n",
       "  </thead>\n",
       "  <tbody>\n",
       "    <tr>\n",
       "      <th>0</th>\n",
       "      <td>b</td>\n",
       "      <td>30.83</td>\n",
       "      <td>0.000</td>\n",
       "      <td>u</td>\n",
       "      <td>g</td>\n",
       "      <td>w</td>\n",
       "      <td>v</td>\n",
       "      <td>1.25</td>\n",
       "      <td>t</td>\n",
       "      <td>t</td>\n",
       "      <td>1</td>\n",
       "      <td>f</td>\n",
       "      <td>g</td>\n",
       "      <td>202.0</td>\n",
       "      <td>0</td>\n",
       "      <td>1</td>\n",
       "    </tr>\n",
       "    <tr>\n",
       "      <th>1</th>\n",
       "      <td>a</td>\n",
       "      <td>58.67</td>\n",
       "      <td>4.460</td>\n",
       "      <td>u</td>\n",
       "      <td>g</td>\n",
       "      <td>q</td>\n",
       "      <td>h</td>\n",
       "      <td>3.04</td>\n",
       "      <td>t</td>\n",
       "      <td>t</td>\n",
       "      <td>6</td>\n",
       "      <td>f</td>\n",
       "      <td>g</td>\n",
       "      <td>43.0</td>\n",
       "      <td>560</td>\n",
       "      <td>1</td>\n",
       "    </tr>\n",
       "    <tr>\n",
       "      <th>2</th>\n",
       "      <td>a</td>\n",
       "      <td>24.50</td>\n",
       "      <td>0.500</td>\n",
       "      <td>u</td>\n",
       "      <td>g</td>\n",
       "      <td>q</td>\n",
       "      <td>h</td>\n",
       "      <td>1.50</td>\n",
       "      <td>t</td>\n",
       "      <td>f</td>\n",
       "      <td>0</td>\n",
       "      <td>f</td>\n",
       "      <td>g</td>\n",
       "      <td>280.0</td>\n",
       "      <td>824</td>\n",
       "      <td>1</td>\n",
       "    </tr>\n",
       "    <tr>\n",
       "      <th>3</th>\n",
       "      <td>b</td>\n",
       "      <td>27.83</td>\n",
       "      <td>1.540</td>\n",
       "      <td>u</td>\n",
       "      <td>g</td>\n",
       "      <td>w</td>\n",
       "      <td>v</td>\n",
       "      <td>3.75</td>\n",
       "      <td>t</td>\n",
       "      <td>t</td>\n",
       "      <td>5</td>\n",
       "      <td>t</td>\n",
       "      <td>g</td>\n",
       "      <td>100.0</td>\n",
       "      <td>3</td>\n",
       "      <td>1</td>\n",
       "    </tr>\n",
       "    <tr>\n",
       "      <th>4</th>\n",
       "      <td>b</td>\n",
       "      <td>20.17</td>\n",
       "      <td>5.625</td>\n",
       "      <td>u</td>\n",
       "      <td>g</td>\n",
       "      <td>w</td>\n",
       "      <td>v</td>\n",
       "      <td>1.71</td>\n",
       "      <td>t</td>\n",
       "      <td>f</td>\n",
       "      <td>0</td>\n",
       "      <td>f</td>\n",
       "      <td>s</td>\n",
       "      <td>120.0</td>\n",
       "      <td>0</td>\n",
       "      <td>1</td>\n",
       "    </tr>\n",
       "  </tbody>\n",
       "</table>\n",
       "</div>"
      ],
      "text/plain": [
       "  0      1      2  3  4  5  6     7  8  9   10 11 12     13   14  15\n",
       "0  b  30.83  0.000  u  g  w  v  1.25  t  t   1  f  g  202.0    0   1\n",
       "1  a  58.67  4.460  u  g  q  h  3.04  t  t   6  f  g   43.0  560   1\n",
       "2  a  24.50  0.500  u  g  q  h  1.50  t  f   0  f  g  280.0  824   1\n",
       "3  b  27.83  1.540  u  g  w  v  3.75  t  t   5  t  g  100.0    3   1\n",
       "4  b  20.17  5.625  u  g  w  v  1.71  t  f   0  f  s  120.0    0   1"
      ]
     },
     "execution_count": 143,
     "metadata": {},
     "output_type": "execute_result"
    }
   ],
   "source": [
    "data.head()"
   ]
  },
  {
   "cell_type": "code",
   "execution_count": 144,
   "metadata": {},
   "outputs": [],
   "source": [
    "# on vient remplacer chaque valeur par leur premier indice d'apparition dans les colonnes \n",
    "for col_id in range(len(col_cat)):\n",
    "    unique_val, val_idx = np.unique(X_cat[:, col_id], return_inverse=True)\n",
    "    X_cat[:, col_id] = val_idx"
   ]
  },
  {
   "cell_type": "code",
   "execution_count": 145,
   "metadata": {},
   "outputs": [],
   "source": [
    "imp_cat = SimpleImputer(missing_values=0, strategy='most_frequent')\n",
    "X_cat[:, range(5)] = imp_cat.fit_transform(X_cat[:, range(5)])"
   ]
  },
  {
   "cell_type": "markdown",
   "metadata": {},
   "source": [
    "Données numériques:"
   ]
  },
  {
   "cell_type": "code",
   "execution_count": 146,
   "metadata": {},
   "outputs": [],
   "source": [
    "# on traite d'abord les données manquantes pour les données catégorielles (ie de format str)\n",
    "col_num=[1, 2, 7, 10, 13, 14]\n",
    "X_num = np.copy(data.iloc[:, col_num].values)"
   ]
  },
  {
   "cell_type": "code",
   "execution_count": 147,
   "metadata": {},
   "outputs": [],
   "source": [
    "imp_num = SimpleImputer(missing_values=np.nan, strategy='mean')\n",
    "X_num[:, :] = imp_num.fit_transform(X_num[:, :])"
   ]
  },
  {
   "cell_type": "code",
   "execution_count": 148,
   "metadata": {},
   "outputs": [],
   "source": [
    "std_scale = preprocessing.StandardScaler().fit(X_num)\n",
    "X_scaled = std_scale.transform(X_num)"
   ]
  },
  {
   "cell_type": "markdown",
   "metadata": {},
   "source": [
    "#### II.2.2 Traitement de variables catégorielles : <a class=\"anchor\" id=\"Partie2.2.2\"></a>"
   ]
  },
  {
   "cell_type": "markdown",
   "metadata": {},
   "source": [
    "On binarise notre variable X_cat ie on crée une liste de 0 ou 1 de longueur égale \n",
    "au nombre de catégorie possible pour toutes les colonnes catégorielles avec des 1\n",
    "si la ligne a cette catégorie et 0 si elle ne l'a pas."
   ]
  },
  {
   "cell_type": "code",
   "execution_count": 149,
   "metadata": {},
   "outputs": [],
   "source": [
    "X_cat_bin = OneHotEncoder().fit_transform(X_cat).toarray()"
   ]
  },
  {
   "cell_type": "markdown",
   "metadata": {},
   "source": [
    "#### II.2.3 Construction de votre jeu de données : <a class=\"anchor\" id=\"Partie2.2.3\"></a>"
   ]
  },
  {
   "cell_type": "code",
   "execution_count": 150,
   "metadata": {},
   "outputs": [],
   "source": [
    "X_filed=np.concatenate((X_cat_bin, X_scaled), axis=1)\n",
    "y = data.iloc[:, 15].values"
   ]
  },
  {
   "cell_type": "markdown",
   "metadata": {},
   "source": [
    "#### II.2.4 Execution des classifieurs pour le set complet : <a class=\"anchor\" id=\"Partie2.2.4\"></a>"
   ]
  },
  {
   "cell_type": "code",
   "execution_count": 151,
   "metadata": {
    "scrolled": false
   },
   "outputs": [
    {
     "name": "stdout",
     "output_type": "stream",
     "text": [
      "----------\n",
      "classifier : NaiveBayes\n",
      "Temps d'exécution : 0s\n",
      "Accuracy : 72.10% +/- 4.84%\n",
      "AUC : 87.77% +/- 4.41%\n",
      "Precision : 86.84% +/- 9.41%\n",
      "----------\n",
      "classifier : CART\n",
      "Temps d'exécution : 0s\n",
      "Accuracy : 85.90% +/- 4.41%\n",
      "AUC : 89.05% +/- 4.42%\n",
      "Precision : 85.40% +/- 7.15%\n",
      "----------\n",
      "classifier : ID3\n",
      "Temps d'exécution : 0s\n",
      "Accuracy : 84.74% +/- 4.28%\n",
      "AUC : 88.98% +/- 2.42%\n",
      "Precision : 84.79% +/- 4.28%\n",
      "----------\n",
      "classifier : Stump\n",
      "Temps d'exécution : 0s\n",
      "Accuracy : 85.60% +/- 4.45%\n",
      "AUC : 86.57% +/- 4.00%\n",
      "Precision : 78.93% +/- 7.36%\n",
      "----------\n",
      "classifier : MLP\n",
      "Temps d'exécution : 9s\n",
      "Accuracy : 87.06% +/- 3.64%\n",
      "AUC : 93.30% +/- 2.97%\n",
      "Precision : 84.79% +/- 6.47%\n",
      "----------\n",
      "classifier : KNN\n",
      "Temps d'exécution : 0s\n",
      "Accuracy : 84.74% +/- 4.77%\n",
      "AUC : 91.05% +/- 3.12%\n",
      "Precision : 88.18% +/- 4.28%\n",
      "----------\n",
      "classifier : Bagging\n",
      "Temps d'exécution : 2s\n",
      "Accuracy : 86.77% +/- 4.10%\n",
      "AUC : 92.73% +/- 2.44%\n",
      "Precision : 84.58% +/- 5.41%\n",
      "----------\n",
      "classifier : Adaboost\n",
      "Temps d'exécution : 1s\n",
      "Accuracy : 84.44% +/- 3.69%\n",
      "AUC : 91.59% +/- 3.17%\n",
      "Precision : 81.45% +/- 6.92%\n",
      "----------\n",
      "classifier : RF\n",
      "Temps d'exécution : 0s\n",
      "Accuracy : 86.63% +/- 3.81%\n",
      "AUC : 92.89% +/- 3.01%\n",
      "Precision : 84.98% +/- 6.61%\n"
     ]
    }
   ],
   "source": [
    "run_classifiers(clfs,X_filed,y)"
   ]
  },
  {
   "cell_type": "code",
   "execution_count": 152,
   "metadata": {},
   "outputs": [
    {
     "data": {
      "image/png": "[encoded data removed]",
      "text/plain": [
       "<Figure size 1080x72 with 2 Axes>"
      ]
     },
     "metadata": {
      "needs_background": "light"
     },
     "output_type": "display_data"
    }
   ],
   "source": [
    "plt.figure(figsize=[15,1])\n",
    "plt.title(\"Heat map des performances de temps d'execution de chaque algorithme \")\n",
    "sns.heatmap(df_score.iloc[:1,:], cmap='Blues', linewidths=0.5, annot=True)\n",
    "plt.show()"
   ]
  },
  {
   "cell_type": "code",
   "execution_count": 153,
   "metadata": {
    "scrolled": false
   },
   "outputs": [
    {
     "data": {
      "image/png": "[encoded data removed]",
      "text/plain": [
       "<Figure size 1080x216 with 2 Axes>"
      ]
     },
     "metadata": {
      "needs_background": "light"
     },
     "output_type": "display_data"
    }
   ],
   "source": [
    "plt.figure(figsize=[15,3])\n",
    "plt.title(\"Heat map des performances de chaque algorithme \")\n",
    "sns.heatmap(df_score.iloc[1:,:], cmap='Blues', linewidths=0.5, annot=True)\n",
    "plt.show()"
   ]
  },
  {
   "cell_type": "markdown",
   "metadata": {},
   "source": [
    "On remarque qu'en ajoutant les variables catégorielles on obtient de bien meilleures performances (en moyenne + 10% d'accuracy) et une amélioration de 5 à 10% pour chaque algorithme et pour chaque critère (AUC et précision) et on ne perd que très peu en temps de traitement (passage de 8 secondes à 11 secondes pour le réseau de neurones ce qui est tout à fait acceptable étant donnée l'amélioration de la performance)"
   ]
  },
  {
   "cell_type": "markdown",
   "metadata": {},
   "source": [
    "## III. Apprentissage supervisé sur des données textuelles : Feature engineering et Classification: <a class=\"anchor\" id=\"Partie3\"></a>"
   ]
  },
  {
   "cell_type": "code",
   "execution_count": 154,
   "metadata": {},
   "outputs": [],
   "source": [
    "sms_data = pd.read_csv(path+'SMSSpamCollection.data',sep='\\t',header=None)"
   ]
  },
  {
   "cell_type": "code",
   "execution_count": 155,
   "metadata": {},
   "outputs": [
    {
     "data": {
      "text/html": [
       "<div>\n",
       "<style scoped>\n",
       "    .dataframe tbody tr th:only-of-type {\n",
       "        vertical-align: middle;\n",
       "    }\n",
       "\n",
       "    .dataframe tbody tr th {\n",
       "        vertical-align: top;\n",
       "    }\n",
       "\n",
       "    .dataframe thead th {\n",
       "        text-align: right;\n",
       "    }\n",
       "</style>\n",
       "<table border=\"1\" class=\"dataframe\">\n",
       "  <thead>\n",
       "    <tr style=\"text-align: right;\">\n",
       "      <th></th>\n",
       "      <th>0</th>\n",
       "      <th>1</th>\n",
       "    </tr>\n",
       "  </thead>\n",
       "  <tbody>\n",
       "    <tr>\n",
       "      <th>0</th>\n",
       "      <td>ham</td>\n",
       "      <td>Go until jurong point, crazy.. Available only ...</td>\n",
       "    </tr>\n",
       "    <tr>\n",
       "      <th>1</th>\n",
       "      <td>ham</td>\n",
       "      <td>Ok lar... Joking wif u oni...</td>\n",
       "    </tr>\n",
       "    <tr>\n",
       "      <th>2</th>\n",
       "      <td>spam</td>\n",
       "      <td>Free entry in 2 a wkly comp to win FA Cup fina...</td>\n",
       "    </tr>\n",
       "    <tr>\n",
       "      <th>3</th>\n",
       "      <td>ham</td>\n",
       "      <td>U dun say so early hor... U c already then say...</td>\n",
       "    </tr>\n",
       "    <tr>\n",
       "      <th>4</th>\n",
       "      <td>ham</td>\n",
       "      <td>Nah I don't think he goes to usf, he lives aro...</td>\n",
       "    </tr>\n",
       "  </tbody>\n",
       "</table>\n",
       "</div>"
      ],
      "text/plain": [
       "      0                                                  1\n",
       "0   ham  Go until jurong point, crazy.. Available only ...\n",
       "1   ham                      Ok lar... Joking wif u oni...\n",
       "2  spam  Free entry in 2 a wkly comp to win FA Cup fina...\n",
       "3   ham  U dun say so early hor... U c already then say...\n",
       "4   ham  Nah I don't think he goes to usf, he lives aro..."
      ]
     },
     "execution_count": 155,
     "metadata": {},
     "output_type": "execute_result"
    }
   ],
   "source": [
    "sms_data.head()"
   ]
  },
  {
   "cell_type": "code",
   "execution_count": 156,
   "metadata": {},
   "outputs": [],
   "source": [
    "sms = sms_data[1].values\n",
    "y = sms_data[0].values"
   ]
  },
  {
   "cell_type": "code",
   "execution_count": 157,
   "metadata": {},
   "outputs": [
    {
     "data": {
      "text/plain": [
       "'Go until jurong point, crazy.. Available only in bugis n great world la e buffet... Cine there got amore wat...'"
      ]
     },
     "execution_count": 157,
     "metadata": {},
     "output_type": "execute_result"
    }
   ],
   "source": [
    "sms[0]"
   ]
  },
  {
   "cell_type": "code",
   "execution_count": 158,
   "metadata": {},
   "outputs": [],
   "source": [
    "y = LabelEncoder().fit_transform(y)"
   ]
  },
  {
   "cell_type": "markdown",
   "metadata": {},
   "source": [
    "### III.1. Utilisation de CountVectorizer : <a class=\"anchor\" id=\"Partie3.1\"></a>"
   ]
  },
  {
   "cell_type": "markdown",
   "metadata": {},
   "source": [
    "Lors de cette opération on va transformer chaque sms en un vecteur avec comme variables les différents mots contenus dans tous les sms. Chaque variable contiendra 1 si le mot apparaît dans le sms et 0 sinon. \n",
    "\n",
    "Nous utilisons le paramètres stop_words, pour enlever les *mots vides*. Nous allons également garder que les 500 mots les plus fréquents pour ne pas surcharger les nombres de variables d'autant plus que certains mots ne doivent apparaître que dans un seul sms ce qui ne donne pas d'information. Ce choix est arbitraire et est aussi dépendant du temps de calcul très long en ajoutant des features."
   ]
  },
  {
   "cell_type": "code",
   "execution_count": 159,
   "metadata": {},
   "outputs": [],
   "source": [
    "vectorizer = CountVectorizer(stop_words='english', max_features=2000) # stop_words pour enlever les mots vides\n",
    "X = vectorizer.fit_transform(sms)"
   ]
  },
  {
   "cell_type": "code",
   "execution_count": 160,
   "metadata": {
    "scrolled": false
   },
   "outputs": [
    {
     "name": "stdout",
     "output_type": "stream",
     "text": [
      "----------\n",
      "classifier : NaiveBayes\n",
      "Temps d'exécution : 0s\n",
      "Accuracy : nan% +/- nan%\n",
      "AUC : nan% +/- nan%\n",
      "Precision : nan% +/- nan%\n",
      "----------\n",
      "classifier : CART\n",
      "Temps d'exécution : 0s\n",
      "Accuracy : 93.22% +/- 1.05%\n",
      "AUC : 78.18% +/- 3.58%\n",
      "Precision : 95.29% +/- 2.18%\n",
      "----------\n",
      "classifier : ID3\n",
      "Temps d'exécution : 0s\n",
      "Accuracy : 93.00% +/- 1.21%\n",
      "AUC : 79.08% +/- 2.63%\n",
      "Precision : 92.63% +/- 4.81%\n",
      "----------\n",
      "classifier : Stump\n",
      "Temps d'exécution : 0s\n",
      "Accuracy : 89.09% +/- 1.24%\n",
      "AUC : 59.91% +/- 2.18%\n",
      "Precision : 92.04% +/- 5.02%\n",
      "----------\n",
      "classifier : MLP\n",
      "Temps d'exécution : 28s\n",
      "Accuracy : 98.46% +/- 0.33%\n",
      "AUC : 98.04% +/- 0.93%\n",
      "Precision : 97.87% +/- 1.16%\n",
      "----------\n",
      "classifier : KNN\n",
      "Temps d'exécution : 1s\n",
      "Accuracy : 89.91% +/- 1.30%\n",
      "AUC : 88.26% +/- 2.84%\n",
      "Precision : 99.41% +/- 1.76%\n",
      "----------\n",
      "classifier : Bagging\n",
      "Temps d'exécution : 49s\n",
      "Accuracy : 97.34% +/- 0.57%\n",
      "AUC : 98.31% +/- 0.59%\n",
      "Precision : 91.65% +/- 2.47%\n",
      "----------\n",
      "classifier : Adaboost\n",
      "Temps d'exécution : 2s\n",
      "Accuracy : 96.97% +/- 0.61%\n",
      "AUC : 96.56% +/- 0.91%\n",
      "Precision : 93.73% +/- 3.10%\n",
      "----------\n",
      "classifier : RF\n",
      "Temps d'exécution : 0s\n",
      "Accuracy : 92.62% +/- 1.07%\n",
      "AUC : 95.80% +/- 1.26%\n",
      "Precision : 100.00% +/- 0.00%\n"
     ]
    }
   ],
   "source": [
    "run_classifiers(clfs,X,y)"
   ]
  },
  {
   "cell_type": "code",
   "execution_count": 161,
   "metadata": {},
   "outputs": [
    {
     "data": {
      "image/png": "[encoded data removed]",
      "text/plain": [
       "<Figure size 1080x72 with 2 Axes>"
      ]
     },
     "metadata": {
      "needs_background": "light"
     },
     "output_type": "display_data"
    }
   ],
   "source": [
    "plt.figure(figsize=[15,1])\n",
    "plt.title(\"Heat map des performances de temps d'execution de chaque algorithme \")\n",
    "sns.heatmap(df_score.iloc[:1,:], cmap='Blues', linewidths=0.5, annot=True)\n",
    "plt.show()"
   ]
  },
  {
   "cell_type": "code",
   "execution_count": 162,
   "metadata": {
    "scrolled": false
   },
   "outputs": [
    {
     "data": {
      "image/png": "[encoded data removed]",
      "text/plain": [
       "<Figure size 1080x216 with 2 Axes>"
      ]
     },
     "metadata": {
      "needs_background": "light"
     },
     "output_type": "display_data"
    }
   ],
   "source": [
    "plt.figure(figsize=[15,3])\n",
    "plt.title(\"Heat map des performances de chaque algorithme \")\n",
    "sns.heatmap(df_score.iloc[1:,:], cmap='Blues', linewidths=0.5, annot=True)\n",
    "plt.show()"
   ]
  },
  {
   "cell_type": "markdown",
   "metadata": {},
   "source": [
    "On voit avec ce premier algorithme de classification SPAM ou non SPAM que nos meilleurs algorithmes sont dans l'odre le réseau de neurones, le bagging et Adaboost d'un point de vu perfomances sur les critères de classification (notamment sur l'accuracy et AUC) on peut également noter le random forest qui est 2 à 4% plus bas que ces 3 compétiteurs d'un point de vu accuracy et AUC mais qui a 99% en précision ce qui peut être un critère déterminant.\n",
    "\n",
    "\n",
    "En revanche d'un point de vu temps d'execution le réseau de neuronnes et le bagging sont particulièrement long (respectivement 41 et 36 secondes) par rapport à Adaboost ou le random forest qui ont respectivement des temps d'execution de 4 et 1 secondes.\n",
    "\n",
    "Notre choix final se dirigera vers le Random Forest car c'est le meilleur compromis entre performances de classification (notamment sur la précision qui est un choix imporant car on préfèra prédire qu'un message est un SPAM à tort afin de ne pas perdre un message potentiellement important dans le dossier de SPAM de la boite mail)"
   ]
  },
  {
   "cell_type": "markdown",
   "metadata": {},
   "source": [
    "### III.2. Utilisation de Tf–idf term weighting : <a class=\"anchor\" id=\"Partie3.2\"></a>"
   ]
  },
  {
   "cell_type": "markdown",
   "metadata": {},
   "source": [
    "(Term Frequency) Fréquence des termes : Elle résume la fréquence d'apparition d'un mot donné dans un document.\n",
    "\n",
    "(Inverse Document Frequency) Fréquence inverse des documents : Cette méthode réduit l'importance des mots les plus fréquents (typiquement \"and\" va être très fréquent mais n'apporte pas d'information particulière dans le message)\n",
    "\n",
    " TF-IDF donne des scores de fréquences qui démarquent les mots les plus intéressants"
   ]
  },
  {
   "cell_type": "code",
   "execution_count": 163,
   "metadata": {},
   "outputs": [],
   "source": [
    "vectorizer = TfidfVectorizer(stop_words='english', max_features=2000)\n",
    "X = vectorizer.fit_transform(sms)"
   ]
  },
  {
   "cell_type": "code",
   "execution_count": 164,
   "metadata": {
    "scrolled": false
   },
   "outputs": [
    {
     "name": "stdout",
     "output_type": "stream",
     "text": [
      "----------\n",
      "classifier : NaiveBayes\n",
      "Temps d'exécution : 0s\n",
      "Accuracy : nan% +/- nan%\n",
      "AUC : nan% +/- nan%\n",
      "Precision : nan% +/- nan%\n",
      "----------\n",
      "classifier : CART\n",
      "Temps d'exécution : 0s\n",
      "Accuracy : 93.11% +/- 1.19%\n",
      "AUC : 78.35% +/- 3.35%\n",
      "Precision : 89.18% +/- 6.10%\n",
      "----------\n",
      "classifier : ID3\n",
      "Temps d'exécution : 0s\n",
      "Accuracy : 93.11% +/- 1.30%\n",
      "AUC : 78.99% +/- 2.84%\n",
      "Precision : 86.95% +/- 5.02%\n",
      "----------\n",
      "classifier : Stump\n",
      "Temps d'exécution : 0s\n",
      "Accuracy : 89.09% +/- 1.24%\n",
      "AUC : 59.91% +/- 2.18%\n",
      "Precision : 92.04% +/- 5.02%\n",
      "----------\n",
      "classifier : MLP\n",
      "Temps d'exécution : 35s\n",
      "Accuracy : 98.40% +/- 0.39%\n",
      "AUC : 99.12% +/- 0.45%\n",
      "Precision : 96.48% +/- 1.60%\n",
      "----------\n",
      "classifier : KNN\n",
      "Temps d'exécution : 1s\n",
      "Accuracy : 89.21% +/- 1.38%\n",
      "AUC : 84.61% +/- 2.46%\n",
      "Precision : 100.00% +/- 0.00%\n",
      "----------\n",
      "classifier : Bagging\n",
      "Temps d'exécution : 68s\n",
      "Accuracy : 97.24% +/- 0.78%\n",
      "AUC : 98.12% +/- 0.72%\n",
      "Precision : 91.60% +/- 2.79%\n",
      "----------\n",
      "classifier : Adaboost\n",
      "Temps d'exécution : 4s\n",
      "Accuracy : 97.11% +/- 0.49%\n",
      "AUC : 96.46% +/- 1.36%\n",
      "Precision : 95.30% +/- 1.71%\n",
      "----------\n",
      "classifier : RF\n",
      "Temps d'exécution : 0s\n",
      "Accuracy : 92.59% +/- 1.21%\n",
      "AUC : 95.51% +/- 1.14%\n",
      "Precision : 99.18% +/- 1.70%\n"
     ]
    }
   ],
   "source": [
    "run_classifiers(clfs,X,y)"
   ]
  },
  {
   "cell_type": "code",
   "execution_count": 165,
   "metadata": {},
   "outputs": [
    {
     "data": {
      "image/png": "[encoded data removed]",
      "text/plain": [
       "<Figure size 1080x72 with 2 Axes>"
      ]
     },
     "metadata": {
      "needs_background": "light"
     },
     "output_type": "display_data"
    }
   ],
   "source": [
    "plt.figure(figsize=[15,1])\n",
    "plt.title(\"Heat map des performances de temps d'execution de chaque algorithme \")\n",
    "sns.heatmap(df_score.iloc[:1,:], cmap='Blues', linewidths=0.5, annot=True)\n",
    "plt.show()"
   ]
  },
  {
   "cell_type": "code",
   "execution_count": 166,
   "metadata": {
    "scrolled": true
   },
   "outputs": [
    {
     "data": {
      "image/png": "[encoded data removed]",
      "text/plain": [
       "<Figure size 1080x216 with 2 Axes>"
      ]
     },
     "metadata": {
      "needs_background": "light"
     },
     "output_type": "display_data"
    }
   ],
   "source": [
    "plt.figure(figsize=[15,3])\n",
    "plt.title(\"Heat map des performances de chaque algorithme \")\n",
    "sns.heatmap(df_score.iloc[1:,:], cmap='Blues', linewidths=0.5, annot=True)\n",
    "plt.show()"
   ]
  },
  {
   "cell_type": "markdown",
   "metadata": {},
   "source": [
    "On voit ici que la transofrmation TF-IDF n'a pas amélioré les performances de classification (mais à augmenté les temps de calcul). On peut supposer qu'en augmentant le nombre de features on devrait augmenter les scores. L'algorithmes n'a pas suffisamment de features pour réussir à discriminer tel ou tel mot correctement."
   ]
  },
  {
   "cell_type": "markdown",
   "metadata": {},
   "source": [
    "### III.3. Utilisation de TruncatedSVD : <a class=\"anchor\" id=\"Partie3.3\"></a>"
   ]
  },
  {
   "cell_type": "markdown",
   "metadata": {},
   "source": [
    "Truncated Singular Value Decomposition (SVD) est une technique de factorisation matricielle qui permet de factoriser une matrice M en trois matrices U, Σ et V. \n",
    "\n",
    "Cette technique est très similaire à l'ACP, sauf que la factorisation pour la SVD est effectuée sur la matrice de données, alors que pour l'ACP, la factorisation est effectuée sur la matrice de covariance.\n",
    "\n",
    "Généralement, la SVD est utilisée pour trouver les composantes principales d'une matrice."
   ]
  },
  {
   "cell_type": "markdown",
   "metadata": {},
   "source": [
    "On applique la transformation Truncated SVD directement à la vectorisation TF-IDF."
   ]
  },
  {
   "cell_type": "code",
   "execution_count": 167,
   "metadata": {},
   "outputs": [],
   "source": [
    "svd = TruncatedSVD(np.shape(X)[1]-1)\n",
    "X_tSVD = svd.fit_transform(X)"
   ]
  },
  {
   "cell_type": "code",
   "execution_count": 168,
   "metadata": {},
   "outputs": [
    {
     "data": {
      "image/png": "[encoded data removed]",
      "text/plain": [
       "<Figure size 432x288 with 1 Axes>"
      ]
     },
     "metadata": {
      "needs_background": "light"
     },
     "output_type": "display_data"
    }
   ],
   "source": [
    "plt.plot(svd.explained_variance_ratio_)\n",
    "plt.title(\"Variance expliquée pour le modèle\")\n",
    "plt.show()"
   ]
  },
  {
   "cell_type": "markdown",
   "metadata": {},
   "source": [
    "On pourra garder environ les 250eres features en appliquant la méthode du coude."
   ]
  },
  {
   "cell_type": "code",
   "execution_count": 170,
   "metadata": {},
   "outputs": [],
   "source": [
    "svd = TruncatedSVD(250)\n",
    "X_tSVD = svd.fit_transform(X)"
   ]
  },
  {
   "cell_type": "code",
   "execution_count": 171,
   "metadata": {
    "scrolled": false
   },
   "outputs": [
    {
     "name": "stdout",
     "output_type": "stream",
     "text": [
      "----------\n",
      "classifier : NaiveBayes\n",
      "Temps d'exécution : 0s\n",
      "Accuracy : 80.31% +/- 1.84%\n",
      "AUC : 94.07% +/- 1.57%\n",
      "Precision : 39.67% +/- 3.50%\n",
      "----------\n",
      "classifier : CART\n",
      "Temps d'exécution : 8s\n",
      "Accuracy : 95.53% +/- 0.91%\n",
      "AUC : 94.37% +/- 1.84%\n",
      "Precision : 85.81% +/- 5.08%\n",
      "----------\n",
      "classifier : ID3\n",
      "Temps d'exécution : 12s\n",
      "Accuracy : 94.99% +/- 1.09%\n",
      "AUC : 93.87% +/- 1.85%\n",
      "Precision : 82.42% +/- 6.76%\n",
      "----------\n",
      "classifier : Stump\n",
      "Temps d'exécution : 2s\n",
      "Accuracy : 88.82% +/- 1.32%\n",
      "AUC : 86.09% +/- 1.96%\n",
      "Precision : 55.58% +/- 5.07%\n",
      "----------\n",
      "classifier : MLP\n",
      "Temps d'exécution : 75s\n",
      "Accuracy : 97.56% +/- 0.61%\n",
      "AUC : 98.46% +/- 0.45%\n",
      "Precision : 91.28% +/- 3.46%\n",
      "----------\n",
      "classifier : KNN\n",
      "Temps d'exécution : 19s\n",
      "Accuracy : 95.10% +/- 0.67%\n",
      "AUC : 95.33% +/- 1.42%\n",
      "Precision : 96.76% +/- 2.53%\n",
      "----------\n",
      "classifier : Bagging\n",
      "Temps d'exécution : 720s\n",
      "Accuracy : 97.40% +/- 0.84%\n",
      "AUC : 96.81% +/- 1.13%\n",
      "Precision : 94.96% +/- 2.38%\n",
      "----------\n",
      "classifier : Adaboost\n",
      "Temps d'exécution : 92s\n",
      "Accuracy : 97.38% +/- 0.63%\n",
      "AUC : 98.04% +/- 1.02%\n",
      "Precision : 92.24% +/- 3.25%\n",
      "----------\n",
      "classifier : RF\n",
      "Temps d'exécution : 5s\n",
      "Accuracy : 96.23% +/- 0.82%\n",
      "AUC : 96.05% +/- 0.77%\n",
      "Precision : 96.89% +/- 1.35%\n"
     ]
    }
   ],
   "source": [
    "run_classifiers(clfs,X_tSVD,y)"
   ]
  },
  {
   "cell_type": "code",
   "execution_count": 172,
   "metadata": {
    "scrolled": false
   },
   "outputs": [
    {
     "data": {
      "image/png": "[encoded data removed]",
      "text/plain": [
       "<Figure size 1080x72 with 2 Axes>"
      ]
     },
     "metadata": {
      "needs_background": "light"
     },
     "output_type": "display_data"
    }
   ],
   "source": [
    "plt.figure(figsize=[15,1])\n",
    "plt.title(\"Heat map des performances de temps d'execution de chaque algorithme \")\n",
    "sns.heatmap(df_score.iloc[:1,:], cmap='Blues', linewidths=0.5, annot=True)\n",
    "plt.show()"
   ]
  },
  {
   "cell_type": "code",
   "execution_count": 173,
   "metadata": {
    "scrolled": true
   },
   "outputs": [
    {
     "data": {
      "image/png": "[encoded data removed]",
      "text/plain": [
       "<Figure size 1080x216 with 2 Axes>"
      ]
     },
     "metadata": {
      "needs_background": "light"
     },
     "output_type": "display_data"
    }
   ],
   "source": [
    "plt.figure(figsize=[15,3])\n",
    "plt.title(\"Heat map des performances de chaque algorithme \")\n",
    "sns.heatmap(df_score.iloc[1:,:], cmap='Blues', linewidths=0.5, annot=True)\n",
    "plt.show()"
   ]
  },
  {
   "cell_type": "markdown",
   "metadata": {},
   "source": [
    "On voit que combiner la vectorisation via TD-IDF et la selection de composant via TruncatedSVD a permis d'améliorer tous scores (légèrement pour les méthodes ensemblistes déjà très haute mais notablement pour les algorithmes seuls). _"
   ]
  },
  {
   "cell_type": "markdown",
   "metadata": {},
   "source": [
    "### III.4. Utilisation de la Pipeline : <a class=\"anchor\" id=\"Partie3.4\"></a>"
   ]
  },
  {
   "cell_type": "markdown",
   "metadata": {},
   "source": [
    "#### I.7.2  Construction de toute la pipeline : <a class=\"anchor\" id=\"Partie1.7.2\"></a>"
   ]
  },
  {
   "cell_type": "code",
   "execution_count": 178,
   "metadata": {},
   "outputs": [],
   "source": [
    "def pipeline(classifier):\n",
    "    return(Pipeline(steps=[('TFIFD', TfidfVectorizer(stop_words='english', max_features=2000)),\n",
    "                           ('TSVD',TruncatedSVD(300)),\n",
    "                           ('classifier', classifier)]))"
   ]
  },
  {
   "cell_type": "markdown",
   "metadata": {},
   "source": [
    "### III.5. Application sur un autre jeu de données : <a class=\"anchor\" id=\"Partie3.5\"></a>"
   ]
  },
  {
   "cell_type": "code",
   "execution_count": 179,
   "metadata": {},
   "outputs": [],
   "source": [
    "data = pd.read_csv(path+'yelp-text-by-stars.csv', engine='python', sep=';')"
   ]
  },
  {
   "cell_type": "code",
   "execution_count": 180,
   "metadata": {},
   "outputs": [
    {
     "data": {
      "text/html": [
       "<div>\n",
       "<style scoped>\n",
       "    .dataframe tbody tr th:only-of-type {\n",
       "        vertical-align: middle;\n",
       "    }\n",
       "\n",
       "    .dataframe tbody tr th {\n",
       "        vertical-align: top;\n",
       "    }\n",
       "\n",
       "    .dataframe thead th {\n",
       "        text-align: right;\n",
       "    }\n",
       "</style>\n",
       "<table border=\"1\" class=\"dataframe\">\n",
       "  <thead>\n",
       "    <tr style=\"text-align: right;\">\n",
       "      <th></th>\n",
       "      <th>Stars</th>\n",
       "      <th>Text</th>\n",
       "    </tr>\n",
       "  </thead>\n",
       "  <tbody>\n",
       "    <tr>\n",
       "      <th>0</th>\n",
       "      <td>1</td>\n",
       "      <td>Boarded my English Mastiff here over New Year'...</td>\n",
       "    </tr>\n",
       "    <tr>\n",
       "      <th>1</th>\n",
       "      <td>1</td>\n",
       "      <td>Another case of the Emperor's New Clothes.  So...</td>\n",
       "    </tr>\n",
       "    <tr>\n",
       "      <th>2</th>\n",
       "      <td>1</td>\n",
       "      <td>Came on Valentine's Day night having pre-bough...</td>\n",
       "    </tr>\n",
       "    <tr>\n",
       "      <th>3</th>\n",
       "      <td>1</td>\n",
       "      <td>2Nd time eating here today.1st time was great ...</td>\n",
       "    </tr>\n",
       "    <tr>\n",
       "      <th>4</th>\n",
       "      <td>1</td>\n",
       "      <td>Allegiant is a disaster.  Their fares are chea...</td>\n",
       "    </tr>\n",
       "  </tbody>\n",
       "</table>\n",
       "</div>"
      ],
      "text/plain": [
       "   Stars                                               Text\n",
       "0      1  Boarded my English Mastiff here over New Year'...\n",
       "1      1  Another case of the Emperor's New Clothes.  So...\n",
       "2      1  Came on Valentine's Day night having pre-bough...\n",
       "3      1  2Nd time eating here today.1st time was great ...\n",
       "4      1  Allegiant is a disaster.  Their fares are chea..."
      ]
     },
     "execution_count": 180,
     "metadata": {},
     "output_type": "execute_result"
    }
   ],
   "source": [
    "data.head()"
   ]
  },
  {
   "cell_type": "code",
   "execution_count": 181,
   "metadata": {},
   "outputs": [],
   "source": [
    "X = data['Text'].values\n",
    "y = data['Stars'].values"
   ]
  },
  {
   "cell_type": "code",
   "execution_count": 182,
   "metadata": {},
   "outputs": [],
   "source": [
    "X_train, X_test, y_train, y_test = train_test_split(X, y, test_size=0.5, random_state=1)"
   ]
  },
  {
   "cell_type": "markdown",
   "metadata": {},
   "source": [
    "Test de la pipeline avec un réseau de neuronnes de 2 couches cachées de 10 et 20 neurones"
   ]
  },
  {
   "cell_type": "code",
   "execution_count": 183,
   "metadata": {},
   "outputs": [
    {
     "name": "stdout",
     "output_type": "stream",
     "text": [
      "Accuracy : 59.73%\n"
     ]
    }
   ],
   "source": [
    "pipe_MLP = pipeline(MLPClassifier(hidden_layer_sizes=(10, 20)))\n",
    "pipe_MLP.fit(X_train, y_train)\n",
    "print(f\"Accuracy : {accuracy_score(y_test,pipe_MLP.predict(X_test)):.2%}\") "
   ]
  },
  {
   "cell_type": "markdown",
   "metadata": {},
   "source": [
    "Test de la pipeline avec un Bagging de 50 arbres"
   ]
  },
  {
   "cell_type": "code",
   "execution_count": 184,
   "metadata": {},
   "outputs": [
    {
     "name": "stdout",
     "output_type": "stream",
     "text": [
      "Accuracy : 53.57%\n"
     ]
    }
   ],
   "source": [
    "pipe_Bagging = pipeline(BaggingClassifier(n_estimators=50, random_state=0))\n",
    "pipe_Bagging.fit(X_train, y_train)\n",
    "print(f\"Accuracy : {accuracy_score(y_test,pipe_Bagging.predict(X_test)):.2%}\") "
   ]
  },
  {
   "cell_type": "markdown",
   "metadata": {},
   "source": [
    "Test de la pipeline avec un Boosting de 50 arbres"
   ]
  },
  {
   "cell_type": "code",
   "execution_count": 185,
   "metadata": {},
   "outputs": [
    {
     "name": "stdout",
     "output_type": "stream",
     "text": [
      "Accuracy : 54.70%\n"
     ]
    }
   ],
   "source": [
    "pipe_Boosting = pipeline(AdaBoostClassifier(n_estimators=50, random_state=0))\n",
    "pipe_Boosting.fit(X_train, y_train)\n",
    "print(f\"Accuracy : {accuracy_score(y_test,pipe_Boosting.predict(X_test)):.2%}\") "
   ]
  },
  {
   "cell_type": "markdown",
   "metadata": {},
   "source": [
    "Test de la pipeline avec un Random forest de 50 arbres de profondeur max 5"
   ]
  },
  {
   "cell_type": "code",
   "execution_count": 186,
   "metadata": {},
   "outputs": [
    {
     "name": "stdout",
     "output_type": "stream",
     "text": [
      "Accuracy : 43.36%\n"
     ]
    }
   ],
   "source": [
    "pipe_RF = pipeline(RandomForestClassifier(n_estimators = 50, max_depth=5, random_state=0))\n",
    "pipe_RF.fit(X_train, y_train)\n",
    "print(f\"Accuracy : {accuracy_score(y_test,pipe_RF.predict(X_test)):.2%}\") "
   ]
  },
  {
   "cell_type": "markdown",
   "metadata": {},
   "source": [
    "On voit que le meilleur algorithme sans aucun tunning est le réseau de neurones."
   ]
  }
 ],
 "metadata": {
  "kernelspec": {
   "display_name": "Python 3",
   "language": "python",
   "name": "python3"
  },
  "language_info": {
   "codemirror_mode": {
    "name": "ipython",
    "version": 3
   },
   "file_extension": ".py",
   "mimetype": "text/x-python",
   "name": "python",
   "nbconvert_exporter": "python",
   "pygments_lexer": "ipython3",
   "version": "3.8.5"
  }
 },
 "nbformat": 4,
 "nbformat_minor": 4
}
