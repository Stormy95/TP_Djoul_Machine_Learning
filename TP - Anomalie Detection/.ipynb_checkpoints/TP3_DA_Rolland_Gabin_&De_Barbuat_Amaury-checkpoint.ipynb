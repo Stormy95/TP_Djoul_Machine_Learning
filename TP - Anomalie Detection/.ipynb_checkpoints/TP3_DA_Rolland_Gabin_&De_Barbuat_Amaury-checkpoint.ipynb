{
 "cells": [
  {
   "cell_type": "markdown",
   "metadata": {
    "toc": true
   },
   "source": [
    "<h1>Table of Contents<span class=\"tocSkip\"></span></h1>\n",
    "<div class=\"toc\"><ul class=\"toc-item\"><li><span><a href=\"#Isolation-Forest-:-base-de-données-Mouse\" data-toc-modified-id=\"Isolation-Forest-:-base-de-données-Mouse-1\"><span class=\"toc-item-num\">1&nbsp;&nbsp;</span>Isolation Forest : base de données Mouse</a></span><ul class=\"toc-item\"><li><span><a href=\"#Téléchargement-et-analyse-du-jeu-de-données\" data-toc-modified-id=\"Téléchargement-et-analyse-du-jeu-de-données-1.1\"><span class=\"toc-item-num\">1.1&nbsp;&nbsp;</span>Téléchargement et analyse du jeu de données</a></span></li><li><span><a href=\"#Représentation-graphique-des-données\" data-toc-modified-id=\"Représentation-graphique-des-données-1.2\"><span class=\"toc-item-num\">1.2&nbsp;&nbsp;</span>Représentation graphique des données</a></span></li><li><span><a href=\"#Détection-des-anomalies-dans-ce-jeu-de-données\" data-toc-modified-id=\"Détection-des-anomalies-dans-ce-jeu-de-données-1.3\"><span class=\"toc-item-num\">1.3&nbsp;&nbsp;</span>Détection des anomalies dans ce jeu de données</a></span></li></ul></li><li><span><a href=\"#Jeu-de-données-Cartes-de-crédit\" data-toc-modified-id=\"Jeu-de-données-Cartes-de-crédit-2\"><span class=\"toc-item-num\">2&nbsp;&nbsp;</span>Jeu de données Cartes de crédit</a></span><ul class=\"toc-item\"><li><span><a href=\"#Préparation-du-jeu-de-données\" data-toc-modified-id=\"Préparation-du-jeu-de-données-2.1\"><span class=\"toc-item-num\">2.1&nbsp;&nbsp;</span>Préparation du jeu de données</a></span></li><li><span><a href=\"#Application-de-la-technique-Isolation-Forest\" data-toc-modified-id=\"Application-de-la-technique-Isolation-Forest-2.2\"><span class=\"toc-item-num\">2.2&nbsp;&nbsp;</span>Application de la technique Isolation Forest</a></span></li></ul></li></ul></div>"
   ]
  },
  {
   "cell_type": "markdown",
   "metadata": {
    "id": "7gckBu1eBAbJ"
   },
   "source": [
    "**Élèves :**\n",
    "- Gabin Rolland\n",
    "- Amaury De Barbuat"
   ]
  },
  {
   "cell_type": "markdown",
   "metadata": {
    "id": "2GOibFD3B6_9"
   },
   "source": [
    "# Atelier 3 : Détection d'anomalies avec Python\n",
    "\n"
   ]
  },
  {
   "cell_type": "code",
   "execution_count": 1,
   "metadata": {
    "id": "hWGZRkkjB9nL"
   },
   "outputs": [
    {
     "name": "stderr",
     "output_type": "stream",
     "text": [
      "In /Users/gabin/opt/anaconda3/lib/python3.7/site-packages/matplotlib/mpl-data/stylelib/_classic_test.mplstyle: \n",
      "The text.latex.preview rcparam was deprecated in Matplotlib 3.3 and will be removed two minor releases later.\n",
      "In /Users/gabin/opt/anaconda3/lib/python3.7/site-packages/matplotlib/mpl-data/stylelib/_classic_test.mplstyle: \n",
      "The mathtext.fallback_to_cm rcparam was deprecated in Matplotlib 3.3 and will be removed two minor releases later.\n",
      "In /Users/gabin/opt/anaconda3/lib/python3.7/site-packages/matplotlib/mpl-data/stylelib/_classic_test.mplstyle: Support for setting the 'mathtext.fallback_to_cm' rcParam is deprecated since 3.3 and will be removed two minor releases later; use 'mathtext.fallback : 'cm' instead.\n",
      "In /Users/gabin/opt/anaconda3/lib/python3.7/site-packages/matplotlib/mpl-data/stylelib/_classic_test.mplstyle: \n",
      "The validate_bool_maybe_none function was deprecated in Matplotlib 3.3 and will be removed two minor releases later.\n",
      "In /Users/gabin/opt/anaconda3/lib/python3.7/site-packages/matplotlib/mpl-data/stylelib/_classic_test.mplstyle: \n",
      "The savefig.jpeg_quality rcparam was deprecated in Matplotlib 3.3 and will be removed two minor releases later.\n",
      "In /Users/gabin/opt/anaconda3/lib/python3.7/site-packages/matplotlib/mpl-data/stylelib/_classic_test.mplstyle: \n",
      "The keymap.all_axes rcparam was deprecated in Matplotlib 3.3 and will be removed two minor releases later.\n",
      "In /Users/gabin/opt/anaconda3/lib/python3.7/site-packages/matplotlib/mpl-data/stylelib/_classic_test.mplstyle: \n",
      "The animation.avconv_path rcparam was deprecated in Matplotlib 3.3 and will be removed two minor releases later.\n",
      "In /Users/gabin/opt/anaconda3/lib/python3.7/site-packages/matplotlib/mpl-data/stylelib/_classic_test.mplstyle: \n",
      "The animation.avconv_args rcparam was deprecated in Matplotlib 3.3 and will be removed two minor releases later.\n"
     ]
    }
   ],
   "source": [
    "import numpy as np \n",
    "np.set_printoptions(threshold=10000, suppress=True) \n",
    "import pandas as pd\n",
    "import warnings\n",
    "import matplotlib.pyplot as plt \n",
    "warnings.filterwarnings('ignore')"
   ]
  },
  {
   "cell_type": "markdown",
   "metadata": {
    "id": "kPl1ydkpNJgY"
   },
   "source": [
    "## Isolation Forest : base de données Mouse\n"
   ]
  },
  {
   "cell_type": "markdown",
   "metadata": {
    "id": "ttqSRvrKBDvR"
   },
   "source": [
    "### Téléchargement et analyse du jeu de données\n",
    "\n",
    "Le fichier mouse.txt est composé de 500 lignes constituées chacune de 2 éléments correspondants aux coordonnées de points dans un plan de dimension 2. Les dix dernières instances sont les outliers à détecter."
   ]
  },
  {
   "cell_type": "code",
   "execution_count": 2,
   "metadata": {
    "id": "9sOghb3jCSDA"
   },
   "outputs": [],
   "source": [
    "data = pd.read_csv('./mouse.txt', sep=' ', header=None) "
   ]
  },
  {
   "cell_type": "code",
   "execution_count": 3,
   "metadata": {
    "colab": {
     "base_uri": "https://localhost:8080/",
     "height": 206
    },
    "id": "kJUg6OVbMO-N",
    "outputId": "fad3933f-e659-4743-cc21-ba56899f596a"
   },
   "outputs": [
    {
     "data": {
      "text/html": [
       "<div>\n",
       "<style scoped>\n",
       "    .dataframe tbody tr th:only-of-type {\n",
       "        vertical-align: middle;\n",
       "    }\n",
       "\n",
       "    .dataframe tbody tr th {\n",
       "        vertical-align: top;\n",
       "    }\n",
       "\n",
       "    .dataframe thead th {\n",
       "        text-align: right;\n",
       "    }\n",
       "</style>\n",
       "<table border=\"1\" class=\"dataframe\">\n",
       "  <thead>\n",
       "    <tr style=\"text-align: right;\">\n",
       "      <th></th>\n",
       "      <th>0</th>\n",
       "      <th>1</th>\n",
       "    </tr>\n",
       "  </thead>\n",
       "  <tbody>\n",
       "    <tr>\n",
       "      <td>0</td>\n",
       "      <td>0.456601</td>\n",
       "      <td>0.432806</td>\n",
       "    </tr>\n",
       "    <tr>\n",
       "      <td>1</td>\n",
       "      <td>0.611378</td>\n",
       "      <td>0.528625</td>\n",
       "    </tr>\n",
       "    <tr>\n",
       "      <td>2</td>\n",
       "      <td>0.450299</td>\n",
       "      <td>0.711606</td>\n",
       "    </tr>\n",
       "    <tr>\n",
       "      <td>3</td>\n",
       "      <td>0.639015</td>\n",
       "      <td>0.460744</td>\n",
       "    </tr>\n",
       "    <tr>\n",
       "      <td>4</td>\n",
       "      <td>0.628957</td>\n",
       "      <td>0.323470</td>\n",
       "    </tr>\n",
       "  </tbody>\n",
       "</table>\n",
       "</div>"
      ],
      "text/plain": [
       "          0         1\n",
       "0  0.456601  0.432806\n",
       "1  0.611378  0.528625\n",
       "2  0.450299  0.711606\n",
       "3  0.639015  0.460744\n",
       "4  0.628957  0.323470"
      ]
     },
     "execution_count": 3,
     "metadata": {},
     "output_type": "execute_result"
    }
   ],
   "source": [
    "data.head(5)"
   ]
  },
  {
   "cell_type": "markdown",
   "metadata": {
    "id": "_UAxQovpMJgx"
   },
   "source": [
    "\n",
    "\n",
    "### Représentation graphique des données\n"
   ]
  },
  {
   "cell_type": "code",
   "execution_count": 4,
   "metadata": {
    "id": "I3iN2oO5KkSM"
   },
   "outputs": [],
   "source": [
    "X = data.values"
   ]
  },
  {
   "cell_type": "code",
   "execution_count": 5,
   "metadata": {
    "colab": {
     "base_uri": "https://localhost:8080/",
     "height": 265
    },
    "id": "KPwrpQjpK1nl",
    "outputId": "3ca3120e-51ea-49be-f947-d7c49559806c"
   },
   "outputs": [
    {
     "data": {
      "image/png": "[encoded data removed]",
      "text/plain": [
       "<Figure size 432x288 with 1 Axes>"
      ]
     },
     "metadata": {
      "needs_background": "light"
     },
     "output_type": "display_data"
    }
   ],
   "source": [
    "plt.plot(X[:,0], X[:,1], 'bo')\n",
    "plt.show()"
   ]
  },
  {
   "cell_type": "markdown",
   "metadata": {
    "id": "FQpH31QeNTtO"
   },
   "source": [
    "On observe ainsi la représentation graphique de ces données. On retrouve bien le dessin de la tête de Mickey Mouse, le personnage de Disney. On observe également dix points aberrants qui sortent du tracé originale. On va s'attacher à les retrouver numériquement à l'aide de la procédure isolation forest.\n",
    "\n",
    "### Détection des anomalies dans ce jeu de données\n",
    "\n",
    "Nous allons appliquer la procédure d'outlier detection non supervisé Isolation Forest fourni par la bibliothèque scikit learn."
   ]
  },
  {
   "cell_type": "code",
   "execution_count": 6,
   "metadata": {
    "id": "UseuL46ANxy1"
   },
   "outputs": [],
   "source": [
    "from sklearn.ensemble import IsolationForest"
   ]
  },
  {
   "cell_type": "markdown",
   "metadata": {
    "id": "zyIVmkrLTO6p"
   },
   "source": [
    "On utilise d'abord la fonction .predict afin de laisser le module fixer le seuil en fonction du paramètre contamination fournit dans l'IF. On a renseigné une valeur de 500/10=0.02 sachant que l'on a 10 valeurs aberrantes dans le jeu de données."
   ]
  },
  {
   "cell_type": "code",
   "execution_count": 7,
   "metadata": {
    "id": "d5juK6OcQvdi"
   },
   "outputs": [],
   "source": [
    "IF1 = IsolationForest(n_estimators=500, contamination=0.02)\n",
    "IF1.fit(X)\n",
    "anomalie1 = IF1.predict(X)"
   ]
  },
  {
   "cell_type": "code",
   "execution_count": 8,
   "metadata": {
    "colab": {
     "base_uri": "https://localhost:8080/",
     "height": 265
    },
    "id": "72fulITrQyEc",
    "outputId": "56d049b6-1f34-483c-904e-5628be7ef082"
   },
   "outputs": [
    {
     "data": {
      "image/png": "[encoded data removed]",
      "text/plain": [
       "<Figure size 432x288 with 1 Axes>"
      ]
     },
     "metadata": {
      "needs_background": "light"
     },
     "output_type": "display_data"
    }
   ],
   "source": [
    "plt.scatter(X[:,0], X[:,1], c=anomalie1)\n",
    "plt.show()"
   ]
  },
  {
   "cell_type": "markdown",
   "metadata": {
    "id": "L-KF1aZ-Tpjz"
   },
   "source": [
    "On remarque ainsi que parmi les 10 valeurs aberrantes fourni par la procédure, 8 correspondent clairement à des valeurs aberrantes, tandis que 2 sont très proches du motif. On notera surtout qu'une autre valeur clairement aberrante à vue d'oeil n'a pas été détectée."
   ]
  },
  {
   "cell_type": "markdown",
   "metadata": {
    "id": "a4p1tg2UUSHM"
   },
   "source": [
    "On applique à nouveau la procédure Isolation Forest mais cette fois-ci on souhaite d'abord observer les valeurs de décision puis de fixer un seuil cohérent à partir de ces informations."
   ]
  },
  {
   "cell_type": "code",
   "execution_count": 9,
   "metadata": {
    "id": "jqMRpoIqPMiJ"
   },
   "outputs": [],
   "source": [
    "IF2 = IsolationForest(n_estimators=500)\n",
    "IF2.fit(X)\n",
    "decision = IF2.decision_function(X)"
   ]
  },
  {
   "cell_type": "code",
   "execution_count": 10,
   "metadata": {
    "colab": {
     "base_uri": "https://localhost:8080/",
     "height": 268
    },
    "id": "wyxWsfUnP8lM",
    "outputId": "b8075952-c8f0-4390-aecc-eafa2896777c"
   },
   "outputs": [
    {
     "data": {
      "image/png": "[encoded data removed]",
      "text/plain": [
       "<Figure size 432x288 with 1 Axes>"
      ]
     },
     "metadata": {
      "needs_background": "light"
     },
     "output_type": "display_data"
    }
   ],
   "source": [
    "plt.hist(decision, bins=100)\n",
    "plt.show()"
   ]
  },
  {
   "cell_type": "markdown",
   "metadata": {
    "id": "ZwtHbfryVYx_"
   },
   "source": [
    "On remarque une rupture juste avant -0.10 dans la distribution des valeurs. On va donc retenir -0.095 comme la valeur de décision seuil entre les valeurs normales et les valeurs aberrantes"
   ]
  },
  {
   "cell_type": "code",
   "execution_count": 11,
   "metadata": {
    "id": "pQQbMjzDQBML"
   },
   "outputs": [],
   "source": [
    "anomalie2 = decision.copy()\n",
    "anomalie2[decision<=-0.095] = 1\n",
    "anomalie2[decision>-0.095] = 0"
   ]
  },
  {
   "cell_type": "code",
   "execution_count": 12,
   "metadata": {
    "colab": {
     "base_uri": "https://localhost:8080/",
     "height": 265
    },
    "id": "cb9E8bdtRjle",
    "outputId": "7f4d046e-09d8-4241-d99d-6521b93f2f0a"
   },
   "outputs": [
    {
     "data": {
      "image/png": "[encoded data removed]",
      "text/plain": [
       "<Figure size 432x288 with 1 Axes>"
      ]
     },
     "metadata": {
      "needs_background": "light"
     },
     "output_type": "display_data"
    }
   ],
   "source": [
    "plt.scatter(X[:,0], X[:,1], c=anomalie2)\n",
    "plt.show()"
   ]
  },
  {
   "cell_type": "markdown",
   "metadata": {
    "id": "AGSV5vlUVm_B"
   },
   "source": [
    "Il semblerait cette fois ci que nous sommes parvenus à détecter l'ensemble des valeurs aberrantes. Toutefois nous en détections 11 avec le seuil de décision choisi. En effet on remarque dans l'oreil droite une valeur qui ne devrait peut être pas aberrante. Nous avons ainsi réalisé une détection d'anomalies très pertinentes à l'aide de la procédure non supervisé Isolation Forest."
   ]
  },
  {
   "cell_type": "markdown",
   "metadata": {
    "id": "7L1YhgoefkwC"
   },
   "source": [
    "## Jeu de données Cartes de crédit\n",
    "\n",
    "Pour des raisons de confidentialité, les variables explicatives de ce jeu données sont le résultats d'une transformation par ACP et les variables originales ne sont pas fournies. À cela s'ajoute deux variables Time et Amount. Nous ne tiendrons pas compte de la variable Time ici."
   ]
  },
  {
   "cell_type": "code",
   "execution_count": 33,
   "metadata": {
    "id": "oIb8DKQofiOl"
   },
   "outputs": [],
   "source": [
    "credit_data = pd.read_csv('./creditcard.csv')"
   ]
  },
  {
   "cell_type": "code",
   "execution_count": 34,
   "metadata": {
    "colab": {
     "base_uri": "https://localhost:8080/",
     "height": 226
    },
    "id": "ZLYAcmQmfwRv",
    "outputId": "eee4a7c4-0024-45c5-9e33-abde6bc2675e"
   },
   "outputs": [
    {
     "data": {
      "text/html": [
       "<div>\n",
       "<style scoped>\n",
       "    .dataframe tbody tr th:only-of-type {\n",
       "        vertical-align: middle;\n",
       "    }\n",
       "\n",
       "    .dataframe tbody tr th {\n",
       "        vertical-align: top;\n",
       "    }\n",
       "\n",
       "    .dataframe thead th {\n",
       "        text-align: right;\n",
       "    }\n",
       "</style>\n",
       "<table border=\"1\" class=\"dataframe\">\n",
       "  <thead>\n",
       "    <tr style=\"text-align: right;\">\n",
       "      <th></th>\n",
       "      <th>Time</th>\n",
       "      <th>V1</th>\n",
       "      <th>V2</th>\n",
       "      <th>V3</th>\n",
       "      <th>V4</th>\n",
       "      <th>V5</th>\n",
       "      <th>V6</th>\n",
       "      <th>V7</th>\n",
       "      <th>V8</th>\n",
       "      <th>V9</th>\n",
       "      <th>...</th>\n",
       "      <th>V21</th>\n",
       "      <th>V22</th>\n",
       "      <th>V23</th>\n",
       "      <th>V24</th>\n",
       "      <th>V25</th>\n",
       "      <th>V26</th>\n",
       "      <th>V27</th>\n",
       "      <th>V28</th>\n",
       "      <th>Amount</th>\n",
       "      <th>Class</th>\n",
       "    </tr>\n",
       "  </thead>\n",
       "  <tbody>\n",
       "    <tr>\n",
       "      <td>0</td>\n",
       "      <td>0.0</td>\n",
       "      <td>-1.359807</td>\n",
       "      <td>-0.072781</td>\n",
       "      <td>2.536347</td>\n",
       "      <td>1.378155</td>\n",
       "      <td>-0.338321</td>\n",
       "      <td>0.462388</td>\n",
       "      <td>0.239599</td>\n",
       "      <td>0.098698</td>\n",
       "      <td>0.363787</td>\n",
       "      <td>...</td>\n",
       "      <td>-0.018307</td>\n",
       "      <td>0.277838</td>\n",
       "      <td>-0.110474</td>\n",
       "      <td>0.066928</td>\n",
       "      <td>0.128539</td>\n",
       "      <td>-0.189115</td>\n",
       "      <td>0.133558</td>\n",
       "      <td>-0.021053</td>\n",
       "      <td>149.62</td>\n",
       "      <td>0</td>\n",
       "    </tr>\n",
       "    <tr>\n",
       "      <td>1</td>\n",
       "      <td>0.0</td>\n",
       "      <td>1.191857</td>\n",
       "      <td>0.266151</td>\n",
       "      <td>0.166480</td>\n",
       "      <td>0.448154</td>\n",
       "      <td>0.060018</td>\n",
       "      <td>-0.082361</td>\n",
       "      <td>-0.078803</td>\n",
       "      <td>0.085102</td>\n",
       "      <td>-0.255425</td>\n",
       "      <td>...</td>\n",
       "      <td>-0.225775</td>\n",
       "      <td>-0.638672</td>\n",
       "      <td>0.101288</td>\n",
       "      <td>-0.339846</td>\n",
       "      <td>0.167170</td>\n",
       "      <td>0.125895</td>\n",
       "      <td>-0.008983</td>\n",
       "      <td>0.014724</td>\n",
       "      <td>2.69</td>\n",
       "      <td>0</td>\n",
       "    </tr>\n",
       "    <tr>\n",
       "      <td>2</td>\n",
       "      <td>1.0</td>\n",
       "      <td>-1.358354</td>\n",
       "      <td>-1.340163</td>\n",
       "      <td>1.773209</td>\n",
       "      <td>0.379780</td>\n",
       "      <td>-0.503198</td>\n",
       "      <td>1.800499</td>\n",
       "      <td>0.791461</td>\n",
       "      <td>0.247676</td>\n",
       "      <td>-1.514654</td>\n",
       "      <td>...</td>\n",
       "      <td>0.247998</td>\n",
       "      <td>0.771679</td>\n",
       "      <td>0.909412</td>\n",
       "      <td>-0.689281</td>\n",
       "      <td>-0.327642</td>\n",
       "      <td>-0.139097</td>\n",
       "      <td>-0.055353</td>\n",
       "      <td>-0.059752</td>\n",
       "      <td>378.66</td>\n",
       "      <td>0</td>\n",
       "    </tr>\n",
       "    <tr>\n",
       "      <td>3</td>\n",
       "      <td>1.0</td>\n",
       "      <td>-0.966272</td>\n",
       "      <td>-0.185226</td>\n",
       "      <td>1.792993</td>\n",
       "      <td>-0.863291</td>\n",
       "      <td>-0.010309</td>\n",
       "      <td>1.247203</td>\n",
       "      <td>0.237609</td>\n",
       "      <td>0.377436</td>\n",
       "      <td>-1.387024</td>\n",
       "      <td>...</td>\n",
       "      <td>-0.108300</td>\n",
       "      <td>0.005274</td>\n",
       "      <td>-0.190321</td>\n",
       "      <td>-1.175575</td>\n",
       "      <td>0.647376</td>\n",
       "      <td>-0.221929</td>\n",
       "      <td>0.062723</td>\n",
       "      <td>0.061458</td>\n",
       "      <td>123.50</td>\n",
       "      <td>0</td>\n",
       "    </tr>\n",
       "    <tr>\n",
       "      <td>4</td>\n",
       "      <td>2.0</td>\n",
       "      <td>-1.158233</td>\n",
       "      <td>0.877737</td>\n",
       "      <td>1.548718</td>\n",
       "      <td>0.403034</td>\n",
       "      <td>-0.407193</td>\n",
       "      <td>0.095921</td>\n",
       "      <td>0.592941</td>\n",
       "      <td>-0.270533</td>\n",
       "      <td>0.817739</td>\n",
       "      <td>...</td>\n",
       "      <td>-0.009431</td>\n",
       "      <td>0.798278</td>\n",
       "      <td>-0.137458</td>\n",
       "      <td>0.141267</td>\n",
       "      <td>-0.206010</td>\n",
       "      <td>0.502292</td>\n",
       "      <td>0.219422</td>\n",
       "      <td>0.215153</td>\n",
       "      <td>69.99</td>\n",
       "      <td>0</td>\n",
       "    </tr>\n",
       "  </tbody>\n",
       "</table>\n",
       "<p>5 rows × 31 columns</p>\n",
       "</div>"
      ],
      "text/plain": [
       "   Time        V1        V2        V3        V4        V5        V6        V7  \\\n",
       "0   0.0 -1.359807 -0.072781  2.536347  1.378155 -0.338321  0.462388  0.239599   \n",
       "1   0.0  1.191857  0.266151  0.166480  0.448154  0.060018 -0.082361 -0.078803   \n",
       "2   1.0 -1.358354 -1.340163  1.773209  0.379780 -0.503198  1.800499  0.791461   \n",
       "3   1.0 -0.966272 -0.185226  1.792993 -0.863291 -0.010309  1.247203  0.237609   \n",
       "4   2.0 -1.158233  0.877737  1.548718  0.403034 -0.407193  0.095921  0.592941   \n",
       "\n",
       "         V8        V9  ...       V21       V22       V23       V24       V25  \\\n",
       "0  0.098698  0.363787  ... -0.018307  0.277838 -0.110474  0.066928  0.128539   \n",
       "1  0.085102 -0.255425  ... -0.225775 -0.638672  0.101288 -0.339846  0.167170   \n",
       "2  0.247676 -1.514654  ...  0.247998  0.771679  0.909412 -0.689281 -0.327642   \n",
       "3  0.377436 -1.387024  ... -0.108300  0.005274 -0.190321 -1.175575  0.647376   \n",
       "4 -0.270533  0.817739  ... -0.009431  0.798278 -0.137458  0.141267 -0.206010   \n",
       "\n",
       "        V26       V27       V28  Amount  Class  \n",
       "0 -0.189115  0.133558 -0.021053  149.62      0  \n",
       "1  0.125895 -0.008983  0.014724    2.69      0  \n",
       "2 -0.139097 -0.055353 -0.059752  378.66      0  \n",
       "3 -0.221929  0.062723  0.061458  123.50      0  \n",
       "4  0.502292  0.219422  0.215153   69.99      0  \n",
       "\n",
       "[5 rows x 31 columns]"
      ]
     },
     "execution_count": 34,
     "metadata": {},
     "output_type": "execute_result"
    }
   ],
   "source": [
    "credit_data.head()"
   ]
  },
  {
   "cell_type": "markdown",
   "metadata": {
    "id": "Bjp1vhLmh3I-"
   },
   "source": [
    "### Préparation du jeu de données\n",
    "\n",
    "Nous allons redimensionner le jeu de données en ne gardant que 5000 transactions normales et toutes les transactions aberrantes. De plus nous allons enlever la variable Time."
   ]
  },
  {
   "cell_type": "code",
   "execution_count": 35,
   "metadata": {
    "colab": {
     "base_uri": "https://localhost:8080/",
     "height": 444
    },
    "id": "PHXR5TaCfx2F",
    "outputId": "939dbdf0-045a-49be-e5f3-ea6c1fb5995e"
   },
   "outputs": [
    {
     "data": {
      "text/html": [
       "<div>\n",
       "<style scoped>\n",
       "    .dataframe tbody tr th:only-of-type {\n",
       "        vertical-align: middle;\n",
       "    }\n",
       "\n",
       "    .dataframe tbody tr th {\n",
       "        vertical-align: top;\n",
       "    }\n",
       "\n",
       "    .dataframe thead th {\n",
       "        text-align: right;\n",
       "    }\n",
       "</style>\n",
       "<table border=\"1\" class=\"dataframe\">\n",
       "  <thead>\n",
       "    <tr style=\"text-align: right;\">\n",
       "      <th></th>\n",
       "      <th>V1</th>\n",
       "      <th>V2</th>\n",
       "      <th>V3</th>\n",
       "      <th>V4</th>\n",
       "      <th>V5</th>\n",
       "      <th>V6</th>\n",
       "      <th>V7</th>\n",
       "      <th>V8</th>\n",
       "      <th>V9</th>\n",
       "      <th>V10</th>\n",
       "      <th>...</th>\n",
       "      <th>V21</th>\n",
       "      <th>V22</th>\n",
       "      <th>V23</th>\n",
       "      <th>V24</th>\n",
       "      <th>V25</th>\n",
       "      <th>V26</th>\n",
       "      <th>V27</th>\n",
       "      <th>V28</th>\n",
       "      <th>Amount</th>\n",
       "      <th>Class</th>\n",
       "    </tr>\n",
       "  </thead>\n",
       "  <tbody>\n",
       "    <tr>\n",
       "      <td>0</td>\n",
       "      <td>-1.359807</td>\n",
       "      <td>-0.072781</td>\n",
       "      <td>2.536347</td>\n",
       "      <td>1.378155</td>\n",
       "      <td>-0.338321</td>\n",
       "      <td>0.462388</td>\n",
       "      <td>0.239599</td>\n",
       "      <td>0.098698</td>\n",
       "      <td>0.363787</td>\n",
       "      <td>0.090794</td>\n",
       "      <td>...</td>\n",
       "      <td>-0.018307</td>\n",
       "      <td>0.277838</td>\n",
       "      <td>-0.110474</td>\n",
       "      <td>0.066928</td>\n",
       "      <td>0.128539</td>\n",
       "      <td>-0.189115</td>\n",
       "      <td>0.133558</td>\n",
       "      <td>-0.021053</td>\n",
       "      <td>149.62</td>\n",
       "      <td>0</td>\n",
       "    </tr>\n",
       "    <tr>\n",
       "      <td>1</td>\n",
       "      <td>1.191857</td>\n",
       "      <td>0.266151</td>\n",
       "      <td>0.166480</td>\n",
       "      <td>0.448154</td>\n",
       "      <td>0.060018</td>\n",
       "      <td>-0.082361</td>\n",
       "      <td>-0.078803</td>\n",
       "      <td>0.085102</td>\n",
       "      <td>-0.255425</td>\n",
       "      <td>-0.166974</td>\n",
       "      <td>...</td>\n",
       "      <td>-0.225775</td>\n",
       "      <td>-0.638672</td>\n",
       "      <td>0.101288</td>\n",
       "      <td>-0.339846</td>\n",
       "      <td>0.167170</td>\n",
       "      <td>0.125895</td>\n",
       "      <td>-0.008983</td>\n",
       "      <td>0.014724</td>\n",
       "      <td>2.69</td>\n",
       "      <td>0</td>\n",
       "    </tr>\n",
       "    <tr>\n",
       "      <td>2</td>\n",
       "      <td>-1.358354</td>\n",
       "      <td>-1.340163</td>\n",
       "      <td>1.773209</td>\n",
       "      <td>0.379780</td>\n",
       "      <td>-0.503198</td>\n",
       "      <td>1.800499</td>\n",
       "      <td>0.791461</td>\n",
       "      <td>0.247676</td>\n",
       "      <td>-1.514654</td>\n",
       "      <td>0.207643</td>\n",
       "      <td>...</td>\n",
       "      <td>0.247998</td>\n",
       "      <td>0.771679</td>\n",
       "      <td>0.909412</td>\n",
       "      <td>-0.689281</td>\n",
       "      <td>-0.327642</td>\n",
       "      <td>-0.139097</td>\n",
       "      <td>-0.055353</td>\n",
       "      <td>-0.059752</td>\n",
       "      <td>378.66</td>\n",
       "      <td>0</td>\n",
       "    </tr>\n",
       "    <tr>\n",
       "      <td>3</td>\n",
       "      <td>-0.966272</td>\n",
       "      <td>-0.185226</td>\n",
       "      <td>1.792993</td>\n",
       "      <td>-0.863291</td>\n",
       "      <td>-0.010309</td>\n",
       "      <td>1.247203</td>\n",
       "      <td>0.237609</td>\n",
       "      <td>0.377436</td>\n",
       "      <td>-1.387024</td>\n",
       "      <td>-0.054952</td>\n",
       "      <td>...</td>\n",
       "      <td>-0.108300</td>\n",
       "      <td>0.005274</td>\n",
       "      <td>-0.190321</td>\n",
       "      <td>-1.175575</td>\n",
       "      <td>0.647376</td>\n",
       "      <td>-0.221929</td>\n",
       "      <td>0.062723</td>\n",
       "      <td>0.061458</td>\n",
       "      <td>123.50</td>\n",
       "      <td>0</td>\n",
       "    </tr>\n",
       "    <tr>\n",
       "      <td>4</td>\n",
       "      <td>-1.158233</td>\n",
       "      <td>0.877737</td>\n",
       "      <td>1.548718</td>\n",
       "      <td>0.403034</td>\n",
       "      <td>-0.407193</td>\n",
       "      <td>0.095921</td>\n",
       "      <td>0.592941</td>\n",
       "      <td>-0.270533</td>\n",
       "      <td>0.817739</td>\n",
       "      <td>0.753074</td>\n",
       "      <td>...</td>\n",
       "      <td>-0.009431</td>\n",
       "      <td>0.798278</td>\n",
       "      <td>-0.137458</td>\n",
       "      <td>0.141267</td>\n",
       "      <td>-0.206010</td>\n",
       "      <td>0.502292</td>\n",
       "      <td>0.219422</td>\n",
       "      <td>0.215153</td>\n",
       "      <td>69.99</td>\n",
       "      <td>0</td>\n",
       "    </tr>\n",
       "  </tbody>\n",
       "</table>\n",
       "<p>5 rows × 30 columns</p>\n",
       "</div>"
      ],
      "text/plain": [
       "         V1        V2        V3        V4        V5        V6        V7  \\\n",
       "0 -1.359807 -0.072781  2.536347  1.378155 -0.338321  0.462388  0.239599   \n",
       "1  1.191857  0.266151  0.166480  0.448154  0.060018 -0.082361 -0.078803   \n",
       "2 -1.358354 -1.340163  1.773209  0.379780 -0.503198  1.800499  0.791461   \n",
       "3 -0.966272 -0.185226  1.792993 -0.863291 -0.010309  1.247203  0.237609   \n",
       "4 -1.158233  0.877737  1.548718  0.403034 -0.407193  0.095921  0.592941   \n",
       "\n",
       "         V8        V9       V10  ...       V21       V22       V23       V24  \\\n",
       "0  0.098698  0.363787  0.090794  ... -0.018307  0.277838 -0.110474  0.066928   \n",
       "1  0.085102 -0.255425 -0.166974  ... -0.225775 -0.638672  0.101288 -0.339846   \n",
       "2  0.247676 -1.514654  0.207643  ...  0.247998  0.771679  0.909412 -0.689281   \n",
       "3  0.377436 -1.387024 -0.054952  ... -0.108300  0.005274 -0.190321 -1.175575   \n",
       "4 -0.270533  0.817739  0.753074  ... -0.009431  0.798278 -0.137458  0.141267   \n",
       "\n",
       "        V25       V26       V27       V28  Amount  Class  \n",
       "0  0.128539 -0.189115  0.133558 -0.021053  149.62      0  \n",
       "1  0.167170  0.125895 -0.008983  0.014724    2.69      0  \n",
       "2 -0.327642 -0.139097 -0.055353 -0.059752  378.66      0  \n",
       "3  0.647376 -0.221929  0.062723  0.061458  123.50      0  \n",
       "4 -0.206010  0.502292  0.219422  0.215153   69.99      0  \n",
       "\n",
       "[5 rows x 30 columns]"
      ]
     },
     "execution_count": 35,
     "metadata": {},
     "output_type": "execute_result"
    }
   ],
   "source": [
    "credit_data = credit_data.drop('Time', axis=1)\n",
    "credit_data.head()"
   ]
  },
  {
   "cell_type": "code",
   "execution_count": 36,
   "metadata": {
    "colab": {
     "base_uri": "https://localhost:8080/",
     "height": 163
    },
    "id": "m1_CnfJJirp0",
    "outputId": "e16bbfc9-0cf9-4453-a093-23374fc2491d"
   },
   "outputs": [
    {
     "data": {
      "text/html": [
       "<div>\n",
       "<style scoped>\n",
       "    .dataframe tbody tr th:only-of-type {\n",
       "        vertical-align: middle;\n",
       "    }\n",
       "\n",
       "    .dataframe tbody tr th {\n",
       "        vertical-align: top;\n",
       "    }\n",
       "\n",
       "    .dataframe thead th {\n",
       "        text-align: right;\n",
       "    }\n",
       "</style>\n",
       "<table border=\"1\" class=\"dataframe\">\n",
       "  <thead>\n",
       "    <tr style=\"text-align: right;\">\n",
       "      <th></th>\n",
       "      <th>V1</th>\n",
       "      <th>V2</th>\n",
       "      <th>V3</th>\n",
       "      <th>V4</th>\n",
       "      <th>V5</th>\n",
       "      <th>V6</th>\n",
       "      <th>V7</th>\n",
       "      <th>V8</th>\n",
       "      <th>V9</th>\n",
       "      <th>V10</th>\n",
       "      <th>...</th>\n",
       "      <th>V20</th>\n",
       "      <th>V21</th>\n",
       "      <th>V22</th>\n",
       "      <th>V23</th>\n",
       "      <th>V24</th>\n",
       "      <th>V25</th>\n",
       "      <th>V26</th>\n",
       "      <th>V27</th>\n",
       "      <th>V28</th>\n",
       "      <th>Amount</th>\n",
       "    </tr>\n",
       "    <tr>\n",
       "      <th>Class</th>\n",
       "      <th></th>\n",
       "      <th></th>\n",
       "      <th></th>\n",
       "      <th></th>\n",
       "      <th></th>\n",
       "      <th></th>\n",
       "      <th></th>\n",
       "      <th></th>\n",
       "      <th></th>\n",
       "      <th></th>\n",
       "      <th></th>\n",
       "      <th></th>\n",
       "      <th></th>\n",
       "      <th></th>\n",
       "      <th></th>\n",
       "      <th></th>\n",
       "      <th></th>\n",
       "      <th></th>\n",
       "      <th></th>\n",
       "      <th></th>\n",
       "      <th></th>\n",
       "    </tr>\n",
       "  </thead>\n",
       "  <tbody>\n",
       "    <tr>\n",
       "      <td>0</td>\n",
       "      <td>284315</td>\n",
       "      <td>284315</td>\n",
       "      <td>284315</td>\n",
       "      <td>284315</td>\n",
       "      <td>284315</td>\n",
       "      <td>284315</td>\n",
       "      <td>284315</td>\n",
       "      <td>284315</td>\n",
       "      <td>284315</td>\n",
       "      <td>284315</td>\n",
       "      <td>...</td>\n",
       "      <td>284315</td>\n",
       "      <td>284315</td>\n",
       "      <td>284315</td>\n",
       "      <td>284315</td>\n",
       "      <td>284315</td>\n",
       "      <td>284315</td>\n",
       "      <td>284315</td>\n",
       "      <td>284315</td>\n",
       "      <td>284315</td>\n",
       "      <td>284315</td>\n",
       "    </tr>\n",
       "    <tr>\n",
       "      <td>1</td>\n",
       "      <td>492</td>\n",
       "      <td>492</td>\n",
       "      <td>492</td>\n",
       "      <td>492</td>\n",
       "      <td>492</td>\n",
       "      <td>492</td>\n",
       "      <td>492</td>\n",
       "      <td>492</td>\n",
       "      <td>492</td>\n",
       "      <td>492</td>\n",
       "      <td>...</td>\n",
       "      <td>492</td>\n",
       "      <td>492</td>\n",
       "      <td>492</td>\n",
       "      <td>492</td>\n",
       "      <td>492</td>\n",
       "      <td>492</td>\n",
       "      <td>492</td>\n",
       "      <td>492</td>\n",
       "      <td>492</td>\n",
       "      <td>492</td>\n",
       "    </tr>\n",
       "  </tbody>\n",
       "</table>\n",
       "<p>2 rows × 29 columns</p>\n",
       "</div>"
      ],
      "text/plain": [
       "           V1      V2      V3      V4      V5      V6      V7      V8      V9  \\\n",
       "Class                                                                           \n",
       "0      284315  284315  284315  284315  284315  284315  284315  284315  284315   \n",
       "1         492     492     492     492     492     492     492     492     492   \n",
       "\n",
       "          V10  ...     V20     V21     V22     V23     V24     V25     V26  \\\n",
       "Class          ...                                                           \n",
       "0      284315  ...  284315  284315  284315  284315  284315  284315  284315   \n",
       "1         492  ...     492     492     492     492     492     492     492   \n",
       "\n",
       "          V27     V28  Amount  \n",
       "Class                          \n",
       "0      284315  284315  284315  \n",
       "1         492     492     492  \n",
       "\n",
       "[2 rows x 29 columns]"
      ]
     },
     "execution_count": 36,
     "metadata": {},
     "output_type": "execute_result"
    }
   ],
   "source": [
    "credit_data.groupby('Class').count()"
   ]
  },
  {
   "cell_type": "code",
   "execution_count": 32,
   "metadata": {
    "colab": {
     "base_uri": "https://localhost:8080/",
     "height": 163
    },
    "id": "Fc8kDP0Ii3d_",
    "outputId": "4415a524-498b-4603-9ec5-7945899d5a6c"
   },
   "outputs": [
    {
     "data": {
      "text/html": [
       "<div>\n",
       "<style scoped>\n",
       "    .dataframe tbody tr th:only-of-type {\n",
       "        vertical-align: middle;\n",
       "    }\n",
       "\n",
       "    .dataframe tbody tr th {\n",
       "        vertical-align: top;\n",
       "    }\n",
       "\n",
       "    .dataframe thead th {\n",
       "        text-align: right;\n",
       "    }\n",
       "</style>\n",
       "<table border=\"1\" class=\"dataframe\">\n",
       "  <thead>\n",
       "    <tr style=\"text-align: right;\">\n",
       "      <th></th>\n",
       "      <th>V1</th>\n",
       "      <th>V2</th>\n",
       "      <th>V3</th>\n",
       "      <th>V4</th>\n",
       "      <th>V5</th>\n",
       "      <th>V6</th>\n",
       "      <th>V7</th>\n",
       "      <th>V8</th>\n",
       "      <th>V9</th>\n",
       "      <th>V10</th>\n",
       "      <th>...</th>\n",
       "      <th>V20</th>\n",
       "      <th>V21</th>\n",
       "      <th>V22</th>\n",
       "      <th>V23</th>\n",
       "      <th>V24</th>\n",
       "      <th>V25</th>\n",
       "      <th>V26</th>\n",
       "      <th>V27</th>\n",
       "      <th>V28</th>\n",
       "      <th>Amount</th>\n",
       "    </tr>\n",
       "    <tr>\n",
       "      <th>Class</th>\n",
       "      <th></th>\n",
       "      <th></th>\n",
       "      <th></th>\n",
       "      <th></th>\n",
       "      <th></th>\n",
       "      <th></th>\n",
       "      <th></th>\n",
       "      <th></th>\n",
       "      <th></th>\n",
       "      <th></th>\n",
       "      <th></th>\n",
       "      <th></th>\n",
       "      <th></th>\n",
       "      <th></th>\n",
       "      <th></th>\n",
       "      <th></th>\n",
       "      <th></th>\n",
       "      <th></th>\n",
       "      <th></th>\n",
       "      <th></th>\n",
       "      <th></th>\n",
       "    </tr>\n",
       "  </thead>\n",
       "  <tbody>\n",
       "    <tr>\n",
       "      <td>0</td>\n",
       "      <td>5000</td>\n",
       "      <td>5000</td>\n",
       "      <td>5000</td>\n",
       "      <td>5000</td>\n",
       "      <td>5000</td>\n",
       "      <td>5000</td>\n",
       "      <td>5000</td>\n",
       "      <td>5000</td>\n",
       "      <td>5000</td>\n",
       "      <td>5000</td>\n",
       "      <td>...</td>\n",
       "      <td>5000</td>\n",
       "      <td>5000</td>\n",
       "      <td>5000</td>\n",
       "      <td>5000</td>\n",
       "      <td>5000</td>\n",
       "      <td>5000</td>\n",
       "      <td>5000</td>\n",
       "      <td>5000</td>\n",
       "      <td>5000</td>\n",
       "      <td>5000</td>\n",
       "    </tr>\n",
       "    <tr>\n",
       "      <td>1</td>\n",
       "      <td>492</td>\n",
       "      <td>492</td>\n",
       "      <td>492</td>\n",
       "      <td>492</td>\n",
       "      <td>492</td>\n",
       "      <td>492</td>\n",
       "      <td>492</td>\n",
       "      <td>492</td>\n",
       "      <td>492</td>\n",
       "      <td>492</td>\n",
       "      <td>...</td>\n",
       "      <td>492</td>\n",
       "      <td>492</td>\n",
       "      <td>492</td>\n",
       "      <td>492</td>\n",
       "      <td>492</td>\n",
       "      <td>492</td>\n",
       "      <td>492</td>\n",
       "      <td>492</td>\n",
       "      <td>492</td>\n",
       "      <td>492</td>\n",
       "    </tr>\n",
       "  </tbody>\n",
       "</table>\n",
       "<p>2 rows × 29 columns</p>\n",
       "</div>"
      ],
      "text/plain": [
       "         V1    V2    V3    V4    V5    V6    V7    V8    V9   V10  ...   V20  \\\n",
       "Class                                                              ...         \n",
       "0      5000  5000  5000  5000  5000  5000  5000  5000  5000  5000  ...  5000   \n",
       "1       492   492   492   492   492   492   492   492   492   492  ...   492   \n",
       "\n",
       "        V21   V22   V23   V24   V25   V26   V27   V28  Amount  \n",
       "Class                                                          \n",
       "0      5000  5000  5000  5000  5000  5000  5000  5000    5000  \n",
       "1       492   492   492   492   492   492   492   492     492  \n",
       "\n",
       "[2 rows x 29 columns]"
      ]
     },
     "execution_count": 32,
     "metadata": {},
     "output_type": "execute_result"
    }
   ],
   "source": [
    "resampled_credit_data = credit_data[credit_data.Class==1.0].append(credit_data[credit_data.Class==0.0].sample(n=5000))\n",
    "resampled_credit_data.groupby('Class').count()"
   ]
  },
  {
   "cell_type": "code",
   "execution_count": 37,
   "metadata": {
    "id": "tJwhujJKmyB0"
   },
   "outputs": [],
   "source": [
    "X = resampled_credit_data.drop('Class',axis=1).values\n",
    "y = resampled_credit_data['Class'].values"
   ]
  },
  {
   "cell_type": "markdown",
   "metadata": {
    "id": "-Hnlxsd5lbhq"
   },
   "source": [
    "### Application de la technique Isolation Forest\n",
    "\n",
    "Tout d'abord, on va appliquer la méthode Isolation Forest avec les paramètres de base."
   ]
  },
  {
   "cell_type": "code",
   "execution_count": 38,
   "metadata": {
    "id": "E1meQP9rlAxh"
   },
   "outputs": [],
   "source": [
    "def apply_IF(X,IF):\n",
    "    IF.fit(X)\n",
    "    y_pred = IF.predict(X)\n",
    "    y_pred[y_pred==1]=0 # change 1 to 0 to fit with class\n",
    "    y_pred[y_pred<0]=1 # change -1 to 1 to fit with class\n",
    "    decision = IF.decision_function(X)\n",
    "\n",
    "    return(y_pred,decision)\n",
    "\n",
    "IF_base = IsolationForest(random_state=10)\n",
    "y_pred_base, decision_base = apply_IF(X,IF_base)"
   ]
  },
  {
   "cell_type": "code",
   "execution_count": 39,
   "metadata": {
    "colab": {
     "base_uri": "https://localhost:8080/"
    },
    "id": "yOZ0bX9-pIyK",
    "outputId": "0ef60a7a-890a-4f53-8418-22f08cdda9a0"
   },
   "outputs": [
    {
     "data": {
      "text/plain": [
       "array([[4932,   68],\n",
       "       [ 214,  278]])"
      ]
     },
     "execution_count": 39,
     "metadata": {},
     "output_type": "execute_result"
    }
   ],
   "source": [
    "from sklearn.metrics import confusion_matrix\n",
    "confusion_matrix(y, y_pred_base)"
   ]
  },
  {
   "cell_type": "markdown",
   "metadata": {
    "id": "cJsgiBFas3rJ"
   },
   "source": [
    "Calculons le Rappel et la Précision :"
   ]
  },
  {
   "cell_type": "code",
   "execution_count": 40,
   "metadata": {
    "colab": {
     "base_uri": "https://localhost:8080/"
    },
    "id": "SbyT4BWdpvcg",
    "outputId": "c5a65671-0a13-4e86-c4cd-ae8594706d86"
   },
   "outputs": [
    {
     "name": "stdout",
     "output_type": "stream",
     "text": [
      "recall : 56.5%\n",
      "precision : 80.3%\n"
     ]
    }
   ],
   "source": [
    "from sklearn.metrics import recall_score , precision_score\n",
    "\n",
    "print(\"recall : {}%\".format(round(recall_score(y, y_pred_base)*100,1)))\n",
    "print(\"precision : {}%\".format(round(precision_score(y, y_pred_base)*100,1)))"
   ]
  },
  {
   "cell_type": "markdown",
   "metadata": {
    "id": "JKWCgRJNxfvQ"
   },
   "source": [
    "Nous remarquons que la précision est plus élevée que le rappel. La valeur de rappel nous indique que seulement 56,5% des fraudes effectives sont détectées ce qui n'est pas satisfaisant car les fraudes non détectées provoquent un désagrément important chez l'usager. La valeur de précision nous intéresse un peu moins car il vaut mieux prédire une fraude qui n'en est pas une que l'inverse. D'autant plus que les faux positifs ici ne représentent qu'un faible pourcentage du nombre de transactions totales. Au lieu de regarder la précision, il serait plus judiciuex de regarder le rappel du point de vue des transactions légales. Néanmoins, il faut veiller à ce que cette valeur de précision ne soit pas trop mauvaise non plus car détecter trop de fraudes qui n'en sont pas peut entraîner une perte de crédibilité.\n",
    "\n",
    "**Ajout d'une valeur de contamination**\n",
    "\n",
    "Nous allons essayer d'améliorer ces performances en jouant sur les paramètres du modèle. Tout d'abord regardons l'effet de rajouter une valeur de contamination. Ceci suppose que nous connaissons à l'avance une estimation de la proportion de transactions frauduleuses, ce qui dans ce contexte semble possible puisque les banques doivent réaliser des statistiques de ce type."
   ]
  },
  {
   "cell_type": "code",
   "execution_count": 43,
   "metadata": {
    "colab": {
     "base_uri": "https://localhost:8080/"
    },
    "id": "XZLVLXy_zea8",
    "outputId": "90b98fee-1861-4ab1-ed1d-34d49c571564"
   },
   "outputs": [
    {
     "name": "stdout",
     "output_type": "stream",
     "text": [
      "[[4859  141]\n",
      " [ 141  351]]\n",
      "recall : 71.3%\n",
      "precision : 71.3%\n"
     ]
    }
   ],
   "source": [
    "IF = IsolationForest(contamination = 492/5492,random_state=10)\n",
    "y_pred, decision = apply_IF(X,IF)\n",
    "print(confusion_matrix(y, y_pred))\n",
    "print(\"recall : {}%\".format(round(recall_score(y, y_pred)*100,1)))\n",
    "print(\"precision : {}%\".format(round(precision_score(y, y_pred)*100,1)))"
   ]
  },
  {
   "cell_type": "markdown",
   "metadata": {
    "id": "Gy2i9inR1ssx"
   },
   "source": [
    "On remarque que l'ajout du paramètre de contamination permet d'améliorer le rappel mais on a une perte de précision. On peut sûrement encore améliorer ce rappel en jouant sur la valeur de seuil que l'on peut choisir grâce aux valeurs de décision"
   ]
  },
  {
   "cell_type": "code",
   "execution_count": 44,
   "metadata": {
    "colab": {
     "base_uri": "https://localhost:8080/",
     "height": 265
    },
    "id": "gSwhsNgVvBKn",
    "outputId": "970fe0b5-b653-47a1-da6d-72e9ed43e60d"
   },
   "outputs": [
    {
     "data": {
      "image/png": "[encoded data removed]",
      "text/plain": [
       "<Figure size 432x288 with 1 Axes>"
      ]
     },
     "metadata": {
      "needs_background": "light"
     },
     "output_type": "display_data"
    }
   ],
   "source": [
    "plt.hist(decision, bins=100)\n",
    "plt.show()"
   ]
  },
  {
   "cell_type": "code",
   "execution_count": 49,
   "metadata": {
    "id": "mGLRMQGKvjpW"
   },
   "outputs": [],
   "source": [
    "y_seuil = decision.copy()\n",
    "y_seuil[decision<0.025] = 1\n",
    "y_seuil[decision>=0.025] = 0"
   ]
  },
  {
   "cell_type": "code",
   "execution_count": 50,
   "metadata": {
    "colab": {
     "base_uri": "https://localhost:8080/"
    },
    "id": "YAfyvhN2u9vs",
    "outputId": "1a892090-6e1e-4d84-8020-5606d9e46674"
   },
   "outputs": [
    {
     "name": "stdout",
     "output_type": "stream",
     "text": [
      "[[4735  265]\n",
      " [  91  401]]\n",
      "recall : 81.5%\n",
      "precision : 60.2%\n"
     ]
    }
   ],
   "source": [
    "print(confusion_matrix(y, y_seuil))\n",
    "print(\"recall : {}%\".format(round(recall_score(y, y_seuil)*100,1)))\n",
    "print(\"precision : {}%\".format(round(precision_score(y, y_seuil)*100,1)))"
   ]
  },
  {
   "cell_type": "markdown",
   "metadata": {
    "id": "ahISO7hf2aQe"
   },
   "source": [
    "En augmentant le seuil de décision, on arrive à augmenter la valeur de rappel, néanmoins on observe une dégradation de la précision ce qui est logique. On peut peut-être améliorer les performances de l'algorithme en faisant varier le nombre d'arbres utilisés."
   ]
  },
  {
   "cell_type": "code",
   "execution_count": 51,
   "metadata": {
    "colab": {
     "base_uri": "https://localhost:8080/"
    },
    "id": "hRWC-xybpydK",
    "outputId": "d20408b3-2100-4121-e5d4-500a22f7ca82"
   },
   "outputs": [
    {
     "name": "stdout",
     "output_type": "stream",
     "text": [
      "[[4854  146]\n",
      " [ 146  346]]\n",
      "recall : 70.3%\n",
      "precision : 70.3%\n"
     ]
    }
   ],
   "source": [
    "IF = IsolationForest(n_estimators = 500,contamination = 492/5492,random_state=10)\n",
    "y_pred, decision = apply_IF(X,IF)\n",
    "print(confusion_matrix(y, y_pred))\n",
    "print(\"recall : {}%\".format(round(recall_score(y, y_pred)*100,1)))\n",
    "print(\"precision : {}%\".format(round(precision_score(y, y_pred)*100,1)))"
   ]
  },
  {
   "cell_type": "code",
   "execution_count": 52,
   "metadata": {
    "colab": {
     "base_uri": "https://localhost:8080/",
     "height": 266
    },
    "id": "0V4FlWSfs9cQ",
    "outputId": "fa94bf70-5f2d-4b22-e288-62cf96233a11"
   },
   "outputs": [
    {
     "data": {
      "image/png": "[encoded data removed]",
      "text/plain": [
       "<Figure size 432x288 with 1 Axes>"
      ]
     },
     "metadata": {
      "needs_background": "light"
     },
     "output_type": "display_data"
    }
   ],
   "source": [
    "plt.hist(decision, bins=100)\n",
    "plt.show()"
   ]
  },
  {
   "cell_type": "code",
   "execution_count": 53,
   "metadata": {
    "colab": {
     "base_uri": "https://localhost:8080/"
    },
    "id": "Nt-stZCV4fZu",
    "outputId": "c60d3a5c-17f7-417f-a42e-1f6ec14b8b0e"
   },
   "outputs": [
    {
     "name": "stdout",
     "output_type": "stream",
     "text": [
      "[[4741  259]\n",
      " [  95  397]]\n",
      "recall : 80.7%\n",
      "precision : 60.5%\n"
     ]
    }
   ],
   "source": [
    "y_seuil = decision.copy()\n",
    "y_seuil[decision<0.025] = 1\n",
    "y_seuil[decision>=0.025] = 0\n",
    "print(confusion_matrix(y, y_seuil))\n",
    "print(\"recall : {}%\".format(round(recall_score(y, y_seuil)*100,1)))\n",
    "print(\"precision : {}%\".format(round(precision_score(y, y_seuil)*100,1)))"
   ]
  },
  {
   "cell_type": "markdown",
   "metadata": {
    "id": "ULjXy_XE4lhW"
   },
   "source": [
    "Il semblerait que l'augmentation du nombre d'arbres ne permette pas d'améliorer les performances. Pour tuner au mieux les paramètres à cette application, il faudrait qu'on connaisse le *coût* d'une fraude et de faire varier les nombre d'arbres et le seuil pour optimiser, c'est-à-dire obtenir la valeur de rappel maximale sans avoir une précision trop mauvaise. On pourrait imaginer que le prestataire nous impose un nombre de fraudes minimales à détecter, ce qui imposerait une valeur de rappel minimale."
   ]
  },
  {
   "cell_type": "code",
   "execution_count": null,
   "metadata": {},
   "outputs": [],
   "source": []
  }
 ],
 "metadata": {
  "colab": {
   "collapsed_sections": [],
   "name": "TP2_DA.ipynb",
   "provenance": [],
   "toc_visible": true
  },
  "kernelspec": {
   "display_name": "Python 3",
   "language": "python",
   "name": "python3"
  },
  "language_info": {
   "codemirror_mode": {
    "name": "ipython",
    "version": 3
   },
   "file_extension": ".py",
   "mimetype": "text/x-python",
   "name": "python",
   "nbconvert_exporter": "python",
   "pygments_lexer": "ipython3",
   "version": "3.7.4"
  },
  "toc": {
   "base_numbering": 1,
   "nav_menu": {},
   "number_sections": true,
   "sideBar": true,
   "skip_h1_title": true,
   "title_cell": "Table of Contents",
   "title_sidebar": "Contents",
   "toc_cell": true,
   "toc_position": {},
   "toc_section_display": true,
   "toc_window_display": true
  }
 },
 "nbformat": 4,
 "nbformat_minor": 1
}
